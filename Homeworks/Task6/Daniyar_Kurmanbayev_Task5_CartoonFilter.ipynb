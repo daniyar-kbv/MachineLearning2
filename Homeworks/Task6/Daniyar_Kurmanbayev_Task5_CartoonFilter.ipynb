{
 "cells": [
  {
   "cell_type": "markdown",
   "metadata": {},
   "source": [
    "# ASSIGNMENT: Cartoon Face Mask\n",
    "## This assignment tests your ability to apply face recognition, image masks, image thresholding, video capturing and saving video feed into a video file concepts."
   ]
  },
  {
   "cell_type": "markdown",
   "metadata": {},
   "source": [
    "## TASK: Cartoonify faces in video feed from live webcam\n",
    "\n",
    "### Steps\n",
    "- 1. **Capture video** feed from webcam\n",
    "- 2. **Recognize faces** in the video\n",
    "- 3. **Replace/Mask the face** region with your favorite cartoon character\n",
    "- 4. **Save the video** feed into a video file\n",
    "- 5. Submit the following files\n",
    "    - Notebook (.ipynb)\n",
    "    - Video (.avi/.mp4)"
   ]
  },
  {
   "cell_type": "markdown",
   "metadata": {},
   "source": [
    "### Helper code to recognize faces"
   ]
  },
  {
   "cell_type": "code",
   "execution_count": 1,
   "metadata": {
    "pycharm": {
     "name": "#%%\n"
    }
   },
   "outputs": [
    {
     "name": "stderr",
     "output_type": "stream",
     "text": [
      "OpenCV: FFMPEG: tag 0x44495658/'XVID' is not supported with codec id 12 and format 'mp4 / MP4 (MPEG-4 Part 14)'\n",
      "OpenCV: FFMPEG: fallback to use tag 0x7634706d/'mp4v'\n"
     ]
    }
   ],
   "source": [
    "import numpy as np\n",
    "import cv2\n",
    "import os\n",
    "\n",
    "class FaceMasker:\n",
    "    recording_fps = 30\n",
    "\n",
    "    __faceCascade = cv2.CascadeClassifier(os.path.dirname(cv2.__file__) + \"/data/haarcascade_frontalface_alt2.xml\")\n",
    "    __video_capture = None\n",
    "    __scale = 1\n",
    "    __video_writer = None\n",
    "\n",
    "    # faces recognition\n",
    "    def __get_faces(self, frame):\n",
    "        gray = cv2.cvtColor(frame, cv2.COLOR_BGR2GRAY)\n",
    "        return self.__faceCascade.detectMultiScale(gray,\n",
    "                                             scaleFactor=1.1,\n",
    "                                             minNeighbors=5,\n",
    "                                             minSize=(60, 60),\n",
    "                                             flags=cv2.CASCADE_SCALE_IMAGE)\n",
    "\n",
    "    def __mask(self, frame, faces, mask):\n",
    "        # resize the mask to face size\n",
    "        def resize(image, size):\n",
    "            r = size / image.shape[1]\n",
    "            dim = (size, int(image.shape[0] * r))\n",
    "            return cv2.resize(image, dim, interpolation = cv2.INTER_AREA)\n",
    "\n",
    "        # creating the mask using thresholding\n",
    "        def get_inv_thresh(image):\n",
    "            gray = cv2.cvtColor(image, cv2.COLOR_BGR2GRAY)\n",
    "            blurred = cv2.GaussianBlur(gray, (5, 5), 0)\n",
    "            _, thresh = cv2.threshold(blurred, 0, 255, cv2.THRESH_BINARY_INV)\n",
    "            return thresh\n",
    "\n",
    "        # applying the mask to the frame\n",
    "        def merge(image, thresh, mask):\n",
    "            background = image\n",
    "            background = cv2.bitwise_and(background, background, mask=thresh)\n",
    "            return cv2.bitwise_or(background, mask)\n",
    "\n",
    "        for (x,y,w,h) in faces:\n",
    "            scaled = int(w * self.__scale)\n",
    "            resized_mask = resize(mask, scaled)\n",
    "\n",
    "            # rescale the image origin to cover the whole face\n",
    "            offset = int(((scaled - w) / 2))\n",
    "            x1, y1, = x - offset, y - offset\n",
    "            x2, y2 = x1 + scaled, y1 + scaled\n",
    "\n",
    "            # if the mask is inside the frame\n",
    "            if 0 < x1 < frame.shape[1] and \\\n",
    "                0 < x2 < frame.shape[1] and \\\n",
    "                0 < y1 < frame.shape[0] and \\\n",
    "                0 < y2 < frame.shape[0]:\n",
    "                thresh = get_inv_thresh(resized_mask)\n",
    "                frame[y1:y2, x1:x2] = merge(frame[y1:y2, x1:x2], thresh, resized_mask)\n",
    "\n",
    "        return frame\n",
    "\n",
    "    # create video writer for recording\n",
    "    def prepare_recording(self, path):\n",
    "        width = self.__video_capture.get(cv2.CAP_PROP_FRAME_WIDTH)\n",
    "        height = self.__video_capture.get(cv2.CAP_PROP_FRAME_HEIGHT)\n",
    "        fourcc = cv2.VideoWriter_fourcc(*\"XVID\")\n",
    "        self.__video_writer = cv2.VideoWriter(path, fourcc, self.recording_fps, (int(width), int(height)))\n",
    "\n",
    "    # main method for the usage\n",
    "    def start(self, mask, scale, recording_path=None):\n",
    "        self.__scale = scale\n",
    "        self.__video_capture = cv2.VideoCapture(0)\n",
    "\n",
    "        if recording_path:\n",
    "            self.prepare_recording(recording_path)\n",
    "\n",
    "        while self.__video_capture.isOpened():\n",
    "            _, frame = self.__video_capture.read()\n",
    "            frame = cv2.flip(frame, 1)\n",
    "            faces = self.__get_faces(frame)\n",
    "            frame = self.__mask(frame, faces, mask)\n",
    "\n",
    "            if recording_path:\n",
    "                self.__video_writer.write(frame)\n",
    "\n",
    "            cv2.imshow('Face Video', frame)\n",
    "            if cv2.waitKey(1) & 0xFF == ord('q'):\n",
    "                break\n",
    "\n",
    "        if recording_path:\n",
    "            self.__video_writer.release()\n",
    "\n",
    "        self.__video_capture.release()\n",
    "        cv2.destroyAllWindows()\n",
    "        cv2.waitKey(1)\n",
    "\n",
    "mask = cv2.imread('Daniyar_Kurmanbayev_Task5_CartoonFilter.png')\n",
    "face_masker = FaceMasker()\n",
    "face_masker.start(mask, 1.8, 'Daniyar_Kurmanbayev_Task5_CartoonFilter.mp4')\n"
   ]
  }
 ],
 "metadata": {
  "kernelspec": {
   "name": "python3",
   "language": "python",
   "display_name": "Python 3 (ipykernel)"
  },
  "language_info": {
   "codemirror_mode": {
    "name": "ipython",
    "version": 3
   },
   "file_extension": ".py",
   "mimetype": "text/x-python",
   "name": "python",
   "nbconvert_exporter": "python",
   "pygments_lexer": "ipython3",
   "version": "3.8.5"
  }
 },
 "nbformat": 4,
 "nbformat_minor": 4
}