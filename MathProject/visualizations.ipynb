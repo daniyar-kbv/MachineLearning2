{
 "cells": [
  {
   "cell_type": "code",
   "execution_count": 116,
   "metadata": {
    "collapsed": true
   },
   "outputs": [],
   "source": [
    "from sklearn.decomposition import TruncatedSVD\n",
    "from sklearn.feature_extraction.text import TfidfVectorizer\n",
    "from sklearn.pipeline import Pipeline\n",
    "import pandas as pd\n",
    "import cufflinks as cf\n",
    "import numpy as np\n",
    "import joblib\n",
    "import pickle\n",
    "\n",
    "%matplotlib inline\n",
    "import matplotlib.pyplot as plt"
   ]
  },
  {
   "cell_type": "code",
   "execution_count": 68,
   "outputs": [
    {
     "data": {
      "text/html": "        <script type=\"text/javascript\">\n        window.PlotlyConfig = {MathJaxConfig: 'local'};\n        if (window.MathJax) {MathJax.Hub.Config({SVG: {font: \"STIX-Web\"}});}\n        if (typeof require !== 'undefined') {\n        require.undef(\"plotly\");\n        requirejs.config({\n            paths: {\n                'plotly': ['https://cdn.plot.ly/plotly-2.4.2.min']\n            }\n        });\n        require(['plotly'], function(Plotly) {\n            window._Plotly = Plotly;\n        });\n        }\n        </script>\n        "
     },
     "metadata": {},
     "output_type": "display_data"
    }
   ],
   "source": [
    "cf.go_offline()\n",
    "cf.set_config_file(offline=False, world_readable=True)"
   ],
   "metadata": {
    "collapsed": false,
    "pycharm": {
     "name": "#%%\n"
    }
   }
  },
  {
   "cell_type": "code",
   "execution_count": 3,
   "outputs": [],
   "source": [
    "pipeline: Pipeline = joblib.load('model.joblib')"
   ],
   "metadata": {
    "collapsed": false,
    "pycharm": {
     "name": "#%%\n"
    }
   }
  },
  {
   "cell_type": "code",
   "execution_count": 4,
   "outputs": [],
   "source": [
    "with open(\"data_preprocessed/true.txt\", \"rb\") as fp:   # Unpickling\n",
    "    true_data = pickle.load(fp)\n",
    "\n",
    "with open(\"data_preprocessed/fake.txt\", \"rb\") as fp:   # Unpickling\n",
    "    false_data = pickle.load(fp)"
   ],
   "metadata": {
    "collapsed": false,
    "pycharm": {
     "name": "#%%\n"
    }
   }
  },
  {
   "cell_type": "code",
   "execution_count": 10,
   "outputs": [],
   "source": [
    "all_data = true_data + false_data"
   ],
   "metadata": {
    "collapsed": false,
    "pycharm": {
     "name": "#%%\n"
    }
   }
  },
  {
   "cell_type": "code",
   "execution_count": 59,
   "outputs": [],
   "source": [
    "all_texts = [text[0] for text in all_data]"
   ],
   "metadata": {
    "collapsed": false,
    "pycharm": {
     "name": "#%%\n"
    }
   }
  },
  {
   "cell_type": "code",
   "execution_count": 78,
   "outputs": [
    {
     "data": {
      "text/plain": "4381"
     },
     "execution_count": 78,
     "metadata": {},
     "output_type": "execute_result"
    }
   ],
   "source": [
    "len(pipeline.steps[0][1].vocabulary_.items())"
   ],
   "metadata": {
    "collapsed": false,
    "pycharm": {
     "name": "#%%\n"
    }
   }
  },
  {
   "cell_type": "code",
   "execution_count": 62,
   "outputs": [],
   "source": [
    "all_texts = [' '.join(text) for text in all_texts]"
   ],
   "metadata": {
    "collapsed": false,
    "pycharm": {
     "name": "#%%\n"
    }
   }
  },
  {
   "cell_type": "code",
   "execution_count": 71,
   "outputs": [],
   "source": [
    "def get_top_n_bigram(corpus, n=None):\n",
    "    vectorizer: TfidfVectorizer = pipeline.steps[0][1]\n",
    "    bag_of_words = vectorizer.fit_transform(corpus)\n",
    "    sum_words = bag_of_words.sum(axis=0)\n",
    "    words_freq = [(f'\"{word}\"', sum_words[0, idx]) for word, idx in vectorizer.vocabulary_.items()]\n",
    "    words_freq = sorted(words_freq, key = lambda x: x[1], reverse=True)\n",
    "    return words_freq[:n]"
   ],
   "metadata": {
    "collapsed": false,
    "pycharm": {
     "name": "#%%\n"
    }
   }
  },
  {
   "cell_type": "code",
   "execution_count": 72,
   "outputs": [
    {
     "name": "stdout",
     "output_type": "stream",
     "text": [
      "\"e \" 32.3549693804246\n",
      "\"s \" 27.302126922670737\n",
      "\"d \" 23.394559335856908\n",
      "\"in\" 22.895898419210067\n",
      "\"er\" 20.764754700585303\n",
      "\"t \" 19.476522473079637\n",
      "\"re\" 19.184450280068074\n",
      "\"on\" 18.81793927406263\n",
      "\"te\" 17.32919698685883\n",
      "\"n \" 16.967850144170747\n",
      "\"en\" 16.963896681103382\n",
      "\" ,\" 16.842986543355085\n",
      "\", \" 16.842986543355085\n",
      "\"es\" 16.188366795113733\n",
      "\"y \" 16.102461185799456\n",
      "\" s\" 15.900513666396721\n",
      "\". \" 15.563864886073535\n",
      "\"at\" 15.279536792673603\n",
      "\"ed\" 15.069727297488633\n",
      "\"ti\" 14.590675018010062\n"
     ]
    }
   ],
   "source": [
    "common_words = get_top_n_bigram(all_texts, 20)\n",
    "\n",
    "for word, freq in common_words:\n",
    "    print(word, freq)"
   ],
   "metadata": {
    "collapsed": false,
    "pycharm": {
     "name": "#%%\n"
    }
   }
  },
  {
   "cell_type": "code",
   "execution_count": 74,
   "outputs": [
    {
     "data": {
      "application/vnd.plotly.v1+json": {
       "config": {
        "linkText": "Export to plot.ly",
        "plotlyServerURL": "https://plot.ly",
        "showLink": true
       },
       "data": [
        {
         "marker": {
          "color": "rgba(255, 153, 51, 0.6)",
          "line": {
           "color": "rgba(255, 153, 51, 1.0)",
           "width": 1
          }
         },
         "name": "count",
         "orientation": "v",
         "text": "",
         "type": "bar",
         "x": [
          "\"e \"",
          "\"s \"",
          "\"d \"",
          "\"in\"",
          "\"er\"",
          "\"t \"",
          "\"re\"",
          "\"on\"",
          "\"te\"",
          "\"n \"",
          "\"en\"",
          "\" ,\"",
          "\", \"",
          "\"es\"",
          "\"y \"",
          "\" s\"",
          "\". \"",
          "\"at\"",
          "\"ed\"",
          "\"ti\""
         ],
         "y": [
          32.3549693804246,
          27.302126922670737,
          23.394559335856908,
          22.895898419210067,
          20.764754700585303,
          19.476522473079637,
          19.184450280068074,
          18.81793927406263,
          17.32919698685883,
          16.967850144170747,
          16.963896681103382,
          16.842986543355085,
          16.842986543355085,
          16.188366795113733,
          16.102461185799456,
          15.900513666396721,
          15.563864886073535,
          15.279536792673603,
          15.069727297488633,
          14.590675018010062
         ]
        }
       ],
       "layout": {
        "legend": {
         "bgcolor": "#F5F6F9",
         "font": {
          "color": "#4D5663"
         }
        },
        "paper_bgcolor": "#F5F6F9",
        "plot_bgcolor": "#F5F6F9",
        "template": {
         "data": {
          "bar": [
           {
            "error_x": {
             "color": "#2a3f5f"
            },
            "error_y": {
             "color": "#2a3f5f"
            },
            "marker": {
             "line": {
              "color": "#E5ECF6",
              "width": 0.5
             },
             "pattern": {
              "fillmode": "overlay",
              "size": 10,
              "solidity": 0.2
             }
            },
            "type": "bar"
           }
          ],
          "barpolar": [
           {
            "marker": {
             "line": {
              "color": "#E5ECF6",
              "width": 0.5
             },
             "pattern": {
              "fillmode": "overlay",
              "size": 10,
              "solidity": 0.2
             }
            },
            "type": "barpolar"
           }
          ],
          "carpet": [
           {
            "aaxis": {
             "endlinecolor": "#2a3f5f",
             "gridcolor": "white",
             "linecolor": "white",
             "minorgridcolor": "white",
             "startlinecolor": "#2a3f5f"
            },
            "baxis": {
             "endlinecolor": "#2a3f5f",
             "gridcolor": "white",
             "linecolor": "white",
             "minorgridcolor": "white",
             "startlinecolor": "#2a3f5f"
            },
            "type": "carpet"
           }
          ],
          "choropleth": [
           {
            "colorbar": {
             "outlinewidth": 0,
             "ticks": ""
            },
            "type": "choropleth"
           }
          ],
          "contour": [
           {
            "colorbar": {
             "outlinewidth": 0,
             "ticks": ""
            },
            "colorscale": [
             [
              0.0,
              "#0d0887"
             ],
             [
              0.1111111111111111,
              "#46039f"
             ],
             [
              0.2222222222222222,
              "#7201a8"
             ],
             [
              0.3333333333333333,
              "#9c179e"
             ],
             [
              0.4444444444444444,
              "#bd3786"
             ],
             [
              0.5555555555555556,
              "#d8576b"
             ],
             [
              0.6666666666666666,
              "#ed7953"
             ],
             [
              0.7777777777777778,
              "#fb9f3a"
             ],
             [
              0.8888888888888888,
              "#fdca26"
             ],
             [
              1.0,
              "#f0f921"
             ]
            ],
            "type": "contour"
           }
          ],
          "contourcarpet": [
           {
            "colorbar": {
             "outlinewidth": 0,
             "ticks": ""
            },
            "type": "contourcarpet"
           }
          ],
          "heatmap": [
           {
            "colorbar": {
             "outlinewidth": 0,
             "ticks": ""
            },
            "colorscale": [
             [
              0.0,
              "#0d0887"
             ],
             [
              0.1111111111111111,
              "#46039f"
             ],
             [
              0.2222222222222222,
              "#7201a8"
             ],
             [
              0.3333333333333333,
              "#9c179e"
             ],
             [
              0.4444444444444444,
              "#bd3786"
             ],
             [
              0.5555555555555556,
              "#d8576b"
             ],
             [
              0.6666666666666666,
              "#ed7953"
             ],
             [
              0.7777777777777778,
              "#fb9f3a"
             ],
             [
              0.8888888888888888,
              "#fdca26"
             ],
             [
              1.0,
              "#f0f921"
             ]
            ],
            "type": "heatmap"
           }
          ],
          "heatmapgl": [
           {
            "colorbar": {
             "outlinewidth": 0,
             "ticks": ""
            },
            "colorscale": [
             [
              0.0,
              "#0d0887"
             ],
             [
              0.1111111111111111,
              "#46039f"
             ],
             [
              0.2222222222222222,
              "#7201a8"
             ],
             [
              0.3333333333333333,
              "#9c179e"
             ],
             [
              0.4444444444444444,
              "#bd3786"
             ],
             [
              0.5555555555555556,
              "#d8576b"
             ],
             [
              0.6666666666666666,
              "#ed7953"
             ],
             [
              0.7777777777777778,
              "#fb9f3a"
             ],
             [
              0.8888888888888888,
              "#fdca26"
             ],
             [
              1.0,
              "#f0f921"
             ]
            ],
            "type": "heatmapgl"
           }
          ],
          "histogram": [
           {
            "marker": {
             "pattern": {
              "fillmode": "overlay",
              "size": 10,
              "solidity": 0.2
             }
            },
            "type": "histogram"
           }
          ],
          "histogram2d": [
           {
            "colorbar": {
             "outlinewidth": 0,
             "ticks": ""
            },
            "colorscale": [
             [
              0.0,
              "#0d0887"
             ],
             [
              0.1111111111111111,
              "#46039f"
             ],
             [
              0.2222222222222222,
              "#7201a8"
             ],
             [
              0.3333333333333333,
              "#9c179e"
             ],
             [
              0.4444444444444444,
              "#bd3786"
             ],
             [
              0.5555555555555556,
              "#d8576b"
             ],
             [
              0.6666666666666666,
              "#ed7953"
             ],
             [
              0.7777777777777778,
              "#fb9f3a"
             ],
             [
              0.8888888888888888,
              "#fdca26"
             ],
             [
              1.0,
              "#f0f921"
             ]
            ],
            "type": "histogram2d"
           }
          ],
          "histogram2dcontour": [
           {
            "colorbar": {
             "outlinewidth": 0,
             "ticks": ""
            },
            "colorscale": [
             [
              0.0,
              "#0d0887"
             ],
             [
              0.1111111111111111,
              "#46039f"
             ],
             [
              0.2222222222222222,
              "#7201a8"
             ],
             [
              0.3333333333333333,
              "#9c179e"
             ],
             [
              0.4444444444444444,
              "#bd3786"
             ],
             [
              0.5555555555555556,
              "#d8576b"
             ],
             [
              0.6666666666666666,
              "#ed7953"
             ],
             [
              0.7777777777777778,
              "#fb9f3a"
             ],
             [
              0.8888888888888888,
              "#fdca26"
             ],
             [
              1.0,
              "#f0f921"
             ]
            ],
            "type": "histogram2dcontour"
           }
          ],
          "mesh3d": [
           {
            "colorbar": {
             "outlinewidth": 0,
             "ticks": ""
            },
            "type": "mesh3d"
           }
          ],
          "parcoords": [
           {
            "line": {
             "colorbar": {
              "outlinewidth": 0,
              "ticks": ""
             }
            },
            "type": "parcoords"
           }
          ],
          "pie": [
           {
            "automargin": true,
            "type": "pie"
           }
          ],
          "scatter": [
           {
            "marker": {
             "colorbar": {
              "outlinewidth": 0,
              "ticks": ""
             }
            },
            "type": "scatter"
           }
          ],
          "scatter3d": [
           {
            "line": {
             "colorbar": {
              "outlinewidth": 0,
              "ticks": ""
             }
            },
            "marker": {
             "colorbar": {
              "outlinewidth": 0,
              "ticks": ""
             }
            },
            "type": "scatter3d"
           }
          ],
          "scattercarpet": [
           {
            "marker": {
             "colorbar": {
              "outlinewidth": 0,
              "ticks": ""
             }
            },
            "type": "scattercarpet"
           }
          ],
          "scattergeo": [
           {
            "marker": {
             "colorbar": {
              "outlinewidth": 0,
              "ticks": ""
             }
            },
            "type": "scattergeo"
           }
          ],
          "scattergl": [
           {
            "marker": {
             "colorbar": {
              "outlinewidth": 0,
              "ticks": ""
             }
            },
            "type": "scattergl"
           }
          ],
          "scattermapbox": [
           {
            "marker": {
             "colorbar": {
              "outlinewidth": 0,
              "ticks": ""
             }
            },
            "type": "scattermapbox"
           }
          ],
          "scatterpolar": [
           {
            "marker": {
             "colorbar": {
              "outlinewidth": 0,
              "ticks": ""
             }
            },
            "type": "scatterpolar"
           }
          ],
          "scatterpolargl": [
           {
            "marker": {
             "colorbar": {
              "outlinewidth": 0,
              "ticks": ""
             }
            },
            "type": "scatterpolargl"
           }
          ],
          "scatterternary": [
           {
            "marker": {
             "colorbar": {
              "outlinewidth": 0,
              "ticks": ""
             }
            },
            "type": "scatterternary"
           }
          ],
          "surface": [
           {
            "colorbar": {
             "outlinewidth": 0,
             "ticks": ""
            },
            "colorscale": [
             [
              0.0,
              "#0d0887"
             ],
             [
              0.1111111111111111,
              "#46039f"
             ],
             [
              0.2222222222222222,
              "#7201a8"
             ],
             [
              0.3333333333333333,
              "#9c179e"
             ],
             [
              0.4444444444444444,
              "#bd3786"
             ],
             [
              0.5555555555555556,
              "#d8576b"
             ],
             [
              0.6666666666666666,
              "#ed7953"
             ],
             [
              0.7777777777777778,
              "#fb9f3a"
             ],
             [
              0.8888888888888888,
              "#fdca26"
             ],
             [
              1.0,
              "#f0f921"
             ]
            ],
            "type": "surface"
           }
          ],
          "table": [
           {
            "cells": {
             "fill": {
              "color": "#EBF0F8"
             },
             "line": {
              "color": "white"
             }
            },
            "header": {
             "fill": {
              "color": "#C8D4E3"
             },
             "line": {
              "color": "white"
             }
            },
            "type": "table"
           }
          ]
         },
         "layout": {
          "annotationdefaults": {
           "arrowcolor": "#2a3f5f",
           "arrowhead": 0,
           "arrowwidth": 1
          },
          "autotypenumbers": "strict",
          "coloraxis": {
           "colorbar": {
            "outlinewidth": 0,
            "ticks": ""
           }
          },
          "colorscale": {
           "diverging": [
            [
             0,
             "#8e0152"
            ],
            [
             0.1,
             "#c51b7d"
            ],
            [
             0.2,
             "#de77ae"
            ],
            [
             0.3,
             "#f1b6da"
            ],
            [
             0.4,
             "#fde0ef"
            ],
            [
             0.5,
             "#f7f7f7"
            ],
            [
             0.6,
             "#e6f5d0"
            ],
            [
             0.7,
             "#b8e186"
            ],
            [
             0.8,
             "#7fbc41"
            ],
            [
             0.9,
             "#4d9221"
            ],
            [
             1,
             "#276419"
            ]
           ],
           "sequential": [
            [
             0.0,
             "#0d0887"
            ],
            [
             0.1111111111111111,
             "#46039f"
            ],
            [
             0.2222222222222222,
             "#7201a8"
            ],
            [
             0.3333333333333333,
             "#9c179e"
            ],
            [
             0.4444444444444444,
             "#bd3786"
            ],
            [
             0.5555555555555556,
             "#d8576b"
            ],
            [
             0.6666666666666666,
             "#ed7953"
            ],
            [
             0.7777777777777778,
             "#fb9f3a"
            ],
            [
             0.8888888888888888,
             "#fdca26"
            ],
            [
             1.0,
             "#f0f921"
            ]
           ],
           "sequentialminus": [
            [
             0.0,
             "#0d0887"
            ],
            [
             0.1111111111111111,
             "#46039f"
            ],
            [
             0.2222222222222222,
             "#7201a8"
            ],
            [
             0.3333333333333333,
             "#9c179e"
            ],
            [
             0.4444444444444444,
             "#bd3786"
            ],
            [
             0.5555555555555556,
             "#d8576b"
            ],
            [
             0.6666666666666666,
             "#ed7953"
            ],
            [
             0.7777777777777778,
             "#fb9f3a"
            ],
            [
             0.8888888888888888,
             "#fdca26"
            ],
            [
             1.0,
             "#f0f921"
            ]
           ]
          },
          "colorway": [
           "#636efa",
           "#EF553B",
           "#00cc96",
           "#ab63fa",
           "#FFA15A",
           "#19d3f3",
           "#FF6692",
           "#B6E880",
           "#FF97FF",
           "#FECB52"
          ],
          "font": {
           "color": "#2a3f5f"
          },
          "geo": {
           "bgcolor": "white",
           "lakecolor": "white",
           "landcolor": "#E5ECF6",
           "showlakes": true,
           "showland": true,
           "subunitcolor": "white"
          },
          "hoverlabel": {
           "align": "left"
          },
          "hovermode": "closest",
          "mapbox": {
           "style": "light"
          },
          "paper_bgcolor": "white",
          "plot_bgcolor": "#E5ECF6",
          "polar": {
           "angularaxis": {
            "gridcolor": "white",
            "linecolor": "white",
            "ticks": ""
           },
           "bgcolor": "#E5ECF6",
           "radialaxis": {
            "gridcolor": "white",
            "linecolor": "white",
            "ticks": ""
           }
          },
          "scene": {
           "xaxis": {
            "backgroundcolor": "#E5ECF6",
            "gridcolor": "white",
            "gridwidth": 2,
            "linecolor": "white",
            "showbackground": true,
            "ticks": "",
            "zerolinecolor": "white"
           },
           "yaxis": {
            "backgroundcolor": "#E5ECF6",
            "gridcolor": "white",
            "gridwidth": 2,
            "linecolor": "white",
            "showbackground": true,
            "ticks": "",
            "zerolinecolor": "white"
           },
           "zaxis": {
            "backgroundcolor": "#E5ECF6",
            "gridcolor": "white",
            "gridwidth": 2,
            "linecolor": "white",
            "showbackground": true,
            "ticks": "",
            "zerolinecolor": "white"
           }
          },
          "shapedefaults": {
           "line": {
            "color": "#2a3f5f"
           }
          },
          "ternary": {
           "aaxis": {
            "gridcolor": "white",
            "linecolor": "white",
            "ticks": ""
           },
           "baxis": {
            "gridcolor": "white",
            "linecolor": "white",
            "ticks": ""
           },
           "bgcolor": "#E5ECF6",
           "caxis": {
            "gridcolor": "white",
            "linecolor": "white",
            "ticks": ""
           }
          },
          "title": {
           "x": 0.05
          },
          "xaxis": {
           "automargin": true,
           "gridcolor": "white",
           "linecolor": "white",
           "ticks": "",
           "title": {
            "standoff": 15
           },
           "zerolinecolor": "white",
           "zerolinewidth": 2
          },
          "yaxis": {
           "automargin": true,
           "gridcolor": "white",
           "linecolor": "white",
           "ticks": "",
           "title": {
            "standoff": 15
           },
           "zerolinecolor": "white",
           "zerolinewidth": 2
          }
         }
        },
        "title": {
         "font": {
          "color": "#4D5663"
         },
         "text": "Top 20 char bigrams"
        },
        "xaxis": {
         "gridcolor": "#E1E5ED",
         "linecolor": "black",
         "showgrid": true,
         "tickfont": {
          "color": "#4D5663"
         },
         "title": {
          "font": {
           "color": "#4D5663"
          },
          "text": ""
         },
         "zerolinecolor": "#E1E5ED"
        },
        "yaxis": {
         "gridcolor": "#E1E5ED",
         "linecolor": "black",
         "showgrid": true,
         "tickfont": {
          "color": "#4D5663"
         },
         "title": {
          "font": {
           "color": "#4D5663"
          },
          "text": "Frequency"
         },
         "zerolinecolor": "#E1E5ED"
        }
       }
      },
      "text/html": "<div>                            <div id=\"63320d7f-f7c0-4d1b-a6e5-e3960acb644b\" class=\"plotly-graph-div\" style=\"height:525px; width:100%;\"></div>            <script type=\"text/javascript\">                require([\"plotly\"], function(Plotly) {                    window.PLOTLYENV=window.PLOTLYENV || {};\n                    window.PLOTLYENV.BASE_URL='https://plot.ly';                                    if (document.getElementById(\"63320d7f-f7c0-4d1b-a6e5-e3960acb644b\")) {                    Plotly.newPlot(                        \"63320d7f-f7c0-4d1b-a6e5-e3960acb644b\",                        [{\"marker\":{\"color\":\"rgba(255, 153, 51, 0.6)\",\"line\":{\"color\":\"rgba(255, 153, 51, 1.0)\",\"width\":1}},\"name\":\"count\",\"orientation\":\"v\",\"text\":\"\",\"type\":\"bar\",\"x\":[\"\\\"e \\\"\",\"\\\"s \\\"\",\"\\\"d \\\"\",\"\\\"in\\\"\",\"\\\"er\\\"\",\"\\\"t \\\"\",\"\\\"re\\\"\",\"\\\"on\\\"\",\"\\\"te\\\"\",\"\\\"n \\\"\",\"\\\"en\\\"\",\"\\\" ,\\\"\",\"\\\", \\\"\",\"\\\"es\\\"\",\"\\\"y \\\"\",\"\\\" s\\\"\",\"\\\". \\\"\",\"\\\"at\\\"\",\"\\\"ed\\\"\",\"\\\"ti\\\"\"],\"y\":[32.3549693804246,27.302126922670737,23.394559335856908,22.895898419210067,20.764754700585303,19.476522473079637,19.184450280068074,18.81793927406263,17.32919698685883,16.967850144170747,16.963896681103382,16.842986543355085,16.842986543355085,16.188366795113733,16.102461185799456,15.900513666396721,15.563864886073535,15.279536792673603,15.069727297488633,14.590675018010062]}],                        {\"legend\":{\"bgcolor\":\"#F5F6F9\",\"font\":{\"color\":\"#4D5663\"}},\"paper_bgcolor\":\"#F5F6F9\",\"plot_bgcolor\":\"#F5F6F9\",\"template\":{\"data\":{\"bar\":[{\"error_x\":{\"color\":\"#2a3f5f\"},\"error_y\":{\"color\":\"#2a3f5f\"},\"marker\":{\"line\":{\"color\":\"#E5ECF6\",\"width\":0.5},\"pattern\":{\"fillmode\":\"overlay\",\"size\":10,\"solidity\":0.2}},\"type\":\"bar\"}],\"barpolar\":[{\"marker\":{\"line\":{\"color\":\"#E5ECF6\",\"width\":0.5},\"pattern\":{\"fillmode\":\"overlay\",\"size\":10,\"solidity\":0.2}},\"type\":\"barpolar\"}],\"carpet\":[{\"aaxis\":{\"endlinecolor\":\"#2a3f5f\",\"gridcolor\":\"white\",\"linecolor\":\"white\",\"minorgridcolor\":\"white\",\"startlinecolor\":\"#2a3f5f\"},\"baxis\":{\"endlinecolor\":\"#2a3f5f\",\"gridcolor\":\"white\",\"linecolor\":\"white\",\"minorgridcolor\":\"white\",\"startlinecolor\":\"#2a3f5f\"},\"type\":\"carpet\"}],\"choropleth\":[{\"colorbar\":{\"outlinewidth\":0,\"ticks\":\"\"},\"type\":\"choropleth\"}],\"contour\":[{\"colorbar\":{\"outlinewidth\":0,\"ticks\":\"\"},\"colorscale\":[[0.0,\"#0d0887\"],[0.1111111111111111,\"#46039f\"],[0.2222222222222222,\"#7201a8\"],[0.3333333333333333,\"#9c179e\"],[0.4444444444444444,\"#bd3786\"],[0.5555555555555556,\"#d8576b\"],[0.6666666666666666,\"#ed7953\"],[0.7777777777777778,\"#fb9f3a\"],[0.8888888888888888,\"#fdca26\"],[1.0,\"#f0f921\"]],\"type\":\"contour\"}],\"contourcarpet\":[{\"colorbar\":{\"outlinewidth\":0,\"ticks\":\"\"},\"type\":\"contourcarpet\"}],\"heatmap\":[{\"colorbar\":{\"outlinewidth\":0,\"ticks\":\"\"},\"colorscale\":[[0.0,\"#0d0887\"],[0.1111111111111111,\"#46039f\"],[0.2222222222222222,\"#7201a8\"],[0.3333333333333333,\"#9c179e\"],[0.4444444444444444,\"#bd3786\"],[0.5555555555555556,\"#d8576b\"],[0.6666666666666666,\"#ed7953\"],[0.7777777777777778,\"#fb9f3a\"],[0.8888888888888888,\"#fdca26\"],[1.0,\"#f0f921\"]],\"type\":\"heatmap\"}],\"heatmapgl\":[{\"colorbar\":{\"outlinewidth\":0,\"ticks\":\"\"},\"colorscale\":[[0.0,\"#0d0887\"],[0.1111111111111111,\"#46039f\"],[0.2222222222222222,\"#7201a8\"],[0.3333333333333333,\"#9c179e\"],[0.4444444444444444,\"#bd3786\"],[0.5555555555555556,\"#d8576b\"],[0.6666666666666666,\"#ed7953\"],[0.7777777777777778,\"#fb9f3a\"],[0.8888888888888888,\"#fdca26\"],[1.0,\"#f0f921\"]],\"type\":\"heatmapgl\"}],\"histogram\":[{\"marker\":{\"pattern\":{\"fillmode\":\"overlay\",\"size\":10,\"solidity\":0.2}},\"type\":\"histogram\"}],\"histogram2d\":[{\"colorbar\":{\"outlinewidth\":0,\"ticks\":\"\"},\"colorscale\":[[0.0,\"#0d0887\"],[0.1111111111111111,\"#46039f\"],[0.2222222222222222,\"#7201a8\"],[0.3333333333333333,\"#9c179e\"],[0.4444444444444444,\"#bd3786\"],[0.5555555555555556,\"#d8576b\"],[0.6666666666666666,\"#ed7953\"],[0.7777777777777778,\"#fb9f3a\"],[0.8888888888888888,\"#fdca26\"],[1.0,\"#f0f921\"]],\"type\":\"histogram2d\"}],\"histogram2dcontour\":[{\"colorbar\":{\"outlinewidth\":0,\"ticks\":\"\"},\"colorscale\":[[0.0,\"#0d0887\"],[0.1111111111111111,\"#46039f\"],[0.2222222222222222,\"#7201a8\"],[0.3333333333333333,\"#9c179e\"],[0.4444444444444444,\"#bd3786\"],[0.5555555555555556,\"#d8576b\"],[0.6666666666666666,\"#ed7953\"],[0.7777777777777778,\"#fb9f3a\"],[0.8888888888888888,\"#fdca26\"],[1.0,\"#f0f921\"]],\"type\":\"histogram2dcontour\"}],\"mesh3d\":[{\"colorbar\":{\"outlinewidth\":0,\"ticks\":\"\"},\"type\":\"mesh3d\"}],\"parcoords\":[{\"line\":{\"colorbar\":{\"outlinewidth\":0,\"ticks\":\"\"}},\"type\":\"parcoords\"}],\"pie\":[{\"automargin\":true,\"type\":\"pie\"}],\"scatter\":[{\"marker\":{\"colorbar\":{\"outlinewidth\":0,\"ticks\":\"\"}},\"type\":\"scatter\"}],\"scatter3d\":[{\"line\":{\"colorbar\":{\"outlinewidth\":0,\"ticks\":\"\"}},\"marker\":{\"colorbar\":{\"outlinewidth\":0,\"ticks\":\"\"}},\"type\":\"scatter3d\"}],\"scattercarpet\":[{\"marker\":{\"colorbar\":{\"outlinewidth\":0,\"ticks\":\"\"}},\"type\":\"scattercarpet\"}],\"scattergeo\":[{\"marker\":{\"colorbar\":{\"outlinewidth\":0,\"ticks\":\"\"}},\"type\":\"scattergeo\"}],\"scattergl\":[{\"marker\":{\"colorbar\":{\"outlinewidth\":0,\"ticks\":\"\"}},\"type\":\"scattergl\"}],\"scattermapbox\":[{\"marker\":{\"colorbar\":{\"outlinewidth\":0,\"ticks\":\"\"}},\"type\":\"scattermapbox\"}],\"scatterpolar\":[{\"marker\":{\"colorbar\":{\"outlinewidth\":0,\"ticks\":\"\"}},\"type\":\"scatterpolar\"}],\"scatterpolargl\":[{\"marker\":{\"colorbar\":{\"outlinewidth\":0,\"ticks\":\"\"}},\"type\":\"scatterpolargl\"}],\"scatterternary\":[{\"marker\":{\"colorbar\":{\"outlinewidth\":0,\"ticks\":\"\"}},\"type\":\"scatterternary\"}],\"surface\":[{\"colorbar\":{\"outlinewidth\":0,\"ticks\":\"\"},\"colorscale\":[[0.0,\"#0d0887\"],[0.1111111111111111,\"#46039f\"],[0.2222222222222222,\"#7201a8\"],[0.3333333333333333,\"#9c179e\"],[0.4444444444444444,\"#bd3786\"],[0.5555555555555556,\"#d8576b\"],[0.6666666666666666,\"#ed7953\"],[0.7777777777777778,\"#fb9f3a\"],[0.8888888888888888,\"#fdca26\"],[1.0,\"#f0f921\"]],\"type\":\"surface\"}],\"table\":[{\"cells\":{\"fill\":{\"color\":\"#EBF0F8\"},\"line\":{\"color\":\"white\"}},\"header\":{\"fill\":{\"color\":\"#C8D4E3\"},\"line\":{\"color\":\"white\"}},\"type\":\"table\"}]},\"layout\":{\"annotationdefaults\":{\"arrowcolor\":\"#2a3f5f\",\"arrowhead\":0,\"arrowwidth\":1},\"autotypenumbers\":\"strict\",\"coloraxis\":{\"colorbar\":{\"outlinewidth\":0,\"ticks\":\"\"}},\"colorscale\":{\"diverging\":[[0,\"#8e0152\"],[0.1,\"#c51b7d\"],[0.2,\"#de77ae\"],[0.3,\"#f1b6da\"],[0.4,\"#fde0ef\"],[0.5,\"#f7f7f7\"],[0.6,\"#e6f5d0\"],[0.7,\"#b8e186\"],[0.8,\"#7fbc41\"],[0.9,\"#4d9221\"],[1,\"#276419\"]],\"sequential\":[[0.0,\"#0d0887\"],[0.1111111111111111,\"#46039f\"],[0.2222222222222222,\"#7201a8\"],[0.3333333333333333,\"#9c179e\"],[0.4444444444444444,\"#bd3786\"],[0.5555555555555556,\"#d8576b\"],[0.6666666666666666,\"#ed7953\"],[0.7777777777777778,\"#fb9f3a\"],[0.8888888888888888,\"#fdca26\"],[1.0,\"#f0f921\"]],\"sequentialminus\":[[0.0,\"#0d0887\"],[0.1111111111111111,\"#46039f\"],[0.2222222222222222,\"#7201a8\"],[0.3333333333333333,\"#9c179e\"],[0.4444444444444444,\"#bd3786\"],[0.5555555555555556,\"#d8576b\"],[0.6666666666666666,\"#ed7953\"],[0.7777777777777778,\"#fb9f3a\"],[0.8888888888888888,\"#fdca26\"],[1.0,\"#f0f921\"]]},\"colorway\":[\"#636efa\",\"#EF553B\",\"#00cc96\",\"#ab63fa\",\"#FFA15A\",\"#19d3f3\",\"#FF6692\",\"#B6E880\",\"#FF97FF\",\"#FECB52\"],\"font\":{\"color\":\"#2a3f5f\"},\"geo\":{\"bgcolor\":\"white\",\"lakecolor\":\"white\",\"landcolor\":\"#E5ECF6\",\"showlakes\":true,\"showland\":true,\"subunitcolor\":\"white\"},\"hoverlabel\":{\"align\":\"left\"},\"hovermode\":\"closest\",\"mapbox\":{\"style\":\"light\"},\"paper_bgcolor\":\"white\",\"plot_bgcolor\":\"#E5ECF6\",\"polar\":{\"angularaxis\":{\"gridcolor\":\"white\",\"linecolor\":\"white\",\"ticks\":\"\"},\"bgcolor\":\"#E5ECF6\",\"radialaxis\":{\"gridcolor\":\"white\",\"linecolor\":\"white\",\"ticks\":\"\"}},\"scene\":{\"xaxis\":{\"backgroundcolor\":\"#E5ECF6\",\"gridcolor\":\"white\",\"gridwidth\":2,\"linecolor\":\"white\",\"showbackground\":true,\"ticks\":\"\",\"zerolinecolor\":\"white\"},\"yaxis\":{\"backgroundcolor\":\"#E5ECF6\",\"gridcolor\":\"white\",\"gridwidth\":2,\"linecolor\":\"white\",\"showbackground\":true,\"ticks\":\"\",\"zerolinecolor\":\"white\"},\"zaxis\":{\"backgroundcolor\":\"#E5ECF6\",\"gridcolor\":\"white\",\"gridwidth\":2,\"linecolor\":\"white\",\"showbackground\":true,\"ticks\":\"\",\"zerolinecolor\":\"white\"}},\"shapedefaults\":{\"line\":{\"color\":\"#2a3f5f\"}},\"ternary\":{\"aaxis\":{\"gridcolor\":\"white\",\"linecolor\":\"white\",\"ticks\":\"\"},\"baxis\":{\"gridcolor\":\"white\",\"linecolor\":\"white\",\"ticks\":\"\"},\"bgcolor\":\"#E5ECF6\",\"caxis\":{\"gridcolor\":\"white\",\"linecolor\":\"white\",\"ticks\":\"\"}},\"title\":{\"x\":0.05},\"xaxis\":{\"automargin\":true,\"gridcolor\":\"white\",\"linecolor\":\"white\",\"ticks\":\"\",\"title\":{\"standoff\":15},\"zerolinecolor\":\"white\",\"zerolinewidth\":2},\"yaxis\":{\"automargin\":true,\"gridcolor\":\"white\",\"linecolor\":\"white\",\"ticks\":\"\",\"title\":{\"standoff\":15},\"zerolinecolor\":\"white\",\"zerolinewidth\":2}}},\"title\":{\"font\":{\"color\":\"#4D5663\"},\"text\":\"Top 20 char bigrams\"},\"xaxis\":{\"gridcolor\":\"#E1E5ED\",\"linecolor\":\"black\",\"showgrid\":true,\"tickfont\":{\"color\":\"#4D5663\"},\"title\":{\"font\":{\"color\":\"#4D5663\"},\"text\":\"\"},\"zerolinecolor\":\"#E1E5ED\"},\"yaxis\":{\"gridcolor\":\"#E1E5ED\",\"linecolor\":\"black\",\"showgrid\":true,\"tickfont\":{\"color\":\"#4D5663\"},\"title\":{\"font\":{\"color\":\"#4D5663\"},\"text\":\"Frequency\"},\"zerolinecolor\":\"#E1E5ED\"}},                        {\"showLink\": true, \"linkText\": \"Export to plot.ly\", \"plotlyServerURL\": \"https://plot.ly\", \"responsive\": true}                    ).then(function(){\n                            \nvar gd = document.getElementById('63320d7f-f7c0-4d1b-a6e5-e3960acb644b');\nvar x = new MutationObserver(function (mutations, observer) {{\n        var display = window.getComputedStyle(gd).display;\n        if (!display || display === 'none') {{\n            console.log([gd, 'removed!']);\n            Plotly.purge(gd);\n            observer.disconnect();\n        }}\n}});\n\n// Listen for the removal of the full notebook cells\nvar notebookContainer = gd.closest('#notebook-container');\nif (notebookContainer) {{\n    x.observe(notebookContainer, {childList: true});\n}}\n\n// Listen for the clearing of the current output cell\nvar outputEl = gd.closest('.output');\nif (outputEl) {{\n    x.observe(outputEl, {childList: true});\n}}\n\n                        })                };                });            </script>        </div>"
     },
     "metadata": {},
     "output_type": "display_data"
    }
   ],
   "source": [
    "df4 = pd.DataFrame(common_words, columns = ['ReviewText' , 'count'])\n",
    "df4.groupby('ReviewText') \\\n",
    "    .sum()['count'] \\\n",
    "    .sort_values(ascending=False) \\\n",
    "    .iplot(kind='bar',\n",
    "           yTitle='Frequency',\n",
    "           linecolor='black',\n",
    "           title='Top 20 char bigrams')"
   ],
   "metadata": {
    "collapsed": false,
    "pycharm": {
     "name": "#%%\n"
    }
   }
  },
  {
   "cell_type": "code",
   "execution_count": 89,
   "outputs": [
    {
     "data": {
      "text/plain": "{' A': 31,\n 'As': 1073,\n 's ': 3867,\n ' U': 51,\n 'U.': 2280,\n '.S': 249,\n 'S.': 2148,\n '. ': 217,\n ' b': 63,\n 'bu': 2835,\n 'ud': 4039,\n 'dg': 2949,\n 'ge': 3145,\n 'et': 3030,\n 't ': 3934,\n ' f': 67,\n 'fi': 3084,\n 'ig': 3276,\n 'gh': 3148,\n 'ht': 3225,\n ' l': 73,\n 'lo': 3478,\n 'oo': 3673,\n 'om': 3671,\n 'ms': 3545,\n ' ,': 10,\n ', ': 143,\n ' R': 48,\n 'Re': 2125,\n 'ep': 3026,\n 'pu': 3744,\n 'ub': 4037,\n 'bl': 2827,\n 'li': 3472,\n 'ic': 3272,\n 'ca': 2879,\n 'an': 2766,\n 'ns': 3614,\n 'fl': 3087,\n 'ip': 3285,\n 'p ': 3685,\n 'is': 3288,\n 'sc': 3910,\n 'al': 2764,\n 'l ': 3423,\n ' s': 80,\n 'cr': 2895,\n 'ri': 3850,\n 'pt': 3743,\n ' .': 12,\n ' T': 50,\n 'Th': 2262,\n 'he': 3210,\n 'e ': 2969,\n ' h': 69,\n 'ea': 3011,\n 'ad': 2756,\n 'd ': 2903,\n ' c': 64,\n 'co': 2892,\n 'on': 3672,\n 'se': 3912,\n 'er': 3028,\n 'rv': 3863,\n 'va': 4095,\n 'at': 2772,\n 'ti': 3985,\n 'iv': 3291,\n 've': 4099,\n 'n ': 3553,\n 'fa': 3076,\n 'ac': 2755,\n 'ct': 2897,\n 'io': 3284,\n ' C': 33,\n 'Co': 1198,\n 'ng': 3602,\n 'gr': 3158,\n 're': 3846,\n 'es': 3029,\n 'ss': 3926,\n ' v': 83,\n 'vo': 4107,\n 'ot': 3678,\n 'te': 3981,\n 'ed': 3014,\n ' m': 74,\n 'mo': 3541,\n 'nt': 3615,\n 'th': 3984,\n 'h ': 3167,\n 'hu': 3226,\n 'ug': 4042,\n ' e': 66,\n 'ex': 3034,\n 'xp': 4235,\n 'pa': 3724,\n 'si': 3916,\n ' n': 75,\n 'na': 3596,\n ' d': 65,\n 'de': 2947,\n 'eb': 3012,\n 'bt': 2834,\n ' p': 77,\n 'ay': 2777,\n 'y ': 4244,\n ' t': 81,\n 'ta': 3977,\n 'ax': 2776,\n 'x ': 4182,\n 'cu': 2898,\n 'ut': 4055,\n 'ts': 3995,\n 'll': 3475,\n 'le': 3468,\n ' S': 49,\n 'Su': 2207,\n 'un': 4049,\n 'nd': 3599,\n 'da': 2943,\n ' u': 82,\n 'ur': 4053,\n 'rg': 3848,\n ' r': 79,\n 'st': 3927,\n 'tr': 3994,\n 'ra': 3842,\n 'ai': 2761,\n 'in': 3283,\n ' 2': 16,\n '20': 480,\n '01': 348,\n '18': 422,\n '8 ': 867,\n ' I': 39,\n 'In': 1571,\n ' k': 72,\n 'ke': 3401,\n 'ee': 3015,\n 'pi': 3732,\n 'g ': 3101,\n 'sh': 3915,\n 'ha': 3206,\n 'ar': 2770,\n 'rp': 3857,\n ' w': 84,\n 'wa': 4157,\n ' a': 62,\n 'am': 2765,\n 'pr': 3741,\n 'en': 3024,\n ' M': 43,\n 'Ma': 1811,\n 'rk': 3852,\n 'k ': 3358,\n 'Me': 1815,\n 'do': 2957,\n 'ow': 3681,\n 'ws': 4175,\n 'sp': 3923,\n 'pe': 3728,\n 'ak': 2763,\n 'ki': 3405,\n 'CB': 1159,\n 'BS': 1113,\n 'S ': 2146,\n ' F': 36,\n 'Fa': 1371,\n 'ce': 2883,\n ' N': 44,\n 'Na': 1871,\n 'dr': 2960,\n 'ew': 3033,\n 'w ': 4119,\n 'rd': 3845,\n 'ne': 3600,\n 'fe': 3080,\n 'di': 2951,\n 'la': 3464,\n 'aw': 2775,\n 'wm': 4169,\n 'ma': 3527,\n 'rs': 3860,\n 'br': 2832,\n 'ci': 2886,\n 'ba': 2816,\n 'tt': 3996,\n 'tl': 3988,\n ' J': 40,\n 'Ja': 1623,\n 'nu': 3616,\n 'ua': 4036,\n 'ry': 3865,\n ' W': 53,\n 'Wh': 2444,\n 'tu': 3997,\n 'rn': 3855,\n 'ho': 3220,\n 'ol': 3670,\n 'id': 3273,\n 'ys': 4303,\n 'We': 2441,\n 'dn': 2956,\n 'sd': 3911,\n 'be': 2820,\n 'eg': 3017,\n 'gi': 3149,\n 'yi': 4293,\n 'as': 2771,\n 'ik': 3280,\n 'el': 3022,\n 'ly': 3488,\n 'nk': 3606,\n ' i': 70,\n 'su': 3928,\n 'ue': 4040,\n 'im': 3282,\n 'mm': 3539,\n 'mi': 3535,\n 'po': 3738,\n 'cy': 2901,\n 'ev': 3032,\n 'No': 1884,\n 'ov': 3680,\n 'em': 3023,\n 'mb': 3528,\n 'r ': 3801,\n 'ec': 3013,\n 'mp': 3542,\n 'gn': 3154,\n 'ap': 2768,\n 'pp': 3739,\n 'ro': 3856,\n 'oa': 3659,\n 'ch': 2885,\n 'ek': 3021,\n ' P': 46,\n 'Pr': 2016,\n ' D': 34,\n 'Do': 1260,\n 'ld': 3467,\n 'Tr': 2269,\n 'ru': 3862,\n 'um': 4048,\n 'bi': 2824,\n 'nc': 3598,\n 'il': 3281,\n 'it': 3289,\n 'De': 1252,\n 'oc': 3661,\n 'ls': 3482,\n 'so': 3922,\n 'o ': 3622,\n 'op': 3674,\n 'or': 3676,\n 'rt': 3861,\n 'no': 3610,\n 'n-': 3555,\n '-d': 195,\n 'ef': 3016,\n 'og': 3665,\n 'up': 4051,\n 'du': 2963,\n 'uc': 4038,\n 'ie': 3274,\n 'if': 3275,\n 'c ': 2840,\n 'rc': 3844,\n 'nf': 3601,\n 'fr': 3092,\n 'lt': 3483,\n 'nv': 3617,\n 'vi': 4102,\n 'ir': 3287,\n 'nm': 3608,\n 'me': 3531,\n ' (': 6,\n '( ': 138,\n ' )': 7,\n ') ': 139,\n 'dm': 2955,\n 'ni': 3604,\n 'lr': 3481,\n 'dy': 2967,\n 'wi': 4165,\n 'sa': 3908,\n ' :': 24,\n ': ': 992,\n ' g': 68,\n 'go': 3155,\n 'oi': 3667,\n '..': 219,\n ' 7': 21,\n '7 ': 798,\n 'rm': 3854,\n 'sm': 3920,\n 'lu': 3484,\n 'ia': 3270,\n ' H': 38,\n 'Ho': 1507,\n 'ou': 3679,\n 'us': 4054,\n 'Fr': 1387,\n 'm ': 3490,\n 'Ca': 1184,\n 'au': 2773,\n ' 1': 15,\n '10': 414,\n '0 ': 341,\n '11': 415,\n '1 ': 409,\n 'Fo': 1384,\n 'I ': 1519,\n ' E': 35,\n 'Ev': 1328,\n 'eo': 3025,\n 'pl': 3735,\n 'ey': 3035,\n 'ty': 4001,\n 't-': 3936,\n '-f': 197,\n ' o': 76,\n 'rh': 3849,\n 'ul': 4047,\n 'dd': 2946,\n ' $': 2,\n '$ ': 94,\n '1.': 412,\n '.5': 226,\n '5 ': 669,\n ' y': 86,\n 'ye': 4289,\n 'It': 1577,\n 'lk': 3474,\n 'ib': 3271,\n 'Jo': 1637,\n 'os': 3677,\n 'ph': 3731,\n 'Cr': 1201,\n 'wl': 4168,\n 'wo': 4171,\n 'eq': 3027,\n 'qu': 3796,\n 'ui': 4044,\n 'Un': 2328,\n 'St': 2206,\n 'bo': 2830,\n 'rr': 3859,\n 'fu': 3095,\n 'hi': 3214,\n 'to': 3991,\n 'ny': 3620,\n 'ck': 2888,\n 'ka': 3397,\n 'ag': 2759,\n 'gg': 3147,\n ' 3': 17,\n '30': 547,\n 'my': 3551,\n ' j': 71,\n 'jo': 3346,\n 'ob': 3660,\n 'b ': 2779,\n 'wt': 4176,\n 'Sp': 2202,\n 'Pa': 2001,\n 'Ry': 2144,\n 'ya': 4285,\n 'we': 4161,\n 'cl': 2889,\n 'lf': 3469,\n 'fo': 3090,\n 'of': 3664,\n 'ft': 3094,\n 'rl': 3853,\n 'od': 3662,\n 'ps': 3742,\n 'ab': 2754,\n 'Wa': 2438,\n 'gt': 3160,\n 'ei': 3019,\n 'iz': 3295,\n 'ze': 4353,\n 'ks': 3415,\n ' B': 32,\n 'Bu': 1139,\n 'Se': 2191,\n 'td': 3980,\n 'wn': 4170,\n 'kl': 3408,\n 'Dr': 1263,\n 'ga': 3141,\n 'Ac': 1057,\n 'Ch': 1191,\n 'dh': 2950,\n 'Ar': 1072,\n 'DA': 1221,\n 'AC': 1030,\n 'CA': 1158,\n 'A ': 1014,\n 'yo': 4299,\n 'Tw': 2274,\n 'xi': 4228,\n 'xc': 4222,\n 'lp': 3479,\n 'bb': 2817,\n 'Di': 1255,\n 'av': 2774,\n 'bj': 2825,\n 'je': 3336,\n ' O': 45,\n 'On': 1949,\n 'gy': 3165,\n 'n.': 3556,\n ' 6': 20,\n '6 ': 734,\n 'Fl': 1381,\n 'a ': 2713,\n ' G': 37,\n 'Go': 1448,\n 'Ri': 2129,\n 'Sc': 2189,\n ' 8': 22,\n '81': 873,\n 'Te': 2259,\n 'xa': 4221,\n 'Pu': 2019,\n 'df': 2948,\n ' 4': 18,\n '44': 614,\n '4 ': 605,\n 'cc': 2881,\n 'sg': 3914,\n 'Mo': 1822,\n 'Pe': 2005,\n 'nl': 3607,\n 'gs': 3159,\n ' V': 52,\n 'Vi': 2384,\n 'ej': 3020,\n 'ju': 3352,\n 'Ju': 1643,\n 'tm': 3989,\n 'ff': 3081,\n 'nn': 3609,\n 'So': 2201,\n 'DO': 1235,\n 'OD': 1912,\n 'D ': 1208,\n 'wf': 4162,\n 'ym': 4297,\n 'oh': 3666,\n 'Fe': 1375,\n 'b.': 2781,\n '21': 481,\n 'bm': 2828,\n ' L': 42,\n 'La': 1749,\n 'wy': 4180,\n 'y-': 4246,\n '-s': 210,\n 'e-': 2970,\n '-m': 204,\n 'aj': 2762,\n 'ok': 3669,\n 'sw': 3930,\n 'He': 1497,\n 'Ba': 1121,\n 'Al': 1066,\n 'mu': 3547,\n 'ds': 2961,\n 's.': 3869,\n 'Je': 1627,\n 'Le': 1752,\n 'i ': 3232,\n 'sb': 3909,\n 'dv': 2964,\n 'GL': 1418,\n 'LA': 1722,\n 'AD': 1031,\n 'fy': 3099,\n 'Bo': 1134,\n 'Am': 1067,\n 'Ci': 1192,\n 'Li': 1756,\n 'fs': 3093,\n 'd-': 2904,\n '-l': 203,\n 'Ob': 1937,\n 'sr': 3925,\n 'l.': 3426,\n ' -': 11,\n '- ': 154,\n 'D.': 1210,\n '.C': 233,\n 'C.': 1147,\n 'c.': 2842,\n 'gu': 3161,\n 'sl': 3919,\n 'e.': 2971,\n 'dl': 2954,\n '17': 421,\n 'tp': 3992,\n 'Oc': 1938,\n 'r-': 3802,\n '-b': 193,\n 'kp': 3412,\n 'oy': 3683,\n 'a-': 2714,\n '-e': 196,\n \" '\": 5,\n \"'L\": 105,\n 'Mr': 1825,\n 'r.': 3803,\n 'Mu': 1828,\n \"' \": 97,\n 'Ru': 2141,\n '16': 420,\n 'rf': 3847,\n 'Gr': 1451,\n 'ah': 2760,\n 'Ro': 2135,\n 'rw': 3864,\n 'An': 1068,\n 'uy': 4060,\n ' q': 78,\n 'o-': 3623,\n '-o': 206,\n 'Ne': 1875,\n ' Y': 55,\n 'Yo': 2580,\n 'Ti': 2263,\n 'nq': 3612,\n 'hr': 3223,\n 'wh': 4164,\n 'u ': 4003,\n 'FB': 1346,\n 'BI': 1103,\n ' K': 41,\n 'Kr': 1700,\n 'ml': 3538,\n 'Br': 1136,\n 'py': 3748,\n 'Sa': 2187,\n 'Ge': 1438,\n 'Au': 1075,\n 'Hi': 1501,\n 'Cl': 1195,\n 'p-': 3686,\n 'f ': 3037,\n 'NY': 1868,\n 'YT': 2560,\n 'T ': 2213,\n 'Lo': 1761,\n 'eh': 3018,\n '-i': 200,\n 'hs': 3224,\n 'Be': 1125,\n 'Du': 1266,\n 'tc': 3979,\n 't.': 3937,\n 'xt': 4238,\n '-c': 194,\n 'Eg': 1313,\n 'yp': 4300,\n 'Ab': 1056,\n 'bd': 2819,\n 'l-': 3425,\n '-S': 184,\n 'Si': 2195,\n 'Ap': 1070,\n 'lm': 3476,\n 'eu': 3031,\n 'Ty': 2276,\n 'Ou': 1956,\n 'Po': 2014,\n \"'m\": 127,\n 'az': 2778,\n 'zo': 4363,\n 'pm': 3736,\n 'AM': 1040,\n 'MZ': 1810,\n 'ZN': 2615,\n 'N.': 1837,\n '.O': 245,\n 'O ': 1896,\n 'hy': 3230,\n 'Of': 1941,\n ' ?': 29,\n '? ': 1012,\n 'Sh': 2194,\n 'MU': 1805,\n 'UC': 2293,\n 'CH': 1165,\n 'H ': 1459,\n 'MO': 1799,\n 'OR': 1926,\n 'RE': 2098,\n 'E ': 1271,\n ' !': 0,\n '! ': 92,\n 'wr': 4174,\n 'tw': 3999,\n 'bs': 2833,\n 'gl': 3152,\n '2 ': 475,\n 'ez': 3036,\n 'xe': 4224,\n 'Bl': 1131,\n 'Da': 1248,\n 'Iv': 1579,\n 'GB': 1408,\n 'BH': 1102,\n 'sk': 3918,\n 'sy': 3932,\n '15': 419,\n '46': 616,\n ' 0': 14,\n '0.': 345,\n '.8': 229,\n '86': 878,\n '1,': 410,\n ',1': 145,\n '75': 809,\n '5.': 672,\n '.9': 230,\n '90': 936,\n 'af': 2758,\n 'Ov': 1957,\n 'Ji': 1631,\n 'pM': 3710,\n 'ix': 3293,\n 'yz': 4310,\n 'UP': 2306,\n 'PS': 1992,\n '.N': 244,\n 'N ': 1834,\n 'dE': 2922,\n 'Ex': 1330,\n 'FD': 1348,\n 'DX': 1244,\n 'X.': 2465,\n '62': 741,\n '3.': 545,\n '.P': 246,\n 'Ga': 1434,\n '2.': 478,\n '.7': 228,\n '74': 808,\n '61': 740,\n '14': 418,\n '19': 423,\n '9.': 934,\n '73': 807,\n '.4': 225,\n 'By': 1143,\n ' 5': 19,\n '28': 488,\n 'dt': 2962,\n 'Mi': 1818,\n 'lv': 3485,\n 'Mc': 1813,\n 'cC': 2855,\n 'yl': 4296,\n '3 ': 542,\n '-t': 211,\n '9 ': 931,\n 'kn': 3410,\n 'g-': 3102,\n '.-': 218,\n '-M': 178,\n 'WA': 2412,\n 'AL': 1039,\n 'LL': 1733,\n 'L ': 1709,\n 'EN': 1294,\n 'ND': 1847,\n ' &': 4,\n '& ': 96,\n 'Sy': 2211,\n 'Im': 1570,\n 'DR': 1238,\n 'EA': 1281,\n 'If': 1564,\n 'PO': 1988,\n 'OT': 1928,\n 'TU': 2248,\n 'US': 2309,\n 'xh': 4227,\n 'np': 3611,\n '0-': 344,\n 'At': 1074,\n '-w': 214,\n 'My': 1832,\n 'Wi': 2445,\n 'lb': 3465,\n 'wk': 4167,\n 'ij': 3279,\n 'ji': 3340,\n 'Ko': 1697,\n 'Ag': 1061,\n 'NA': 1844,\n 'AF': 1033,\n 'FT': 1364,\n 'TA': 2228,\n 'tb': 3978,\n 'ox': 3682,\n '29': 489,\n ' @': 30,\n '@ ': 1013,\n 'lD': 3441,\n 'dT': 2937,\n '00': 347,\n '09': 356,\n '47': 617,\n ' %': 3,\n '% ': 95,\n ' [': 57,\n '[ ': 2649,\n '07': 354,\n 'ES': 1299,\n 'ST': 2179,\n ' ]': 59,\n '] ': 2651,\n '08': 355,\n '80': 872,\n '04': 351,\n '--': 155,\n '.l': 266,\n 'y/': 4248,\n '/2': 281,\n '2j': 525,\n 'jB': 3308,\n 'Bh': 1128,\n 'h4': 3175,\n '4L': 631,\n 'LU': 1742,\n 'U ': 2278,\n 'jp': 3347,\n 'pE': 3703,\n 'EX': 1304,\n 'XY': 2500,\n 'YR': 2558,\n 'R ': 2081,\n 'Gl': 1445,\n 'To': 2266,\n 'MA': 1785,\n 'AK': 1038,\n 'KI': 1668,\n 'IN': 1545,\n 'NG': 1850,\n 'G ': 1395,\n 'ME': 1789,\n 'ER': 1298,\n 'RI': 2102,\n 'IC': 1534,\n 'GR': 1424,\n 'AT': 1047,\n 'AG': 1034,\n 'GA': 1407,\n 'AI': 1036,\n '2l': 527,\n 'ln': 3477,\n 'pK': 3708,\n 'Ka': 1684,\n 'aq': 2769,\n 'q ': 3750,\n 'Ea': 1307,\n 'CO': 1172,\n 'OL': 1920,\n 'LD': 1725,\n 'DE': 1225,\n 'Ye': 2571,\n 'TR': 2245,\n 'IL': 1543,\n 'LI': 1730,\n 'IO': 1546,\n 'ON': 1922,\n 'NS': 1862,\n 'OF': 1914,\n 'F ': 1333,\n 'AR': 1045,\n 'RS': 2112,\n 'CN': 1171,\n 'NN': 1857,\n 'hn': 3219,\n '0s': 401,\n 'xu': 4239,\n '22': 482,\n '2,': 476,\n ',0': 144,\n '.6': 227,\n '51': 675,\n '12': 416,\n 'tg': 3983,\n 'dj': 2952,\n '60': 739,\n 'gd': 3144,\n 'h-': 3168,\n 'Cu': 1203,\n 'uo': 4050,\n '0,': 343,\n 'SA': 2160,\n 'LT': 1741,\n 'NB': 1845,\n 'BC': 1097,\n 'C ': 1145,\n 'cs': 2896,\n 'w.': 4121,\n 'Fi': 1379,\n 'f-': 3038,\n 'zu': 4369,\n '0t': 402,\n 'Ta': 2255,\n 'nj': 3605,\n '6t': 792,\n '93': 939,\n '34': 551,\n '13': 417,\n 'yr': 4302,\n 's-': 3868,\n '-p': 207,\n 'Va': 2377,\n 'kw': 3419,\n 'zi': 4357,\n 'H.': 1461,\n '02': 349,\n '24': 484,\n '27': 487,\n 'Ir': 1575,\n '1/': 413,\n '35': 552,\n '5,': 670,\n 'IS': 1550,\n 'SI': 2168,\n '7,': 800,\n ',5': 149,\n '50': 674,\n 'sq': 3924,\n '2/': 479,\n 'hl': 3217,\n ',9': 153,\n 'ja': 3332,\n 'jm': 3344,\n 'mc': 3529,\n '49': 619,\n ' #': 1,\n '# ': 93,\n 'dc': 2945,\n ' `': 61,\n '``': 2712,\n '` ': 2711,\n 'MS': 1803,\n 'S-': 2147,\n '-1': 157,\n 'Up': 2330,\n '83': 875,\n \"''\": 98,\n 'iR': 3260,\n 'RH': 2101,\n 'H3': 1465,\n '3b': 584,\n 'Mn': 1821,\n '45': 615,\n 'yc': 4287,\n 'Ai': 1063,\n 'KN': 1673,\n 'C-': 1146,\n '-T': 185,\n 'TV': 2249,\n 'V ': 2339,\n 'hb': 3207,\n 'AP': 1043,\n 'PD': 1977,\n 'oe': 3663,\n ' X': 54,\n 'X-': 2464,\n '-r': 209,\n 'Tu': 2272,\n 'Ya': 2567,\n '-5': 161,\n '-j': 201,\n ',6': 150,\n 'wp': 4172,\n 'El': 1318,\n 'lc': 3466,\n 'd.': 2905,\n 'Sl': 2198,\n 'yb': 4286,\n 'v.': 4063,\n '66': 745,\n '-A': 166,\n 'Jr': 1640,\n 'dz': 2968,\n 'Az': 1080,\n 'rb': 3843,\n 'v ': 4062,\n ' 9': 23,\n 'Ve': 2380,\n 'Ku': 1703,\n 'tn': 3990,\n 'Em': 1319,\n 'Or': 1953,\n 'Vl': 2387,\n 'za': 4349,\n '26': 486,\n 'Bi': 1129,\n 'aC': 2728,\n 'hC': 3183,\n '06': 353,\n '65': 744,\n '58': 682,\n 'WO': 2426,\n 'OW': 1931,\n 'W ': 2399,\n 'DN': 1234,\n 'NC': 1846,\n 'AN': 1041,\n 'NO': 1858,\n 'VE': 2355,\n 'IF': 1537,\n 'FY': 1369,\n 'Y ': 2527,\n 'CL': 1169,\n 'IM': 1544,\n 'OS': 1927,\n 'SS': 2178,\n 'IE': 1536,\n 'RU': 2114,\n 'IA': 1532,\n 'A/': 1018,\n '/T': 308,\n 'UM': 2303,\n 'MP': 1800,\n 'P ': 1962,\n 'NT': 1863,\n 'TE': 2232,\n 'ED': 1284,\n '82': 874,\n 'JO': 1610,\n 'OB': 1910,\n 'SU': 2180,\n 'CC': 1160,\n 'CE': 1162,\n '7:': 814,\n ':1': 994,\n 'Ce': 1188,\n 'EP': 1296,\n 'PI': 1982,\n 'hd': 3209,\n '-K': 176,\n 'ID': 1535,\n 'nb': 3597,\n 'Ae': 1059,\n 'yw': 4307,\n \"'s\": 132,\n 'Af': 1060,\n 'by': 2839,\n '40': 610,\n 'w-': 4120,\n 'ko': 3411,\n 'oj': 3668,\n 'Eh': 1314,\n 'W.': 2401,\n 'm-': 3491,\n 'uv': 4057,\n 'EO': 1295,\n 'OI': 1917,\n 'IR': 1549,\n 'sn': 3921,\n 'nr': 3613,\n '.r': 271,\n 's/': 3870,\n '2B': 492,\n 'lT': 3457,\n 'T0': 2217,\n '0V': 378,\n 'VK': 2361,\n 'K ': 1647,\n 'BB': 1096,\n 'BR': 1112,\n 'R8': 2091,\n '8w': 928,\n 'wj': 4166,\n 'j ': 3296,\n '2C': 493,\n 'C2': 1151,\n '2s': 534,\n 'sW': 3904,\n 'WC': 2414,\n 'Cs': 1202,\n 'pd': 3727,\n '-y': 215,\n 'vu': 4113,\n 'mf': 3532,\n 'ky': 3421,\n 'g.': 3103,\n 'Ec': 1309,\n 'y.': 4247,\n ...}"
     },
     "execution_count": 89,
     "metadata": {},
     "output_type": "execute_result"
    }
   ],
   "source": [
    "pipeline.steps[0][1].vocabulary_"
   ],
   "metadata": {
    "collapsed": false,
    "pycharm": {
     "name": "#%%\n"
    }
   }
  },
  {
   "cell_type": "code",
   "execution_count": 96,
   "outputs": [],
   "source": [
    "tfidf_matrix = pipeline.steps[0][1].fit_transform(all_texts)\n",
    "tfidf_df = pd.DataFrame(tfidf_matrix.toarray(), index=range(len(all_texts)))"
   ],
   "metadata": {
    "collapsed": false,
    "pycharm": {
     "name": "#%%\n"
    }
   }
  },
  {
   "cell_type": "code",
   "execution_count": 104,
   "outputs": [
    {
     "data": {
      "text/plain": "array([[ 0.06528675,  0.00930814],\n       [ 0.06726696, -0.00013091],\n       [ 0.0662799 , -0.00324679],\n       ...,\n       [ 0.06009913, -0.0017405 ],\n       [ 0.06040361, -0.00903062],\n       [ 0.06064518, -0.00861976]])"
     },
     "execution_count": 104,
     "metadata": {},
     "output_type": "execute_result"
    }
   ],
   "source": [
    "svd = TruncatedSVD(n_components=2, random_state=42)\n",
    "result = svd.fit_transform(tfidf_df)"
   ],
   "metadata": {
    "collapsed": false,
    "pycharm": {
     "name": "#%%\n"
    }
   }
  },
  {
   "cell_type": "code",
   "execution_count": 117,
   "outputs": [
    {
     "name": "stdout",
     "output_type": "stream",
     "text": [
      "['\"e \"', '\"s \"', '\"d \"', '\"in\"', '\"er\"', '\"t \"', '\"re\"', '\"on\"', '\"te\"', '\"n \"', '\"en\"', '\" ,\"', '\", \"', '\"es\"', '\"y \"', '\" s\"', '\". \"', '\"at\"', '\"ed\"', '\"ti\"', '\"ng\"', '\"an\"', '\"al\"', '\" .\"', '\" c\"', '\"nt\"', '\"or\"', '\"g \"', '\"r \"', '\" p\"', '\"st\"', '\" T\"', '\"ar\"', '\"le\"', '\"se\"', '\"de\"', '\" a\"', '\"l \"', '\"me\"', '\"ea\"', '\" t\"', '\"li\"', '\"ic\"', '\"ou\"', '\"co\"', '\"io\"', '\"it\"', '\" r\"', '\"ra\"', '\"ll\"', '\"ne\"', '\"si\"', '\"mp\"', '\"ve\"', '\"ri\"', '\"ta\"', '\"id\"', '\"is\"', '\"p \"', '\"ru\"', '\"um\"', '\" m\"', '\"na\"', '\"ca\"', '\"us\"', '\" l\"', '\"ma\"', '\"he\"', '\"ns\"', '\" w\"', '\"nd\"', '\"ce\"', '\"el\"', '\" d\"', '\" f\"', '\"ai\"', '\"Tr\"', '\"la\"', '\" b\"', '\"ss\"', '\" e\"', '\" S\"', '\"ro\"', '\"rs\"', '\"th\"', '\"il\"', '\"hi\"', '\"pr\"', '\" i\"', '\"ec\"', '\"pe\"', '\"et\"', '\"ge\"', '\"rt\"', '\"ac\"', '\"ur\"', '\"ly\"', '\" R\"', '\"po\"', '\"sa\"']\n",
      "[' A', 'As', 's ', ' U', 'U.', '.S', 'S.', '. ', ' b', 'bu', 'ud', 'dg', 'ge', 'et', 't ', ' f', 'fi', 'ig', 'gh', 'ht', ' l', 'lo', 'oo', 'om', 'ms', ' ,', ', ', ' R', 'Re', 'ep', 'pu', 'ub', 'bl', 'li', 'ic', 'ca', 'an', 'ns', 'fl', 'ip', 'p ', 'is', 'sc', 'al', 'l ', ' s', 'cr', 'ri', 'pt', ' .', ' T', 'Th', 'he', 'e ', ' h', 'ea', 'ad', 'd ', ' c', 'co', 'on', 'se', 'er', 'rv', 'va', 'at', 'ti', 'iv', 've', 'n ', 'fa', 'ac', 'ct', 'io', ' C', 'Co', 'ng', 'gr', 're', 'es', 'ss', ' v', 'vo', 'ot', 'te', 'ed', ' m', 'mo', 'nt', 'th', 'h ', 'hu', 'ug', ' e', 'ex', 'xp', 'pa', 'si', ' n', 'na', ' d', 'de', 'eb', 'bt', ' p', 'ay', 'y ', ' t', 'ta', 'ax', 'x ', 'cu', 'ut', 'ts', 'll', 'le', ' S', 'Su', 'un', 'nd', 'da', ' u', 'ur', 'rg', ' r', 'st', 'tr', 'ra', 'ai', 'in', ' 2', '20', '01', '18', '8 ', ' I', 'In', ' k', 'ke', 'ee', 'pi', 'g ', 'sh', 'ha', 'ar', 'rp', ' w', 'wa', ' a', 'am', 'pr', 'en', ' M', 'Ma', 'rk', 'k ', 'Me', 'do', 'ow', 'ws', 'sp', 'pe', 'ak', 'ki', 'CB', 'BS', 'S ', ' F', 'Fa', 'ce', ' N', 'Na', 'dr', 'ew', 'w ', 'rd', 'ne', 'fe', 'di', 'la', 'aw', 'wm', 'ma', 'rs', 'br', 'ci', 'ba', 'tt', 'tl', ' J', 'Ja', 'nu', 'ua', 'ry', ' W', 'Wh', 'tu', 'rn', 'ho', 'ol', 'id', 'ys', 'We', 'dn', 'sd', 'be', 'eg', 'gi', 'yi', 'as', 'ik', 'el', 'ly', 'nk', ' i', 'su', 'ue', 'im', 'mm', 'mi', 'po', 'cy', 'ev', 'No', 'ov', 'em', 'mb', 'r ', 'ec', 'mp', 'gn', 'ap', 'pp', 'ro', 'oa', 'ch', 'ek', ' P', 'Pr', ' D', 'Do', 'ld', 'Tr', 'ru', 'um', 'bi', 'nc', 'il', 'it', 'De', 'oc', 'ls', 'so', 'o ', 'op', 'or', 'rt', 'no', 'n-', '-d', 'ef', 'og', 'up', 'du', 'uc', 'ie', 'if', 'c ', 'rc', 'nf', 'fr', 'lt', 'nv', 'vi', 'ir', 'nm', 'me', ' (', '( ', ' )', ') ', 'dm', 'ni', 'lr', 'dy', 'wi', 'sa', ' :', ': ', ' g', 'go', 'oi', '..', ' 7', '7 ', 'rm', 'sm', 'lu', 'ia', ' H', 'Ho', 'ou', 'us', 'Fr', 'm ', 'Ca', 'au', ' 1', '10', '0 ', '11', '1 ', 'Fo', 'I ', ' E', 'Ev', 'eo', 'pl', 'ey', 'ty', 't-', '-f', ' o', 'rh', 'ul', 'dd', ' $', '$ ', '1.', '.5', '5 ', ' y', 'ye', 'It', 'lk', 'ib', 'Jo', 'os', 'ph', 'Cr', 'wl', 'wo', 'eq', 'qu', 'ui', 'Un', 'St', 'bo', 'rr', 'fu', 'hi', 'to', 'ny', 'ck', 'ka', 'ag', 'gg', ' 3', '30', 'my', ' j', 'jo', 'ob', 'b ', 'wt', 'Sp', 'Pa', 'Ry', 'ya', 'we', 'cl', 'lf', 'fo', 'of', 'ft', 'rl', 'od', 'ps', 'ab', 'Wa', 'gt', 'ei', 'iz', 'ze', 'ks', ' B', 'Bu', 'Se', 'td', 'wn', 'kl', 'Dr', 'ga', 'Ac', 'Ch', 'dh', 'Ar', 'DA', 'AC', 'CA', 'A ', 'yo', 'Tw', 'xi', 'xc', 'lp', 'bb', 'Di', 'av', 'bj', 'je', ' O', 'On', 'gy', 'n.', ' 6', '6 ', 'Fl', 'a ', ' G', 'Go', 'Ri', 'Sc', ' 8', '81', 'Te', 'xa', 'Pu', 'df', ' 4', '44', '4 ', 'cc', 'sg', 'Mo', 'Pe', 'nl', 'gs', ' V', 'Vi', 'ej', 'ju', 'Ju', 'tm', 'ff', 'nn', 'So', 'DO', 'OD', 'D ', 'wf', 'ym', 'oh', 'Fe', 'b.', '21', 'bm', ' L', 'La', 'wy', 'y-', '-s', 'e-', '-m', 'aj', 'ok', 'sw', 'He', 'Ba', 'Al', 'mu', 'ds', 's.', 'Je', 'Le', 'i ', 'sb', 'dv', 'GL', 'LA', 'AD', 'fy', 'Bo', 'Am', 'Ci', 'Li', 'fs', 'd-', '-l', 'Ob', 'sr', 'l.', ' -', '- ', 'D.', '.C', 'C.', 'c.', 'gu', 'sl', 'e.', 'dl', '17', 'tp', 'Oc', 'r-', '-b', 'kp', 'oy', 'a-', '-e', \" '\", \"'L\", 'Mr', 'r.', 'Mu', \"' \", 'Ru', '16', 'rf', 'Gr', 'ah', 'Ro', 'rw', 'An', 'uy', ' q', 'o-', '-o', 'Ne', ' Y', 'Yo', 'Ti', 'nq', 'hr', 'wh', 'u ', 'FB', 'BI', ' K', 'Kr', 'ml', 'Br', 'py', 'Sa', 'Ge', 'Au', 'Hi', 'Cl', 'p-', 'f ', 'NY', 'YT', 'T ', 'Lo', 'eh', '-i', 'hs', 'Be', 'Du', 'tc', 't.', 'xt', '-c', 'Eg', 'yp', 'Ab', 'bd', 'l-', '-S', 'Si', 'Ap', 'lm', 'eu', 'Ty', 'Ou', 'Po', \"'m\", 'az', 'zo', 'pm', 'AM', 'MZ', 'ZN', 'N.', '.O', 'O ', 'hy', 'Of', ' ?', '? ', 'Sh', 'MU', 'UC', 'CH', 'H ', 'MO', 'OR', 'RE', 'E ', ' !', '! ', 'wr', 'tw', 'bs', 'gl', '2 ', 'ez', 'xe', 'Bl', 'Da', 'Iv', 'GB', 'BH', 'sk', 'sy', '15', '46', ' 0', '0.', '.8', '86', '1,', ',1', '75', '5.', '.9', '90', 'af', 'Ov', 'Ji', 'pM', 'ix', 'yz', 'UP', 'PS', '.N', 'N ', 'dE', 'Ex', 'FD', 'DX', 'X.', '62', '3.', '.P', 'Ga', '2.', '.7', '74', '61', '14', '19', '9.', '73', '.4', 'By', ' 5', '28', 'dt', 'Mi', 'lv', 'Mc', 'cC', 'yl', '3 ', '-t', '9 ', 'kn', 'g-', '.-', '-M', 'WA', 'AL', 'LL', 'L ', 'EN', 'ND', ' &', '& ', 'Sy', 'Im', 'DR', 'EA', 'If', 'PO', 'OT', 'TU', 'US', 'xh', 'np', '0-', 'At', '-w', 'My', 'Wi', 'lb', 'wk', 'ij', 'ji', 'Ko', 'Ag', 'NA', 'AF', 'FT', 'TA', 'tb', 'ox', '29', ' @', '@ ', 'lD', 'dT', '00', '09', '47', ' %', '% ', ' [', '[ ', '07', 'ES', 'ST', ' ]', '] ', '08', '80', '04', '--', '.l', 'y/', '/2', '2j', 'jB', 'Bh', 'h4', '4L', 'LU', 'U ', 'jp', 'pE', 'EX', 'XY', 'YR', 'R ', 'Gl', 'To', 'MA', 'AK', 'KI', 'IN', 'NG', 'G ', 'ME', 'ER', 'RI', 'IC', 'GR', 'AT', 'AG', 'GA', 'AI', '2l', 'ln', 'pK', 'Ka', 'aq', 'q ', 'Ea', 'CO', 'OL', 'LD', 'DE', 'Ye', 'TR', 'IL', 'LI', 'IO', 'ON', 'NS', 'OF', 'F ', 'AR', 'RS', 'CN', 'NN', 'hn', '0s', 'xu', '22', '2,', ',0', '.6', '51', '12', 'tg', 'dj', '60', 'gd', 'h-', 'Cu', 'uo', '0,', 'SA', 'LT', 'NB', 'BC', 'C ', 'cs', 'w.', 'Fi', 'f-', 'zu', '0t', 'Ta', 'nj', '6t', '93', '34', '13', 'yr', 's-', '-p', 'Va', 'kw', 'zi', 'H.', '02', '24', '27', 'Ir', '1/', '35', '5,', 'IS', 'SI', '7,', ',5', '50', 'sq', '2/', 'hl', ',9', 'ja', 'jm', 'mc', '49', ' #', '# ', 'dc', ' `', '``', '` ', 'MS', 'S-', '-1', 'Up', '83', \"''\", 'iR', 'RH', 'H3', '3b', 'Mn', '45', 'yc', 'Ai', 'KN', 'C-', '-T', 'TV', 'V ', 'hb', 'AP', 'PD', 'oe', ' X', 'X-', '-r', 'Tu', 'Ya', '-5', '-j', ',6', 'wp', 'El', 'lc', 'd.', 'Sl', 'yb', 'v.', '66', '-A', 'Jr', 'dz', 'Az', 'rb', 'v ', ' 9', 'Ve', 'Ku', 'tn', 'Em', 'Or', 'Vl', 'za', '26', 'Bi', 'aC', 'hC', '06', '65', '58', 'WO', 'OW', 'W ', 'DN', 'NC', 'AN', 'NO', 'VE', 'IF', 'FY', 'Y ', 'CL', 'IM', 'OS', 'SS', 'IE', 'RU', 'IA', 'A/', '/T', 'UM', 'MP', 'P ', 'NT', 'TE', 'ED', '82', 'JO', 'OB', 'SU', 'CC', 'CE', '7:', ':1', 'Ce', 'EP', 'PI', 'hd', '-K', 'ID', 'nb', 'Ae', 'yw', \"'s\", 'Af', 'by', '40', 'w-', 'ko', 'oj', 'Eh', 'W.', 'm-', 'uv', 'EO', 'OI', 'IR', 'sn', 'nr', '.r', 's/', '2B', 'lT', 'T0', '0V', 'VK', 'K ', 'BB', 'BR', 'R8', '8w', 'wj', 'j ', '2C', 'C2', '2s', 'sW', 'WC', 'Cs', 'pd', '-y', 'vu', 'mf', 'ky', 'g.', 'Ec', 'y.', 'dk', 'ku', 'Ki', 'i-', 'm.', '9t', 'Ha', 'ii', 'ao', 'x-', 'ih', 'hm', '4t', 'uf', 'cz', 'zy', 'yn', 'Ke', 'Fu', 'uj', '99', 'Ni', 'Gu', 'Ip', 'yt', 'Ef', 'sf', '25', '5-', '-2', '-F', 'wd', '79', '9-', '-a', '-L', '98', 'hc', 'Ra', 'tz', 'z ', 'SE', 'EC', 'TJ', 'JC', 'ae', 'Pi', 'iw', '31', '05', 'NE', 'EV', '91', 'Ad', 'VA', 'AX', 'X ', 'CU', 'UT', 'TS', 'EF', 'FO', 'RM', 'M ', '/S', '52', '2-', '-4', '48', '1-', 'a.', 'uz', 'zz', 'k.', 'eM', 'jL', 'Ld', 'Gi', 'Is', 'Ph', '7t', '-h', 'Bg', 'gq', 'q2', '9K', 'oz', 'lw', 'cG', 'Ky', '/I', 'lg', '55', 'p.', 'Id', '78', '8,', '6,', '7.', '.3', '4.', '.1', '7-', '96', 'Ly', 'B.', 'nh', 'wc', 'En', 'tf', 'HI', 'AS', '85', 'Sm', 'bp', 'pg', '23', '88', '6-', '-3', '32', 'mn', 'nw', 'Lu', '70', 'Ot', 'Et', 'CR', 'EW', 'kb', '72', 'BE', 'KE', '56', 'SH', 'HU', 'TD', 'WN', '.R', 'TO', 'AY', 'OP', 'PE', '95', 'vy', 'fg', '69', '71', 'Oa', 'Pl', 'Xa', 'h.', '-U', 'Ed', 'dw', 'tj', 'DH', 'HS', 'gf', 'BP', 'F.', 'Ds', ' Z', 'Zi', ' ;', '; ', 'iu', 'SQ', 'QM', 'FM', 'MC', 'CI', 'mr', '4-', '-u', 'Ul', '-N', 'hh', 'Op', '43', 'AB', 'k-', '87', '63', '-g', 'FI', 'SN', 'hw', 'hk', '57', 'tv', 'Io', 'dq', '-v', 'Sk', 'Lt', 'L.', 'zl', '8-', '/3', '-D', '59', \"'c\", 'c-', 'Us', 'Vo', \"'D\", 'Sw', 'kr', 'Hu', 'tG', '94', 'Oh', 'uT', 'PA', 'hf', 'kf', '-P', 'NW', 'WR', 'Gw', '-k', '.2', 'Oi', 'RF', 'FS', 'Er', 'Ns', '68', \"'S\", '39', '2y', 'yY', 'Yk', 'kc', 'cH', 'HV', 'eO', 'Wo', 'rP', 'HO', '-n', 'uk', 'wb', 'GO', '-Y', 'rz', '-J', 'yg', '1:', ':0', 'P.', '.M', 'M.', 'IV', 'VI', 'CT', 'EL', 'xC', 'dJ', 'sA', 'RP', 'RA', 'TH', 'HR', 'RO', 'OU', 'UG', 'GH', 'RN', 'TI', 'MI', 'NI', 'RR', 'IT', 'SY', 'YS', 'EM', 'iq', 'I-', '-B', 'BA', 'UR', 'XP', 'DU', 'LE', 'RG', 'GY', 'yd', 'CK', 'ET', '9,', '77', ',4', '53', '3,', '33', ',3', '41', ',7', '37', '38', 'RD', '4,', 'DI', ' z', 'SO', 'XE', 'PT', 'UA', 'MT', 'NH', 'HE', 'RT', 'TG', 'GE', \"'p\", 'kh', \"n'\", \"'t\", 'B/', '/H', 'OM', 'P/', '/C', 'Ei', 'FA', 'AO', 'p/', 'cL', '-6', 'gz', '.0', 'UB', '2k', 'f2', '6g', 'gx', 'b-', ' Q', 'Qu', 'uh', 'gm', 'JP', 'PM', 'Pf', 'PN', 'Wr', '-R', 'pf', 'Ax', '54', 'XI', 'OK', 'Ks', '-I', '3-', 'lZ', 'Zo', '42', '03', 'JA', 'BL', 'NV', 'TM', 'FF', 'BM', 'PR', 'NK', 'JI', 'AU', 'UL', 'LS', 'EG', 'GI', 'EU', 'AA', 'KO', 'OH', 'HL', 'RK', 'YO', 'EE', 'RY', 'TF', 'FU', 'UN', 'DS', 'OV', 'BN', 'LO', 'GS', 'SV', 'RL', 'IZ', 'ZO', 'RV', 'HA', 'MM', 'bc', 'dp', 'OC', 'Ts', \"'n\", 'VP', ':3', '.m', 'GM', 'Ut', 'tk', 'HH', '6.', 'dI', '-0', '64', 'uP', 'l9', 'PL', 'jK', 'Kw', 'a2', 'kQ', 'Qr', 'IG', 'GG', 'Bb', 'bA', 'Aj', 'jI', 'I6', 'WI', 'TY', 'Bd', 'rO', 'fJ', 'J ', '84', 'TN', 'sj', 'jq', 'q7', 'Ur', 'FE', \"'e\", 'CF', 'FP', 'PB', 'B ', 'MB', 'bv', 'Uk', 'Eu', 'Xi', 'IU', 'GT', 'LN', 'G.', 'Ok', 'WW', 'WL', 'L-', '92', 'Kl', 'ux', 'KK', 'Av', '.D', 'DJ', 'SP', 'PX', '67', '.I', 'IX', '36', \"'g\", 'Pw', 'wC', 'o.', 'pc', 'Ll', 'zF', 'UE', 'SM', 'Sq', 'HM', 'MX', '-C', 'SD', 'AQ', 'Q ', 'VO', 'WG', 'G_', '_p', 'SL', 'A.', '.T', 'MW', 'Ub', 'FC', 'zf', 'iy', 'P1', 'GP', 'kt', '-G', '-W', '5:', 'D6', 'VW', 'WP', '-V', '-H', 'pF', 'rN', 'iL', 'Sn', 'BU', '8.', 'hL', 'LP', '.c', 'kd', 'XL', 'LF', 'BY', 'Y.', 'T.', 'TC', 'hj', 'PF', 'OA', '2h', 'hv', 'v1', '1x', 'xg', 'gN', 'jv', 'vL', 'Pp', 'pR', 'nX', 'sv', 'NP', 'KY', 'WD', 'RB', 'B-', \"'l\", '0E', 'EZ', 'Z ', 'KH', 'HT', '.U', 'oT', 'Ow', 'Za', '97', ' *', '* ', \"'d\", 'Nu', 'Dw', '1s', 'UK', 'NF', 'FL', 'Il', 'Wy', 'Os', '.A', \"'i\", 'Om', 'EY', 'EI', 'DV', 'TL', 'IY', 'DB', 'CY', 'DC', 'RC', 'DL', 'nG', ',8', '-E', \"'h\", 'i.', '2A', 'Hy', 'lP', 'd/', '/o', 'WS', 'kk', '.w', '.g', 'v/', '/X', 'Xp', 'Fs', 'sZ', 'Zu', 'cM', 'pb', 'SC', 'VL', 'O.', 'lC', \"'f\", 'GD', 'DP', 'Ze', 'Ms', 'aa', 'vr', 'Y/', 'hD', 'l/', '/5', '5B', 'Bp', 'pT', 'PG', 'kg', '.E', 'O-', 'nz', 'n=', '=d', '3t', 'cK', 'cq', '1t', 'eS', 'Ol', '8:', ':4', '9:', 'L1', '1N', 'N1', '1O', 'O7', '2H', 'H6', '1R', 'yf', 'Es', 'eH', 'yH', 'B1', '1E', '7q', 'i/', 'OY', 'OO', 'yA', 'xN', '.W', 'WH', 'DT', '8t', 'f.', 'Y-', 'U-', 'u-', 'Rz', 'zT', 'A7', '7Y', 'Y5', '5o', 'FX', 'pw', 'Dm', 'EB', 'AE', 'eV', 'fw', 'CP', 'KR', 'BO', 'OE', 'lH', 'rR', 'eD', 'm/', '/p', '/B', 'Bc', 'eC', 'Ek', '/ ', '/7', '7/', '/1', 'CS', 'SR', 'Rs', 'nx', 'IP', 'PC', 'C/', 'FR', 'P-', 'db', 'LB', 'Eb', 'Pt', 'Qa', \"'G\", 'vw', 'wK', '2:', 'o/', '/M', ',2', \"'M\", 'eK', 'KB', 'Yu', '5t', \"'Y\", \"'r\", 'xx', 'xo', 'Kn', 'GN', 'BK', 'KG', 'Gn', 'zp', 'GZ', 'ZP', 'I.', 'VT', 'TB', 'R.', 'Sb', 'SB', 'A-', 'Eq', 'II', 'eL', 'oG', 'nH', 'kO', 'rj', 'jw', 'tB', 'yQ', 'QY', 'Rh', 's4', 'sM', 'T_', '_E', 'K.', 'cF', 'fm', 'mk', '2n', 'mv', 'PH', '76', 'rV', 'qq', 'qa', 'Kh', 'fz', 'fn', ':2', 'AV', 'V.', '/P', 'PU', 'oC', '2z', 'Tq', 'qx', 'cZ', 'UI', 'r/', 'LC', 'CX', 'XD', 'DY', 'Yg', 'gQ', 'Qe', 'MY', 'WT', 'Ib', 'Ng', 'Cz', 'zw', 'nL', 'NQ', 'Q1', '5C', ' }', '} ', 'CM', 'VZ', 'Z.', 'SF', 'zV', 'VJ', 'Jl', 's9', 'n9', '9A', 'Md', 'P5', 'ZI', 'SX', 'LK', 'UV', 'LR', 'HC', 'eB', 'DG', 'GX', 'RX', 'JW', 'KS', '-8', 'OG', 'N-', 'LG', 'BT', 'CV', 'VR', 'BF', 'Ic', 'lK', 'Kd', 'mT', 'cW', 'Py', \"'T\", 'fh', 'bk', 'Ig', 'D-', 'a_', '_M', 'lh', 'bh', 'Q3', 'JB', 'A_', '_N', 'FW', 's_', '_k', 'kX', 'Xg', 'gT', 'G5', '5/', 'Bs', 'cI', 'J.', 'rS', 'Sd', 'd7', 'UW', '2i', 'Ah', \"'o\", 'WF', 'BW', '.B', 'KX', \"'P\", '4:', \"'A\", 'HY', 'L8', '8N', 'W0', '0M', \"'b\", 'u.', 'yy', '.K', '2t', 'uu', 'Ml', \"'u\", 'aV', 'iA', 'hq', 'TP', 'Ny', 'zq', 'jJ', 'J7', '7p', 'h6', 'B4', 'zW', 'Rt', 't0', 'Ht', 'OJ', 'cn', 'cx', 'x/', 'iO', 'Vw', '89', 'T-', 'LH', 'Q.', 'Ug', 'K-', '.s', 'UF', 'FJ', 'FG', 'A1', '1L', 'Lf', 'fX', 'XV', 'WE', '-q', 'NX', 'dS', '-O', 'KA', 'mh', 'NL', 'L2', 'K2', '2O', 't/', '/n', 'BG', 'zh', 'Vu', 'bn', 'VC', 'SJ', '/e', 'cw', 'Cy', 'mw', 'xf', '.f', '-7', ' x', 'PP', 'zK', 'Y1', 'tQ', 'IH', 'Sv', 'zE', 'Ew', 'wN', 'N7', '7a', '6s', ' {', '{ ', 'w/', '/a', 'LY', 'MR', 'hR', '.o', \"'C\", 'cD', 'rG', 'E.', 'zk', 'ww', '/t', 'E-', 'dA', 'AW', 'eT', 'yu', 'km', 'cQ', 'AZ', 'zd', 'WB', 'yv', 'Yi', 'PK', 'F1', '1M', 'KL', 'IB', 'YV', 'JE', 'UZ', 'ZZ', 'AJ', 'SG', 'YA', 'S1', '0Y', 'T=', '=R', 'S3', '4/', 'R=', '= ', 'L3', '3N', 'F2', '2I', 'lj', 'nM', 'Ak', 'Zh', \"'v\", 'oK', 'xy', 'gw', 'Ay', 'oI', 'C1', '1A', 'eP', 'cA', 'Dy', 'yk', 'Dh', 'O2', 'A+', '+ ', 'F-', '0Q', 'DM', '-X', 'JD', 'bw', '.L', 'IK', 'EH', 'YI', 'EQ', 'QU', 'YE', \"'O\", 'nS', 'xl', 'Dv', 'hp', 'IJ', 'X/', 'UD', 'LM', 'zn', 'b0', '0v', 'vv', 'k1', '1H', 'lV', 'BQ', 'Ii', '.t', 'wX', 'Xz', 'zP', 'pn', 'cN', '3r', 'rC', 'Uz', 'zb', 'qi', \"'H\", 'HK', 'WM', 'Um', 'XO', '1J', 'JQ', '1I', 'I4', 'L4', '4N', 'N8', '3M', 'MN', '1B', '2N', '7P', 'aT', 'T2', 'JS', 'oq', 'Ey', '6I', 'I0', '5Y', 'P0', '0G', 'N2', '9P', 'E2', '/c', '/s', '0D', 'D3', 'vs', 'h7', '7h', 'sF', 'Fx', 'Cp', 'p6', 'lz', 'h8', '8l', 'fC', 'Cm', 'a4', '4l', 'tY', 'z7', '7Q', 'Qd', 'l8', '7m', 'mM', 'ZE', 'Wu', '9/', 'z5', 'Cv', 'v2', \"'w\", 'Od', 'YC', 'Hs', '.Y', 'iP', 'sz', 'FH', 'HF', 'M-', '6B', 'h2', '2G', 'rD', 'MF', 'CD', '-Q', 'hS', \"'y\", 'AH', 'HB', 'H-', 'JF', 'FK', 'KF', 'xs', \"'Q\", 'V/', '/A', 'Hl', 'zg', '7T', 'tS', '7n', '7D', 'l1', '7W', 'e3', '7H', '.H', '6T', '/4', '4F', 'e2', '2K', 'pA', 'e8', 'yW', 'y8', '7S', 'n/', '/G', '.F', 'vf', 'e/', 'Xt', 'tZ', 'ZW', 'W5', '5P', 'Pd', 'dU', 'U2', '2b', 'Y2', '2p', 'sH', ' /', '//', '/z', 'zc', 'cb', 'c4', '4W', 'Wp', 'p5', '5b', 'c6', '7I', '/f', 'fW', 'Wf', 'Xs', 'px', '_u', '/y', 'sO', 'Lj', 'jf', 'fx', 'xU', 'mS', '7y', 'sC', 'CJ', '/d', 'dW', 'r5', '5k', 'k8', '8Z', 'ZV', '7A', 'Ik', '7R', '/u', 'Fd', 'lM', 'l_', 'nF', 'MH', 'H2', 'Aa', 'r2', 'sR', 'sD', 'tK', 'c1', '/F', 'Fg', 'g7', '7V', 'xR', 'tJ', '5g', 'gE', 'cj', 'jQ', 'QT', 'Tb', 'bH', 'zr', 'rW', 'yM', 'XR', 'Rc', '/w', 'iQ', 'QS', 'QN', 'Nz', 'w0', ' _', '_c', '0A', 'aZ', 'ZD', 'T1', 'B3', 'yB', 'lG', 'Gm', 'k6', '5Z', ' =', '==', '/Z', 'Z7', '7d', 'Q5', '5s', 'w1', 'g/', 'TT', 'TW', 'nB', 'SK', 'I/', '9m', '/8', '8T', 'TK', 'Kt', 'rM', 'Mq', 'qR', 'a1', 'R-', 'a/', '/h', 'hI', 'Ix', 's3', '3D', 'Dc', 'O8', 'mt', '/E', 'E5', 'I8', '3m', 'mU', 'wT', 'lO', 'fP', '5E', '9J', 'Jw', 'DW', 'yL', 'Bm', 'pN', 'Nv', 'vG', 'nC', 'n1', '7B', 'hN', 'oS', '3v', 'vM', 'ZU', 'lx', 'hM', 'eW', 'Xr', 'u3', '2E', 'V8', 'Dp', 'P9', '9U', 'UX', 'X1', '1b', 'bM', 'M8', 'mD', 'a7', 'yK', 'FQ', 'QC', 'pk', 'xH', '7C', 'kH', '7N', 'YJ', 'JR', 'Rk', 'J1', 't_', '_T', '/6', '5F', 'Fh', 'bQ', 'QH', 'uV', 'V4', 'nV', 'd1', 'tC', 'TX', '7l', 'kI', '/g', 'g8', '8S', 'wg', 'gA', 'fH', '/9', '9l', 'Cq', 'qp', 'pY', 's0', 'sL', 'y1', '7G', 'DK', 'jk', 'm1', 'Vj', 'x9', '2e', 'p_', 's1', 'iW', 'W6', '/N', 'X9', '9r', 'NR', 'Xm', '/Q', 'PW', 'W9', '9F', 'Ft', 'bS', 'aP', 'nP', '/m', 'bK', 'KC', 'IW', 'Gx', 'xB', '.G', '7F', 'TQ', '0+', 'wF', 'gD', 'Dk', 'kv', 'vz', 'hT', 'eJ', 'I2', '2a', '1U', '5D', 'GK', 'oA', 'Cj', 'hH', 'pD', 'JY', 'YF', 'FZ', 'Zj', 'jz', 'xQ', 'QI', 'jZ', 'ZJ', 'J0', 'n_', '_B', 'NJ', 'J3', '3e', 'vT', '0m', 'JT', 'pJ', 'Nm', 'uR', 'Rm', 'm5', '5M', 'Mg', 'gM', 'Mz', 'y5', 'p1', '1u', 'u2', 'tH', 'mA', '/J', 'jO', 'Yq', 'qc', 'zB', 'B2', 'zX', 'Xk', 't7', 'hA', 'tN', 'v_', 'k/', '.Q', 'MD', '.J', 'NM', 'JZ', 'ZM', 'aE', 'Yd', 'dx', 'fF', 'YM', 'tR', '7O', 'nJ', '/K', 'KQ', 'Qf', 'W7', '7b', 'bO', 'Oy', 'wM', 'gW', 'Wl', 'l6', '6K', 'aL', '_J', 'b8', '8B', 'B9', '9O', 'Oj', 'j1', 'xS', 'kB', '0/', 'i_', 'tD', 'e7', 'i1', '/V', 'u5', '0I', '8A', 'i0', '0U', 'Ux', 'yG', '/O', 'OZ', 'Z1', '1Z', 'iB', 'Gh', 'Aw', '6W', 'Wt', 'd0', '0T', 'Tf', '/L', '1o', 'o5', 'JX', 'rQ', 'nR', '_C', 'Ep', \"N'\", 'dD', '7E', 'YD', 'aB', 'fQ', 'Qk', 'kT', 'a9', 'rB', '6c', 'c0', '0y', 'yV', 'V1', '1l', '7M', 'r8', 'wL', 'L9', '9e', 'n4', '4Y', 'YQ', '_s', '6h', 'hK', 'KU', 'gF', 'r4', '4R', 'nT', '6d', '_F', 'b1', '8V', 'Vy', 'wW', 'W3', '3L', 'xM', '6A', 'aS', 'YK', 'Kp', 'pz', 'yP', '/v', 'oE', 'EJ', 'eA', '7L', 'kL', 'zD', 'A9', '9E', 'aK', 'K3', 'sT', '6o', 'vS', 'vb', 'QW', 'YG', 'e_', '_Q', 'fb', 'uK', 'Vn', 'nO', 'eG', 'tW', 'k3', 's6', 'iX', 'XA', 'm0', '0S', 'Sg', 'gC', 'pP', 'iG', 'w8', 'gc', 'rF', 'Fp', 'pC', 'yS', 'q9', 'uq', '2W', '2M', 'Pg', 'bx', 'fT', 'CW', 'dN', '/i', 'fV', 'JL', 'Lv', 'Q9', 'WY', 'Yx', 'xv', 'aF', 'tP', '6V', 'VH', 'HX', 'XG', 'Gg', 'gH', 'L6', '6D', 'Kx', 'fq', 'qN', '/0', '0z', 'Pk', '3A', 'xA', 'z-', 'wx', 'xL', 'Ck', 'wD', '/D', '6S', 'Jg', 'yT', 'Tp', 'cY', '/j', 'jr', 'rU', 'Rb', 'bL', 'CG', 'GQ', 'kY', 'uO', 'sB', 'dB', 'aO', 'nD', 'aG', 'tA', 'nA', ':5', '1p', 'fG', 'Ia', '.V', 'gb', 'qf', 'fD', 'r0', 'oF', 'tF', 'vc', 'MV', 'VV', '/U', 'UJ', 'Jt', 'tV', 'VS', 'Kg', 'gO', 'eF', 'S4', 'LX', 'X2', '2R', 'N_', '_A', '_3', 'wz', 'r9', '6a', 'h1', 'SW', '/R', 'Mx', 'C3', '3o', 'c7', 'V9', 'g9', '9L', 'Lx', 's8', '8_', '_S', 'sP', 'yJ', '/W', '6z', 'zC', 'Rp', 'Fb', '/x', 'x3', 'C4', '4n', 'd3', 'e1', '3q', 'q3', 'mY', 'K5', '5w', '/k', 'kM', 'u6', '6k', 'uA', 'A0', '0q', 'I_', '_ ', '/Y', 'Yn', 'qW', 'Wg', '_I', '_L', 'nY', 'Yt', '4d', 'd2', '9k', 'Y8', 't5', '5d', 'YW', 'eR', 'QA', 'lY', 'Yc', 'a0', '0Z', '1S', 'S_', 'L_', '_2', '6_', '1V', 'OQ', 'QE', 'Ej', 'K8', '8n', 'cE', 'E7', 'PV', 'Yl', 'XT', 'XS', 'Ff', 'fR', 'RQ', 'OX', 'z/', 'IQ', 'p3', '3V', 'Vd', 'oX', 'Px', 'xP', 'pI', 'I1', '8s', '3W', 'Wx', '_0', 'Hr', 'fL', 't1', 'N9', '0o', 'Tx', 'pv', 'vl', 'e0', 'Jz', 'gk', 'Wd', ' \\\\', '\\\\_', '_/', 'n0', '_P', 'R_', 'Gf', 'fK', 'hg', '1e', 'JM', '7c', 'Hk', 'UO', '2S', 'dG', 'F4', '4C', 'gp', 'p7', 'kV', 'yX', 'Xc', 'C_', 'bY', '3u', 'i5', 'rA', 'A6', 'kP', 'P3', 'iT', 'yh', '8I', 'h_', '_l', '7i', 'r3', '3C', 'xJ', 'f9', 'f5', '5i', 'vY', 'Mh', 'iI', 'Xb', 'Sf', 'fU', 'U1', 'jn', 'M1', '1C', 'y_', '_h', 'VF', 'wB', 'kW', 'h5', '8u', '0h', 'hz', '9d', 'dH', 'Hx', 'xj', 't8', 'tX', 'x4', '4s', 'e5', '7s', 'W4', '4I', 'cB', 'uN', 'dR', 'Rf', 'fB', 'jt', 'wG', 'K0', '0w', 'wU', 'd_', '2J', 'Z4', 'n5', '5R', 'Mm', 'mN', 'yR', 'zS', 'PQ', 'Qj', 't9', 'z1', 'bU', 'xr', 'oM', '6p', 'Cd', 'Hv', '6R', 'D8', '8x', 'xk', 'Lr', 'aI', 'B7', '7k', 'jR', 'Tz', 'oD', 's7', 'md', ' |', '| ', 'NU', 'rH', 'H8', 'Bw', 'yC', '7f', 'vR', 'Uj', 'vn', 'o3', '3S', '3I', 'kK', '3g', 'MG', '5v', 'vt', 'tx', 'MJ', 'Kz', 'Kq', 'w:', 'jc', '0N', 'Nl', 'lW', 'mJ', 'JH', \"'I\", 'p8', '8d', 'yD', '6n', 'dQ', 'Q2', '2f', '9S', 'Sj', 'j8', 'rJ', 'JJ', '/l', '3x', 'JU', 'Ys', 'F6', '6E', 'EK', 'e6', '4M', 'oP', 'S8', '8W', 'rq', '_D', 'D2', 'mj', '3K', 'UQ', 'QG', 'Kv', '3X', 'sJ', 'fA', '8D', 'Jb', 'bf', 'Rq', 'bG', 'bJ', 'gJ', 'U6', '3k', 'kU', 'Ee', 'eZ', 'Fj', 'jx', 'kj', 'X5', '5j', 'j2', 'aN', 'g0', '.a', 'JG', 'v5', 'vq', 'qz', 'zx', 'xd', 'dP', 'Oo', 'j7', 'yq', 'Nh', 'Jn', 'sV', 'J9', '9T', 'Jf', 'fZ', 'uI', 'y0', '7K', 'd6', 'eI', 'Qi', 'xZ', 'ZG', 'Gc', 'cd', 'z6', 'QP', '9R', 'Rr', 'jb', 'jl', 'n6', 'rT', 'KM', '5J', 'T4', 'Sr', '1m', 'LQ', \"O'\", \"'R\", 'lR', 'Hq', 'qA', 'u8', 'v6', '6U', 'Iy', 'Wm', 'aA', 'A4', '4j', 'm_', '_a', 'R0', '5n', 'Mw', 'wJ', 'J2', '4q', 'qy', '3s', 'H9', '9c', 'kF', 'Td', \"'W\", 'lq', 'iZ', 'ZT', 'Tv', 'vU', '9q', '7u', 'y7', 'C8', 'z3', 'kD', '8Q', 'Wq', 'Uw', 'c5', '0l', '1z', 'zA', 'Np', 'tO', 'Oz', 'jE', 'aM', 'sG', 'VU', 'vd', '4v', 'vX', 'X7', '7w', '0p', 'g1', 'yE', 'Og', 'aR', 'DD', 'nN', 'sK', 'o_', 'lF', 'RJ', 'Aq', 'qO', 'jh', 'uw', 'Bk', 'kR', '8X', 'Yj', '1T', 'zY', 'YN', 'Nd', 'Y3', 'qH', 'M6', 'YP', 'kG', 'Hd', 'D7', 'hX', 'Xl', 'BX', 'XN', 'Oq', 'qS', 'Mt', 'lS', 'Qb', 'Q4', '6X', 'cg', 'g6', '6Q', 'kZ', 'nE', 'PY', '/b', 'F9', 'q0', '5a', 'kx', 'T/', '.k', 'o4', '4P', 'iS', 'Gq', 'qg', 'hW', '4y', 'yI', '7e', 'Q8', '8G', 'xn', '8v', 'qP', 'Pc', 'BJ', 'Cb', 'tq', 'qm', 'm3', 'tT', 'u7', 'Hf', 'VX', ' ~', '~1', '~2', '4A', 'k9', '/r', '_g', 'Wk', 'uX', 'x5', '5N', '8c', 'cR', 'Rg', 'HD', '4K', '8o', 'tI', 'Ih', 'qr', 'C0', 'GV', 'VM', 'Hw', 'D9', '/q', 'R1', '1w', 'U5', '5p', 'pO', 'i4', 'Pz', 'o7', 'Gj', '2Y', 'gR', 'r1', '1i', '0g', 'gX', 'Xv', 'Vs', 'VB', 'B0', '0X', 'LJ', 'mX', 'XH', 'U7', '7v', 'vQ', 'Qp', 'Df', 'Wv', 'vp', 'Kf', '3U', 'n2', 'z0', '0F', 'Fv', 'Yr', 'mH', 'm7', 'kJ', 'Jc', '7Z', 'J_', 'B_', '4U', '6v', '2u', 'uB', 's5', 'r6', 'vH', 'a5', 'aQ', 'QL', 'L0', '0n', '7U', 'GU', 'rI', 'Ao', 'dK', 'J6', '5L', 'Ln', 'sN', 'S0', '0a', 'a3', 'rL', 'VG', 'G2', '2P', 's2', '2m', 'aH', 'vk', 'Gz', 'zt', 'x.', 'QX', 'b6', 'k4', '4w', 'Fq', 'dL', 'l4', 'qE', 'dM', 'pj', '1a', 'h/', 'e4', '4T', 'ML', 'aW', '2d', 'w5', 'MQ', 'Vg', 'c_', 'Yw', 'Cf', 'xI', 'Dt', 'Nw', 'h3', '9n', 'x7', 'R4', 'PZ', 'hx', 'xm', 'Uu', 'z4', '_o', 'bC', 'VD', 'D4', 'Wn', 'nZ', 'n8', '8M', 'o2', 'yx', 'js', 'fj', 'tE', 'eE', '.i', '.n', '_U', 'S/', '.j', 'l=', '=1', '=v', '.p', 'O/', 'cP', 'tU', 'V0', '0B', 'B6', '0x', 'xF', 'xY', 'tL', 'Nb', 'bD', 'Dl', '3:', '4p', '0k', '1g', 'gI', 'YL', '6j', 'j3', 'W-', 'Fz', 'Vp', 'Jh', 'hP', 'Vm', 'Xd', 'Jj', 'jH', 'Ez', 'Ws', '8p', ' <', '< ', ' >', '> ', 'tM', 'U9', '9I', 'hG', '6e', 'gU', 'l2', 'iU', '5O', 'n3', '7o', 'Iu', 'Mv', 'vm', 'Lw', '9N', 'pZ', 'Zz', 'y4', 'JK', 'Hm', 'aD', 'F0', 'Z2', '6m', '5e', 'nK', 'KT', '2X', 'XF', 'Bn', 'Gs', '4r', 'h0', '0H', 'Hn', 'WQ', 'bB', 'P7', '7r', '4e', '0d', 'k2', '2o', 'Uf', 'sI', '9V', 'Vr', '7J', 'B8', 'U8', '8C', 'e:', 'XC', 'mL', 'yF', 'gK', 'K1', '1k', 'hF', '9g', 'gj', 'Z6', 'R2', 'dC', 'a8', '8z', 'zQ', 'Q0', '0K', 'I9', '1G', 'jj', 'j_', '_t', 'v3', '3w', '1Q', 'ZC', '3f', 'eQ', 'Ql', 'j4', '4c', 'g2', 'Xf', 'rZ', 'Zg', 'Xq', 'qo', 'WJ', 'pU', 'qX', 'O0', 'X0', 'eN', 'w4', '9b', 'Pm', 'mK', 'l0', '0C', 'yO', 'gS', 'z_', '_H', 'u0', '8k', '4E', 'XX', 'XQ', 'Qs', 'K4', '4h', 'D_', 'LZ', 'Zw', 'hQ', 'uS', 'wu', 'VN', 'Lq', 'r7', 'Vh', 'YX', 'XB', 'Q+', '8m', 'm2', '2q', 'qI', '8U', 'gv', 'Km', 'Bx', 'xW', 'qv', 'rE', 'gG', 'xO', 'qL', 'l+', '+c', 'z.', 'oR', '3H', 'Rd', 'lN', 'dF', 'F5', 'sS', 'f3', '3P', 'W2', '5m', 'X3', 'pW', 'iF', 'P2', 'r_', '_O', '_Z', 'L5', 'iD', 'LV', 'pB', 'uW', 'E8', 'S6', '_V', 'jy', 'kS', '1P', 'g5', '5c', 'Zn', 'RW', 'lB', '4Z', 'qe', 'WU', 'Uo', 'o1', 'mg', 'nU', 'Uh', '8J', 'J5', '5u', 'K6', 'UH', 'n7', '4m', 'mz', '3E', 'E3', 'mE', 'f_', '9D', 'ZX', 'Xu', 'KD', 'R7', '7X', 'y3', '8r', 'rK', 'H1', 'QV', 'M7', '4z', '.h', 'Hz', 'pG', '6u', 'u4', '4X', 'vI', 'I5', 'oV', 'Zm', 'mO', '3/', 'cX', 'GF', 'Fc', 'Gp', 'd4', '4o', 'HJ', 'Js', 'QR', '6/', '1K', 'vA', 'vD', '8/', 'j9', 'vN', 'bN', 'f1', 'Ox', '8g', 'Hh', 'Fn', '0j', 'jN', 'pX', 'Jq', 'QK', 'B5', '5X', 'E9', '9y', 'fN', '7z', '5f', 'Vq', 'qn', '3F', 'jC', '2F', 'FV', 'g4', 'k7', 'jT', 'Ps', 'kN', 'i7', '2Z', 'ZH', 'lQ', 'Kj', 'x6', 'C7', 'oB', '.e', '3p', '3a', '6C', 'HG', 'G3', 't3', 'WV', 'Vv', 'jD', '6q', 'qG', '6J', 'mq', 'cp', '9W', 'C5', 'cm', 'iC', 'mW', '2x', 'eU', 'fO', 'o8', 'mR', 'Xy', '_R', 'Zt', '8h', 'O3', 'Tg', 't6', 'mx', '6F', '4a', 'zZ', 'iY', 'nI', 'b2', 'XZ', 'Zb', 'uZ', 'Zx', 'x2', 'yU', 'Ss', 'd9', 'vK', 'BV', 'M5', 'lA', '_7', 'oH', 'V2', '2r', 'Ui', 'iM', 'RZ', 'mC', 'M9', '5q', 'qM', '-9', 'T7', 'uM', '0e', 'R9', '9j', 'vx', 'xT', 'xE', '5l', 'm8', 'yj', 'jd', 'dO', 'O5', 'wq', 'gP', 'cT', 'S9', 'Ud', 'YU', 'DF', 'uY', 'jW', 'W1', '__', '_i', '9z', 'qd', 'G6', '1D', 'b3', '3O', '_v', 'aY', 'Oe', 'uD', 'Y9', 'Jk', '8e', 'f8', 'Kk', 'X_', '_5', '9o', '0c', 'HP', 'oL', 'Ls', '3R', 'Ww', 'KJ', '1v', 'K_', 'g_', 'WK', 'UY', 'sU', 'b5', '1q', 'qQ', 'QJ', 'Jd', 'p4', 'G7', 'jS', 'y2', 'Xh', 'QB', 'XM', 'Bf', 'Dz', '.y', 'Zq', 'G4', 'Hg', 'Xw', 'wA', 'TZ', ' +', 'fk', 'Wz', 'bW', 'wH', 'Lc', 'zJ', 'xK', 'Jm', '.v', 'bR', 'Rl', 'Cc', '8P', 'Zk', 'NZ', '4S', '1_', '_z', 'Bv', '3j', '8Y', 'Ym', 'S5', 'YB', 'XU', '1h', 'yN', 'cV', 'HQ', 'Ie', 'zU', 'Yh', 'Y6', 'Qn', 'nW', '9Q', 'Sx', 'T8', 'hJ', 'pL', 'zm', 'Zc', 'b7', 'c/', 'Nt', 't2', 'qD', 'bT', 'lX', 'xV', 'V7', 'qt', 'T3', 'z8', '7x', 'Bt', '9h', 'v0', '0u', 'U0', 'p9', 'dZ', 'Kb', 'wY', 'Xe', 'YZ', 'ZL', 'Nf', 'f0', 'XK', 'R3', 'WX', 'lL', 'Lg', 'kC', 'vP', 'Pb', 'Gb', '5z', 'Dj', '9f', 'aX', 'pS', '6:', 'BD', 'vC', '_y', 'XJ', 'Jx', 'Eo', 'sQ', 'L7', '7g', 'D0', 'oN', 'eX', '4D', 'Db', 'y6', '4x', '9Z', 'ZB', 'Cg', 'qY', 'kA', '5I', 'R5', 'fY', 'X6', 'yZ', 'T5', 'FN', 'mB', '6w', '-Z', '0f', '0R', 'mG', 'vW', '6l', 'U3', '3J', 'zI', 'z9', 'Xo', 'wI', 'DQ', 'K/', 'oO', 'Hp', '8E', 'P_', '_W', 'P8', 'vE', 'I3', '5h', 'jA', 'q6', 'Cw', 'f/', 'u9', 'bg', 'gL', 'c8', '6O', 'Qm', '0W', 'Z5', 'M/', 'dV', 'Zr', 'uF', '9C', 'm4', 'C6', 'QZ', 'Wj', 'j6', 'mP', '9Y', '2V', 'Nc', 'Yy', '_1', 'gB', 'F7', 'd:', '9i', 'iK', '2T', '_m', 'Rx', '2L', 'Mp', '8i', 'S2', 'jG', 'SZ', \"'a\", '_8', 'Lm', 'lI', 'D5', 'QD', \"'N\", 'k0', '0P', 'q4', 'G-', 'qT', 'KV', 'VQ', 'Qv', 'O1', 'ZA', '=^', '^.', '.^', '^=', 'w7', 'JV', 'bE', 'gV', 'jP', 'Z0', '9x', 'J+', 'Pv', 'Lz', 'A5', 'Gk', 'kz', 'jM', 'pV', '3T', 'Tm', 'e9', '~3', 'hE', 'qV', 'Qw', 'wR', 'qC', 'nQ', 'Qg', 'w2', '~ ', 'hV', '5S', 'x1', 'qk', 'Iz', 'zj', 'Fy', 'X8', '5Q', 'QQ', 'V3', '8j', '1F', 'c9', '4H', 'gY', 'sY', 'Jp', 'Gv', '1W', 'qj', 'Tt', '1n', '3G', 'wV', 'VY', '3Y', 'YH', 'uG', 'M0', '5G', 'Uc', 'q5', 'hB', 'm6', 'DZ', '8R', 'fd', 'Lp', '4G', 'aU', '8O', 'Y4', 't4', '5y', '5T', 'iH', 'oJ', 'Nr', '_9', 'A2', 'ZY', \"7'\", '4f', 'w3', '3c', 'lE', 'cU', 'cO', '_w', '-z', 'Pn', 'Dd', 'xX', '0J', 'cS', 'Zl', 'lJ', 'Z9', '_n', 'zN', '9H', 'O_', '6N', 'Qc', '3l', '.Z', 'b9', 'K9', '6x', 'mI', 'MK', 'Yz', '6Y', 'Xx', 'sx', '2_', 'rY', 'Yb', 'bF', '3d', '5V', 'ZK', '8b', 'Nk', '_G', 'vF', 'Gt', 'Tk', 'W8', 'Vb', 'eY', 'Iq', 'bP', 'H7', 'zs', 'M3', '6P', \"y'\", 'Y0', 'rX', '_6', 'i6', 'jV', 'GW', 'f7', 'fc', '0:', '6Z', 'iV', 'E4', '6f', '4V', 'uJ', 'Z3', 'Zv', 'F8', '3B', '0O', '_b', 'GC', 'Zd', 'Lh', 'Mb', 'Rn', 'kq', '8K', 'Yp', 'J8', '1j', '4B', 'Rw', 'U4', 'Nq', 'XW', 'H0', '0r', 'j0', '4Q', 'Fm', 'xG', 'c2', 'hO', 'Gd', 'bX', '9M', 'Wc', 'd8', '1c', '0i', 'w6', '8a', './', 'D1', 'v7', 'uH', 'Hj', 'zR', 'l7', '6M', 'i3', '_r', 'o9', 'jY', 'ZF', 'g3', 'b/', 'LW', '1f', 'fS', 'fE', 'iJ', 'wZ', '1X', '2g', '5U', 'Uy', 'PJ', 'z2', '2v', 'Nx', '6L', 'x0', 'kE', 'p2', 'CZ', 'Ua', 'h:', 's:', ':6', 't:', ':7', ':8', 'G1', 'S7', 'WZ', 'b4', '9a', '4O', 'p0', 'T9', '5x', 'wQ', 'fv', 'Bz', 'Y7', 'O9', '_d', 'fI', 'Nn', 'A3', 'oY', '2w', 'wO', '3i', 'sE', 'Zs', '4u', 'l5', 'J4', 'Qt', 'mZ', 'd5', '5H', '3Q', 'aJ', '_f', 'pq', 'Dq', '5r', 'xz', 'Cn', 'wE', 'vh', '2Q', 'jU', 'jg', '1Y', '2D', 'T6', 'Rj', 'Vf', 'Sz', 'N6', '6G', '9s', 'hU', 'J/', 'Qq', 'iE', 'o6', 'oU', 'j5', 'ZS', '7j', '4k', 'zG', 'zL', 'q8', '8L', 'V6', 'GJ', '0b', 'i2', 'Hc', 'G0', 'vV', 'Tc', \"'U\", \"t'\", 'HW', 'xD', 'fM', 'Vk', 'YY', 'G8']\n",
      "['\" A\"']\n"
     ]
    },
    {
     "data": {
      "text/plain": "array([[ 0.0662799 , -0.00324679],\n       [ 0.04359155, -0.01013672],\n       [ 0.03330466, -0.01128596],\n       [ 0.04381976, -0.01259634],\n       [ 0.03628664, -0.00718077],\n       [ 0.06254227,  0.00216703],\n       [ 0.06788705,  0.00482165],\n       [ 0.06468382,  0.00015333],\n       [ 0.06266662,  0.00629722],\n       [ 0.06522399,  0.01218954],\n       [ 0.04635034, -0.00463298],\n       [ 0.06673339,  0.001076  ],\n       [ 0.06202728,  0.00189532],\n       [ 0.06801542,  0.00394863],\n       [ 0.06383183,  0.00460424],\n       [ 0.06600239,  0.00857498],\n       [ 0.04069502, -0.00227606],\n       [ 0.06964899,  0.01055618],\n       [ 0.05881327,  0.01750461],\n       [ 0.06804834,  0.00400898],\n       [ 0.06556505,  0.00231535],\n       [ 0.06533804,  0.00235326],\n       [ 0.06619041,  0.00726164],\n       [ 0.06077824,  0.00327513],\n       [ 0.06424345,  0.00566641],\n       [ 0.06471299,  0.00825862],\n       [ 0.06625695,  0.00335172],\n       [ 0.06365162,  0.00820122],\n       [ 0.07009667,  0.0009598 ],\n       [ 0.06412897,  0.01054789],\n       [ 0.06613282,  0.00660989],\n       [ 0.064362  ,  0.00991109],\n       [ 0.06599228,  0.01330754],\n       [ 0.06650205,  0.00472285],\n       [ 0.06404974,  0.00126357],\n       [ 0.06521101,  0.00147397],\n       [ 0.07000478,  0.01642451],\n       [ 0.04381159,  0.00842646],\n       [ 0.05865848,  0.00364268],\n       [ 0.06323025,  0.0093563 ],\n       [ 0.06537242,  0.00522704],\n       [ 0.06734343,  0.00555143],\n       [ 0.06758962,  0.01315592],\n       [ 0.06463634,  0.01859923],\n       [ 0.04929453, -0.00103467],\n       [ 0.06848726,  0.03165595],\n       [ 0.0676666 , -0.00058265],\n       [ 0.06039559,  0.00985334],\n       [ 0.06723007,  0.00170237],\n       [ 0.03575873, -0.00420429],\n       [ 0.06532671,  0.00774909],\n       [ 0.0632475 ,  0.00092642],\n       [ 0.06740413,  0.00036705],\n       [ 0.06199958,  0.02724131],\n       [ 0.06543132,  0.00172935],\n       [ 0.06670964, -0.00654324],\n       [ 0.06388488,  0.01296873],\n       [ 0.06532271,  0.01626755],\n       [ 0.06346341,  0.02666245],\n       [ 0.07163987, -0.00687843],\n       [ 0.06612195,  0.00332952],\n       [ 0.03300474, -0.00735642],\n       [ 0.06576636, -0.00092215],\n       [ 0.06796899,  0.00694062],\n       [ 0.06714945,  0.01159192],\n       [ 0.06442554,  0.00339554],\n       [ 0.06414967, -0.00284952],\n       [ 0.06450795,  0.00162666],\n       [ 0.06603125,  0.00804913],\n       [ 0.0692255 ,  0.00825411],\n       [ 0.06654451,  0.01848995],\n       [ 0.07176401,  0.02216424],\n       [ 0.06528509,  0.03340001],\n       [ 0.06038722,  0.01388033],\n       [ 0.06657537,  0.00058882],\n       [ 0.06618334,  0.01763456],\n       [ 0.07019091,  0.01710225],\n       [ 0.06983071,  0.02595101],\n       [ 0.06493792,  0.00199386],\n       [ 0.06895007,  0.00392214],\n       [ 0.06734674,  0.0011892 ],\n       [ 0.07006547,  0.00252621],\n       [ 0.06681887, -0.0011425 ],\n       [ 0.07386165,  0.00390533],\n       [ 0.06777673,  0.00137659],\n       [ 0.06915149,  0.01908942],\n       [ 0.06466637, -0.00276973],\n       [ 0.03792234, -0.00726311],\n       [ 0.06891986,  0.0071173 ],\n       [ 0.06642907,  0.0113422 ],\n       [ 0.06340661,  0.00862376],\n       [ 0.06929163,  0.01825646],\n       [ 0.06932356,  0.00732685],\n       [ 0.06358017,  0.00016884],\n       [ 0.06812441,  0.0105565 ],\n       [ 0.06642618,  0.01136901],\n       [ 0.06737541,  0.00472812],\n       [ 0.06848828,  0.02162905],\n       [ 0.06922217,  0.01697667],\n       [ 0.06834172,  0.00353258]])"
     },
     "execution_count": 117,
     "metadata": {},
     "output_type": "execute_result"
    }
   ],
   "source": [
    "top_bigrams = [word for word, freq in get_top_n_bigram(all_texts, 100)]\n",
    "\n",
    "print(top_bigrams)\n",
    "\n",
    "bigrams = list(pipeline.steps[0][1].vocabulary_.keys())\n",
    "\n",
    "print(bigrams)\n",
    "print([f'\"{bigrams[0]}\"'])\n",
    "\n",
    "top_results = np.array([result[i] for i in range(len(bigrams)) if f'\"{bigrams[i]}\"' in top_bigrams])\n",
    "top_results"
   ],
   "metadata": {
    "collapsed": false,
    "pycharm": {
     "name": "#%%\n"
    }
   }
  },
  {
   "cell_type": "code",
   "execution_count": 122,
   "outputs": [
    {
     "data": {
      "text/plain": "<Figure size 1152x648 with 1 Axes>",
      "image/png": "[encoded data removed]"
     },
     "metadata": {
      "needs_background": "light"
     },
     "output_type": "display_data"
    }
   ],
   "source": [
    "plt.rcParams[\"figure.figsize\"] = [16,9]\n",
    "\n",
    "plt.scatter(top_results[:, 0], top_results[:, 1])\n",
    "words = top_bigrams\n",
    "for i, word in enumerate(words):\n",
    "    plt.annotate(word, xy=(top_results[i, 0], top_results[i, 1]))\n",
    "\n",
    "plt.title('100 most frequent bigrams distances', fontsize=30)\n",
    "plt.show()"
   ],
   "metadata": {
    "collapsed": false,
    "pycharm": {
     "name": "#%%\n"
    }
   }
  },
  {
   "cell_type": "code",
   "execution_count": 125,
   "outputs": [
    {
     "data": {
      "text/plain": "4381"
     },
     "execution_count": 125,
     "metadata": {},
     "output_type": "execute_result"
    }
   ],
   "source": [
    "vectorizer: TfidfVectorizer = pipeline.steps[0][1]\n",
    "len(vectorizer.idf_)\n"
   ],
   "metadata": {
    "collapsed": false,
    "pycharm": {
     "name": "#%%\n"
    }
   }
  }
 ],
 "metadata": {
  "kernelspec": {
   "display_name": "Python 3",
   "language": "python",
   "name": "python3"
  },
  "language_info": {
   "codemirror_mode": {
    "name": "ipython",
    "version": 2
   },
   "file_extension": ".py",
   "mimetype": "text/x-python",
   "name": "python",
   "nbconvert_exporter": "python",
   "pygments_lexer": "ipython2",
   "version": "2.7.6"
  }
 },
 "nbformat": 4,
 "nbformat_minor": 0
}