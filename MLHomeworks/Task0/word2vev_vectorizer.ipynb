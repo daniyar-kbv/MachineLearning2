{
 "cells": [
  {
   "cell_type": "code",
   "execution_count": 2,
   "metadata": {
    "collapsed": true
   },
   "outputs": [
    {
     "name": "stderr",
     "output_type": "stream",
     "text": [
      "[nltk_data] Error loading word_tokenize: Package 'word_tokenize' not\n",
      "[nltk_data]     found in index\n",
      "[nltk_data] Downloading package stopwords to\n",
      "[nltk_data]     /Users/daniyarkurmanbayev/nltk_data...\n",
      "[nltk_data]   Package stopwords is already up-to-date!\n",
      "[nltk_data] Downloading package wordnet to\n",
      "[nltk_data]     /Users/daniyarkurmanbayev/nltk_data...\n",
      "[nltk_data]   Package wordnet is already up-to-date!\n"
     ]
    },
    {
     "data": {
      "text/plain": "True"
     },
     "execution_count": 2,
     "metadata": {},
     "output_type": "execute_result"
    }
   ],
   "source": [
    "from sklearn.datasets import fetch_20newsgroups\n",
    "from sklearn.base import BaseEstimator, TransformerMixin\n",
    "from sklearn.feature_extraction.text import CountVectorizer, TfidfVectorizer\n",
    "from gensim.models import Word2Vec\n",
    "from gensim.models.doc2vec import TaggedDocument, Doc2Vec\n",
    "from tqdm import tqdm\n",
    "from sklearn import utils as skl_utils\n",
    "from sklearn.naive_bayes import MultinomialNB\n",
    "from sklearn.linear_model import LogisticRegression\n",
    "from sklearn.svm import SVC\n",
    "from sklearn.ensemble import RandomForestClassifier\n",
    "from lightgbm import LGBMClassifier\n",
    "from sklearn.model_selection import RandomizedSearchCV\n",
    "from sklearn.pipeline import Pipeline\n",
    "import numpy as np\n",
    "import six\n",
    "import nltk\n",
    "\n",
    "nltk.download('word_tokenize')\n",
    "nltk.download('stopwords')\n",
    "nltk.download('wordnet')"
   ]
  },
  {
   "cell_type": "code",
   "execution_count": 11,
   "outputs": [],
   "source": [
    "class Word2VecVectorizer(BaseEstimator, TransformerMixin):\n",
    "    def __init__(self, vector_size=100, alpha=0.025, window=5, max_vocab_size=None):\n",
    "        self.vector_size = vector_size\n",
    "        self.alpha = alpha\n",
    "        self.window = window\n",
    "        self.max_vocab_size = max_vocab_size\n",
    "\n",
    "    def fit(self, X, y=None):\n",
    "        sentences = [sentence.split(' ') for sentence in X]\n",
    "        self.model_ = Word2Vec(sentences=sentences,\n",
    "                               corpus_file=None,\n",
    "                               vector_size=self.vector_size,\n",
    "                               alpha=self.alpha,\n",
    "                               window=self.window,\n",
    "                               min_count=1,\n",
    "                               max_vocab_size=self.max_vocab_size)\n",
    "        return self\n",
    "\n",
    "    def transform(self, documents):\n",
    "        words = [doc.split(' ') for doc in documents]\n",
    "        print(words)\n",
    "        vectors = [self.model_.wv[word] for word in words]\n",
    "        print(np.reshape(np.array(vectors), (len(vectors), self.vector_size * len(words[0]))))\n",
    "        return np.reshape(np.array(vectors), (len(vectors), self.vector_size * len(words[0])))"
   ],
   "metadata": {
    "collapsed": false,
    "pycharm": {
     "name": "#%%\n"
    }
   }
  },
  {
   "cell_type": "code",
   "execution_count": 4,
   "outputs": [],
   "source": [
    "categories = [\n",
    "    'alt.atheism',\n",
    "    'talk.religion.misc',\n",
    "]"
   ],
   "metadata": {
    "collapsed": false,
    "pycharm": {
     "name": "#%%\n"
    }
   }
  },
  {
   "cell_type": "code",
   "execution_count": 5,
   "outputs": [],
   "source": [
    "data = fetch_20newsgroups(subset='train', categories=categories)"
   ],
   "metadata": {
    "collapsed": false,
    "pycharm": {
     "name": "#%%\n"
    }
   }
  },
  {
   "cell_type": "code",
   "execution_count": 6,
   "outputs": [],
   "source": [
    "from nltk.tokenize import word_tokenize\n",
    "X_tokenized = word_tokenize(data.data[0])"
   ],
   "metadata": {
    "collapsed": false,
    "pycharm": {
     "name": "#%%\n"
    }
   }
  },
  {
   "cell_type": "code",
   "execution_count": 7,
   "outputs": [],
   "source": [
    "from nltk.corpus import stopwords\n",
    "from string import punctuation\n",
    "\n",
    "stop_words = set(stopwords.words('english'))\n",
    "X_cleaned = [word.lower() for word in X_tokenized if word not in stop_words if word not in punctuation]"
   ],
   "metadata": {
    "collapsed": false,
    "pycharm": {
     "name": "#%%\n"
    }
   }
  },
  {
   "cell_type": "code",
   "execution_count": 8,
   "outputs": [],
   "source": [
    "X_string = ' '.join(X_cleaned)\n"
   ],
   "metadata": {
    "collapsed": false,
    "pycharm": {
     "name": "#%%\n"
    }
   }
  },
  {
   "cell_type": "code",
   "execution_count": 9,
   "outputs": [
    {
     "data": {
      "text/plain": "array([[ 0.00425052,  0.00040023, -0.0009062 , ...,  0.00015964,\n        -0.00212286,  0.00620934],\n       [ 0.00010218,  0.00307842, -0.00679794, ...,  0.00051521,\n         0.0082068 , -0.00703009],\n       [ 0.00181853,  0.00704764,  0.00298202, ..., -0.00186388,\n         0.00360325, -0.00707316],\n       ...,\n       [-0.00862243,  0.00366124,  0.00519292, ..., -0.00238297,\n        -0.00952568,  0.00449805],\n       [-0.00947526,  0.00955806, -0.00772746, ..., -0.00312549,\n        -0.00636282,  0.00983518],\n       [ 0.00772606,  0.00911873,  0.00116021, ...,  0.00826411,\n        -0.00610871,  0.0094077 ]], dtype=float32)"
     },
     "execution_count": 9,
     "metadata": {},
     "output_type": "execute_result"
    }
   ],
   "source": [
    "documents = [X_cleaned]\n",
    "w2v = Word2Vec(sentences=documents,\n",
    "               min_count=1)\n",
    "\n",
    "vectors = [w2v.wv[word] for word in X_cleaned]\n",
    "np.reshape(np.array(vectors), (len(X_cleaned), 100))\n"
   ],
   "metadata": {
    "collapsed": false,
    "pycharm": {
     "name": "#%%\n"
    }
   }
  },
  {
   "cell_type": "code",
   "execution_count": 12,
   "outputs": [
    {
     "name": "stdout",
     "output_type": "stream",
     "text": [
      "[['from', 'mangoe', 'cs.umd.edu', 'charley', 'wingate', 'subject', 'benediktine', 'metaphysics', 'lines', '24', 'benedikt', 'rosenau', 'writes', 'great', 'authority', 'if', 'it', 'is', 'contradictory', 'it', 'can', 'not', 'exist', '``', 'contradictory', \"''\", 'property', 'language', 'if', 'i', 'correct', 'things', 'defined', 'by', 'contradictory', 'language', 'do', 'not', 'exist', 'i', 'object', 'definitions', 'reality', 'if', 'amend', 'things', 'described', 'by', 'contradictory', 'language', 'do', 'not', 'exist', \"'ve\", 'come', 'something', 'plainly', 'false', 'failures', 'description', 'merely', 'failures', 'description', 'i', \"'m\", 'objectivist', 'remember', '--', 'c.', 'wingate', '``', 'the', 'peace', 'god', 'peace', 'strife', 'closed', 'sod', 'mangoe', 'cs.umd.edu', 'yet', 'brothers', 'pray', 'one', 'thing', 'tove', 'mangoe', \"marv'lous\", 'peace', 'god', \"''\"], ['from', 'mangoe', 'cs.umd.edu', 'charley', 'wingate', 'subject', 'benediktine', 'metaphysics', 'lines', '24', 'benedikt', 'rosenau', 'writes', 'great', 'authority', 'if', 'it', 'is', 'contradictory', 'it', 'can', 'not', 'exist', '``', 'contradictory', \"''\", 'property', 'language', 'if', 'i', 'correct', 'things', 'defined', 'by', 'contradictory', 'language', 'do', 'not', 'exist', 'i', 'object', 'definitions', 'reality', 'if', 'amend', 'things', 'described', 'by', 'contradictory', 'language', 'do', 'not', 'exist', \"'ve\", 'come', 'something', 'plainly', 'false', 'failures', 'description', 'merely', 'failures', 'description', 'i', \"'m\", 'objectivist', 'remember', '--', 'c.', 'wingate', '``', 'the', 'peace', 'god', 'peace', 'strife', 'closed', 'sod', 'mangoe', 'cs.umd.edu', 'yet', 'brothers', 'pray', 'one', 'thing', 'tove', 'mangoe', \"marv'lous\", 'peace', 'god', \"''test\"]]\n",
      "[[ 0.01179553  0.01389464  0.02215079 ... -0.01053997  0.00738894\n",
      "   0.05038437]\n",
      " [ 0.01179553  0.01389464  0.02215079 ... -0.02027273 -0.00762352\n",
      "   0.01379315]]\n"
     ]
    },
    {
     "data": {
      "text/plain": "Pipeline(steps=[('w2w',\n                 Word2VecVectorizer(alpha=0.2, vector_size=50, window=10)),\n                ('model', LogisticRegression())])"
     },
     "execution_count": 12,
     "metadata": {},
     "output_type": "execute_result"
    }
   ],
   "source": [
    "pipeline = Pipeline([\n",
    "    ('w2w', Word2VecVectorizer(vector_size=50, alpha=0.2, window=10)),\n",
    "    ('model', LogisticRegression())\n",
    "])\n",
    "\n",
    "pipeline.fit([X_string, X_string + 'test'], [1, 0])\n"
   ],
   "metadata": {
    "collapsed": false,
    "pycharm": {
     "name": "#%%\n"
    }
   }
  }
 ],
 "metadata": {
  "kernelspec": {
   "display_name": "Python 3",
   "language": "python",
   "name": "python3"
  },
  "language_info": {
   "codemirror_mode": {
    "name": "ipython",
    "version": 2
   },
   "file_extension": ".py",
   "mimetype": "text/x-python",
   "name": "python",
   "nbconvert_exporter": "python",
   "pygments_lexer": "ipython2",
   "version": "2.7.6"
  }
 },
 "nbformat": 4,
 "nbformat_minor": 0
}