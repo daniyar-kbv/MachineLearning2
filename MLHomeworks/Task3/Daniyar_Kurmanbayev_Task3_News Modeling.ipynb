{
 "cells": [
  {
   "cell_type": "code",
   "execution_count": 1,
   "metadata": {
    "collapsed": true
   },
   "outputs": [],
   "source": [
    "from sklearn.feature_extraction.text import TfidfVectorizer\n",
    "from sklearn.decomposition import TruncatedSVD\n",
    "from sklearn.metrics.pairwise import linear_kernel, cosine_similarity\n",
    "from sklearn.model_selection import train_test_split\n",
    "import pandas as pd\n",
    "import numpy as np\n",
    "import turicreate\n",
    "import math\n",
    "import random"
   ]
  },
  {
   "cell_type": "code",
   "execution_count": 2,
   "outputs": [],
   "source": [
    "RANDOM_SEED = 42"
   ],
   "metadata": {
    "collapsed": false,
    "pycharm": {
     "name": "#%%\n"
    }
   }
  },
  {
   "cell_type": "code",
   "execution_count": 3,
   "outputs": [
    {
     "data": {
      "text/plain": "   movieId                               title  \\\n0        1                    Toy Story (1995)   \n1        2                      Jumanji (1995)   \n2        3             Grumpier Old Men (1995)   \n3        4            Waiting to Exhale (1995)   \n4        5  Father of the Bride Part II (1995)   \n\n                                        genres  \n0  Adventure|Animation|Children|Comedy|Fantasy  \n1                   Adventure|Children|Fantasy  \n2                               Comedy|Romance  \n3                         Comedy|Drama|Romance  \n4                                       Comedy  ",
      "text/html": "<div>\n<style scoped>\n    .dataframe tbody tr th:only-of-type {\n        vertical-align: middle;\n    }\n\n    .dataframe tbody tr th {\n        vertical-align: top;\n    }\n\n    .dataframe thead th {\n        text-align: right;\n    }\n</style>\n<table border=\"1\" class=\"dataframe\">\n  <thead>\n    <tr style=\"text-align: right;\">\n      <th></th>\n      <th>movieId</th>\n      <th>title</th>\n      <th>genres</th>\n    </tr>\n  </thead>\n  <tbody>\n    <tr>\n      <th>0</th>\n      <td>1</td>\n      <td>Toy Story (1995)</td>\n      <td>Adventure|Animation|Children|Comedy|Fantasy</td>\n    </tr>\n    <tr>\n      <th>1</th>\n      <td>2</td>\n      <td>Jumanji (1995)</td>\n      <td>Adventure|Children|Fantasy</td>\n    </tr>\n    <tr>\n      <th>2</th>\n      <td>3</td>\n      <td>Grumpier Old Men (1995)</td>\n      <td>Comedy|Romance</td>\n    </tr>\n    <tr>\n      <th>3</th>\n      <td>4</td>\n      <td>Waiting to Exhale (1995)</td>\n      <td>Comedy|Drama|Romance</td>\n    </tr>\n    <tr>\n      <th>4</th>\n      <td>5</td>\n      <td>Father of the Bride Part II (1995)</td>\n      <td>Comedy</td>\n    </tr>\n  </tbody>\n</table>\n</div>"
     },
     "execution_count": 3,
     "metadata": {},
     "output_type": "execute_result"
    }
   ],
   "source": [
    "movies_data: pd.DataFrame = pd.read_csv('ml-20m/movies.csv')\n",
    "movies_data.head()"
   ],
   "metadata": {
    "collapsed": false,
    "pycharm": {
     "name": "#%%\n"
    }
   }
  },
  {
   "cell_type": "code",
   "execution_count": 4,
   "outputs": [
    {
     "data": {
      "text/plain": "   userId  movieId  rating   timestamp\n0       1        2     3.5  1112486027\n1       1       29     3.5  1112484676\n2       1       32     3.5  1112484819\n3       1       47     3.5  1112484727\n4       1       50     3.5  1112484580",
      "text/html": "<div>\n<style scoped>\n    .dataframe tbody tr th:only-of-type {\n        vertical-align: middle;\n    }\n\n    .dataframe tbody tr th {\n        vertical-align: top;\n    }\n\n    .dataframe thead th {\n        text-align: right;\n    }\n</style>\n<table border=\"1\" class=\"dataframe\">\n  <thead>\n    <tr style=\"text-align: right;\">\n      <th></th>\n      <th>userId</th>\n      <th>movieId</th>\n      <th>rating</th>\n      <th>timestamp</th>\n    </tr>\n  </thead>\n  <tbody>\n    <tr>\n      <th>0</th>\n      <td>1</td>\n      <td>2</td>\n      <td>3.5</td>\n      <td>1112486027</td>\n    </tr>\n    <tr>\n      <th>1</th>\n      <td>1</td>\n      <td>29</td>\n      <td>3.5</td>\n      <td>1112484676</td>\n    </tr>\n    <tr>\n      <th>2</th>\n      <td>1</td>\n      <td>32</td>\n      <td>3.5</td>\n      <td>1112484819</td>\n    </tr>\n    <tr>\n      <th>3</th>\n      <td>1</td>\n      <td>47</td>\n      <td>3.5</td>\n      <td>1112484727</td>\n    </tr>\n    <tr>\n      <th>4</th>\n      <td>1</td>\n      <td>50</td>\n      <td>3.5</td>\n      <td>1112484580</td>\n    </tr>\n  </tbody>\n</table>\n</div>"
     },
     "execution_count": 4,
     "metadata": {},
     "output_type": "execute_result"
    }
   ],
   "source": [
    "ratings_data = pd.read_csv('ml-20m/ratings.csv')\n",
    "ratings_data.head()"
   ],
   "metadata": {
    "collapsed": false,
    "pycharm": {
     "name": "#%%\n"
    }
   }
  },
  {
   "cell_type": "code",
   "execution_count": 5,
   "outputs": [
    {
     "data": {
      "text/plain": "   userId  movieId            tag   timestamp\n0      18     4141    Mark Waters  1240597180\n1      65      208      dark hero  1368150078\n2      65      353      dark hero  1368150079\n3      65      521  noir thriller  1368149983\n4      65      592      dark hero  1368150078",
      "text/html": "<div>\n<style scoped>\n    .dataframe tbody tr th:only-of-type {\n        vertical-align: middle;\n    }\n\n    .dataframe tbody tr th {\n        vertical-align: top;\n    }\n\n    .dataframe thead th {\n        text-align: right;\n    }\n</style>\n<table border=\"1\" class=\"dataframe\">\n  <thead>\n    <tr style=\"text-align: right;\">\n      <th></th>\n      <th>userId</th>\n      <th>movieId</th>\n      <th>tag</th>\n      <th>timestamp</th>\n    </tr>\n  </thead>\n  <tbody>\n    <tr>\n      <th>0</th>\n      <td>18</td>\n      <td>4141</td>\n      <td>Mark Waters</td>\n      <td>1240597180</td>\n    </tr>\n    <tr>\n      <th>1</th>\n      <td>65</td>\n      <td>208</td>\n      <td>dark hero</td>\n      <td>1368150078</td>\n    </tr>\n    <tr>\n      <th>2</th>\n      <td>65</td>\n      <td>353</td>\n      <td>dark hero</td>\n      <td>1368150079</td>\n    </tr>\n    <tr>\n      <th>3</th>\n      <td>65</td>\n      <td>521</td>\n      <td>noir thriller</td>\n      <td>1368149983</td>\n    </tr>\n    <tr>\n      <th>4</th>\n      <td>65</td>\n      <td>592</td>\n      <td>dark hero</td>\n      <td>1368150078</td>\n    </tr>\n  </tbody>\n</table>\n</div>"
     },
     "execution_count": 5,
     "metadata": {},
     "output_type": "execute_result"
    }
   ],
   "source": [
    "tags_data = pd.read_csv('ml-20m/tags.csv')\n",
    "tags_data.head()"
   ],
   "metadata": {
    "collapsed": false,
    "pycharm": {
     "name": "#%%\n"
    }
   }
  },
  {
   "cell_type": "markdown",
   "source": [
    "## Popularity"
   ],
   "metadata": {
    "collapsed": false,
    "pycharm": {
     "name": "#%% md\n"
    }
   }
  },
  {
   "cell_type": "code",
   "execution_count": 6,
   "outputs": [
    {
     "data": {
      "text/plain": "   movieId                               title  \\\n0        1                    Toy Story (1995)   \n1        2                      Jumanji (1995)   \n2        3             Grumpier Old Men (1995)   \n3        4            Waiting to Exhale (1995)   \n4        5  Father of the Bride Part II (1995)   \n\n                                        genres  Number of ratings  \n0  Adventure|Animation|Children|Comedy|Fantasy              49695  \n1                   Adventure|Children|Fantasy              22243  \n2                               Comedy|Romance              12735  \n3                         Comedy|Drama|Romance               2756  \n4                                       Comedy              12161  ",
      "text/html": "<div>\n<style scoped>\n    .dataframe tbody tr th:only-of-type {\n        vertical-align: middle;\n    }\n\n    .dataframe tbody tr th {\n        vertical-align: top;\n    }\n\n    .dataframe thead th {\n        text-align: right;\n    }\n</style>\n<table border=\"1\" class=\"dataframe\">\n  <thead>\n    <tr style=\"text-align: right;\">\n      <th></th>\n      <th>movieId</th>\n      <th>title</th>\n      <th>genres</th>\n      <th>Number of ratings</th>\n    </tr>\n  </thead>\n  <tbody>\n    <tr>\n      <th>0</th>\n      <td>1</td>\n      <td>Toy Story (1995)</td>\n      <td>Adventure|Animation|Children|Comedy|Fantasy</td>\n      <td>49695</td>\n    </tr>\n    <tr>\n      <th>1</th>\n      <td>2</td>\n      <td>Jumanji (1995)</td>\n      <td>Adventure|Children|Fantasy</td>\n      <td>22243</td>\n    </tr>\n    <tr>\n      <th>2</th>\n      <td>3</td>\n      <td>Grumpier Old Men (1995)</td>\n      <td>Comedy|Romance</td>\n      <td>12735</td>\n    </tr>\n    <tr>\n      <th>3</th>\n      <td>4</td>\n      <td>Waiting to Exhale (1995)</td>\n      <td>Comedy|Drama|Romance</td>\n      <td>2756</td>\n    </tr>\n    <tr>\n      <th>4</th>\n      <td>5</td>\n      <td>Father of the Bride Part II (1995)</td>\n      <td>Comedy</td>\n      <td>12161</td>\n    </tr>\n  </tbody>\n</table>\n</div>"
     },
     "execution_count": 6,
     "metadata": {},
     "output_type": "execute_result"
    }
   ],
   "source": [
    "movies_data['Number of ratings'] = 0\n",
    "for i in range(movies_data.shape[0]):\n",
    "    number_of_ratings = ratings_data[ratings_data['movieId'] == movies_data.at[i, 'movieId']].shape[0]\n",
    "    movies_data.at[i, 'Number of ratings'] = number_of_ratings\n",
    "movies_data.head()\n"
   ],
   "metadata": {
    "collapsed": false,
    "pycharm": {
     "name": "#%%\n"
    }
   }
  },
  {
   "cell_type": "code",
   "execution_count": 7,
   "outputs": [
    {
     "data": {
      "text/plain": "   movieId                               title  \\\n0        1                    Toy Story (1995)   \n1        2                      Jumanji (1995)   \n2        3             Grumpier Old Men (1995)   \n3        4            Waiting to Exhale (1995)   \n4        5  Father of the Bride Part II (1995)   \n\n                                        genres  Number of ratings  \\\n0  Adventure|Animation|Children|Comedy|Fantasy              49695   \n1                   Adventure|Children|Fantasy              22243   \n2                               Comedy|Romance              12735   \n3                         Comedy|Drama|Romance               2756   \n4                                       Comedy              12161   \n\n   Average rating  \n0        3.921240  \n1        3.211977  \n2        3.151040  \n3        2.861393  \n4        3.064592  ",
      "text/html": "<div>\n<style scoped>\n    .dataframe tbody tr th:only-of-type {\n        vertical-align: middle;\n    }\n\n    .dataframe tbody tr th {\n        vertical-align: top;\n    }\n\n    .dataframe thead th {\n        text-align: right;\n    }\n</style>\n<table border=\"1\" class=\"dataframe\">\n  <thead>\n    <tr style=\"text-align: right;\">\n      <th></th>\n      <th>movieId</th>\n      <th>title</th>\n      <th>genres</th>\n      <th>Number of ratings</th>\n      <th>Average rating</th>\n    </tr>\n  </thead>\n  <tbody>\n    <tr>\n      <th>0</th>\n      <td>1</td>\n      <td>Toy Story (1995)</td>\n      <td>Adventure|Animation|Children|Comedy|Fantasy</td>\n      <td>49695</td>\n      <td>3.921240</td>\n    </tr>\n    <tr>\n      <th>1</th>\n      <td>2</td>\n      <td>Jumanji (1995)</td>\n      <td>Adventure|Children|Fantasy</td>\n      <td>22243</td>\n      <td>3.211977</td>\n    </tr>\n    <tr>\n      <th>2</th>\n      <td>3</td>\n      <td>Grumpier Old Men (1995)</td>\n      <td>Comedy|Romance</td>\n      <td>12735</td>\n      <td>3.151040</td>\n    </tr>\n    <tr>\n      <th>3</th>\n      <td>4</td>\n      <td>Waiting to Exhale (1995)</td>\n      <td>Comedy|Drama|Romance</td>\n      <td>2756</td>\n      <td>2.861393</td>\n    </tr>\n    <tr>\n      <th>4</th>\n      <td>5</td>\n      <td>Father of the Bride Part II (1995)</td>\n      <td>Comedy</td>\n      <td>12161</td>\n      <td>3.064592</td>\n    </tr>\n  </tbody>\n</table>\n</div>"
     },
     "execution_count": 7,
     "metadata": {},
     "output_type": "execute_result"
    }
   ],
   "source": [
    "movies_data['Average rating'] = 0.0\n",
    "for i in range(movies_data.shape[0]):\n",
    "    mean = ratings_data[ratings_data['movieId'] == movies_data.at[i, 'movieId']]['rating'].mean()\n",
    "    movies_data.at[i, 'Average rating'] = mean if not math.isnan(mean) else 0\n",
    "movies_data.head()"
   ],
   "metadata": {
    "collapsed": false,
    "pycharm": {
     "name": "#%%\n"
    }
   }
  },
  {
   "cell_type": "code",
   "execution_count": 8,
   "outputs": [
    {
     "data": {
      "text/plain": "1265.0"
     },
     "execution_count": 8,
     "metadata": {},
     "output_type": "execute_result"
    }
   ],
   "source": [
    "m = movies_data['Number of ratings'].quantile(0.90)\n",
    "m"
   ],
   "metadata": {
    "collapsed": false,
    "pycharm": {
     "name": "#%%\n"
    }
   }
  },
  {
   "cell_type": "code",
   "execution_count": 9,
   "outputs": [
    {
     "data": {
      "text/plain": "3.071863792650544"
     },
     "execution_count": 9,
     "metadata": {},
     "output_type": "execute_result"
    }
   ],
   "source": [
    "C = movies_data['Average rating'].mean()\n",
    "C"
   ],
   "metadata": {
    "collapsed": false,
    "pycharm": {
     "name": "#%%\n"
    }
   }
  },
  {
   "cell_type": "code",
   "execution_count": 10,
   "outputs": [],
   "source": [
    "def weighted_rating(x, m=m, C=C):\n",
    "    v = x['Number of ratings']\n",
    "    R = x['Average rating']\n",
    "    return (v/(v+m) * R) + (m/(m+v) * C)"
   ],
   "metadata": {
    "collapsed": false,
    "pycharm": {
     "name": "#%%\n"
    }
   }
  },
  {
   "cell_type": "code",
   "execution_count": 11,
   "outputs": [],
   "source": [
    "movies_data['Score'] = movies_data.apply(weighted_rating, axis=1)"
   ],
   "metadata": {
    "collapsed": false,
    "pycharm": {
     "name": "#%%\n"
    }
   }
  },
  {
   "cell_type": "code",
   "execution_count": 12,
   "outputs": [],
   "source": [
    "def recommend_aggregated(n=5):\n",
    "    return movies_data.sort_values(by='Score', ascending=False).head(n)"
   ],
   "metadata": {
    "collapsed": false,
    "pycharm": {
     "name": "#%%\n"
    }
   }
  },
  {
   "cell_type": "code",
   "execution_count": 13,
   "outputs": [
    {
     "data": {
      "text/plain": "     movieId                             title       genres  \\\n315      318  Shawshank Redemption, The (1994)  Crime|Drama   \n843      858             Godfather, The (1972)  Crime|Drama   \n\n     Number of ratings  Average rating     Score  \n315              63366        4.446990  4.420076  \n843              41355        4.364732  4.326359  ",
      "text/html": "<div>\n<style scoped>\n    .dataframe tbody tr th:only-of-type {\n        vertical-align: middle;\n    }\n\n    .dataframe tbody tr th {\n        vertical-align: top;\n    }\n\n    .dataframe thead th {\n        text-align: right;\n    }\n</style>\n<table border=\"1\" class=\"dataframe\">\n  <thead>\n    <tr style=\"text-align: right;\">\n      <th></th>\n      <th>movieId</th>\n      <th>title</th>\n      <th>genres</th>\n      <th>Number of ratings</th>\n      <th>Average rating</th>\n      <th>Score</th>\n    </tr>\n  </thead>\n  <tbody>\n    <tr>\n      <th>315</th>\n      <td>318</td>\n      <td>Shawshank Redemption, The (1994)</td>\n      <td>Crime|Drama</td>\n      <td>63366</td>\n      <td>4.446990</td>\n      <td>4.420076</td>\n    </tr>\n    <tr>\n      <th>843</th>\n      <td>858</td>\n      <td>Godfather, The (1972)</td>\n      <td>Crime|Drama</td>\n      <td>41355</td>\n      <td>4.364732</td>\n      <td>4.326359</td>\n    </tr>\n  </tbody>\n</table>\n</div>"
     },
     "execution_count": 13,
     "metadata": {},
     "output_type": "execute_result"
    }
   ],
   "source": [
    "recommend_aggregated(2)"
   ],
   "metadata": {
    "collapsed": false,
    "pycharm": {
     "name": "#%%\n"
    }
   }
  },
  {
   "cell_type": "code",
   "execution_count": 14,
   "outputs": [],
   "source": [
    "## Content Filter"
   ],
   "metadata": {
    "collapsed": false,
    "pycharm": {
     "name": "#%%\n"
    }
   }
  },
  {
   "cell_type": "code",
   "execution_count": 15,
   "outputs": [
    {
     "data": {
      "text/plain": "{'(no genres listed)',\n 'Action',\n 'Adventure',\n 'Animation',\n 'Children',\n 'Comedy',\n 'Crime',\n 'Documentary',\n 'Drama',\n 'Fantasy',\n 'Film-Noir',\n 'Horror',\n 'IMAX',\n 'Musical',\n 'Mystery',\n 'Romance',\n 'Sci-Fi',\n 'Thriller',\n 'War',\n 'Western'}"
     },
     "execution_count": 15,
     "metadata": {},
     "output_type": "execute_result"
    }
   ],
   "source": [
    "set('|'.join(movies_data['genres'].unique()).split('|'))"
   ],
   "metadata": {
    "collapsed": false,
    "pycharm": {
     "name": "#%%\n"
    }
   }
  },
  {
   "cell_type": "code",
   "execution_count": 16,
   "outputs": [
    {
     "data": {
      "text/plain": "   movieId                               title  \\\n0        1                    Toy Story (1995)   \n1        2                      Jumanji (1995)   \n2        3             Grumpier Old Men (1995)   \n3        4            Waiting to Exhale (1995)   \n4        5  Father of the Bride Part II (1995)   \n\n                                        genres  Number of ratings  \\\n0  Adventure Animation Children Comedy Fantasy              49695   \n1                   Adventure Children Fantasy              22243   \n2                               Comedy Romance              12735   \n3                         Comedy Drama Romance               2756   \n4                                       Comedy              12161   \n\n   Average rating     Score  \n0        3.921240  3.900155  \n1        3.211977  3.204437  \n2        3.151040  3.143886  \n3        2.861393  2.927607  \n4        3.064592  3.065277  ",
      "text/html": "<div>\n<style scoped>\n    .dataframe tbody tr th:only-of-type {\n        vertical-align: middle;\n    }\n\n    .dataframe tbody tr th {\n        vertical-align: top;\n    }\n\n    .dataframe thead th {\n        text-align: right;\n    }\n</style>\n<table border=\"1\" class=\"dataframe\">\n  <thead>\n    <tr style=\"text-align: right;\">\n      <th></th>\n      <th>movieId</th>\n      <th>title</th>\n      <th>genres</th>\n      <th>Number of ratings</th>\n      <th>Average rating</th>\n      <th>Score</th>\n    </tr>\n  </thead>\n  <tbody>\n    <tr>\n      <th>0</th>\n      <td>1</td>\n      <td>Toy Story (1995)</td>\n      <td>Adventure Animation Children Comedy Fantasy</td>\n      <td>49695</td>\n      <td>3.921240</td>\n      <td>3.900155</td>\n    </tr>\n    <tr>\n      <th>1</th>\n      <td>2</td>\n      <td>Jumanji (1995)</td>\n      <td>Adventure Children Fantasy</td>\n      <td>22243</td>\n      <td>3.211977</td>\n      <td>3.204437</td>\n    </tr>\n    <tr>\n      <th>2</th>\n      <td>3</td>\n      <td>Grumpier Old Men (1995)</td>\n      <td>Comedy Romance</td>\n      <td>12735</td>\n      <td>3.151040</td>\n      <td>3.143886</td>\n    </tr>\n    <tr>\n      <th>3</th>\n      <td>4</td>\n      <td>Waiting to Exhale (1995)</td>\n      <td>Comedy Drama Romance</td>\n      <td>2756</td>\n      <td>2.861393</td>\n      <td>2.927607</td>\n    </tr>\n    <tr>\n      <th>4</th>\n      <td>5</td>\n      <td>Father of the Bride Part II (1995)</td>\n      <td>Comedy</td>\n      <td>12161</td>\n      <td>3.064592</td>\n      <td>3.065277</td>\n    </tr>\n  </tbody>\n</table>\n</div>"
     },
     "execution_count": 16,
     "metadata": {},
     "output_type": "execute_result"
    }
   ],
   "source": [
    "for i in range(movies_data.shape[0]):\n",
    "    if movies_data.at[i, 'genres'] == '(no genres listed)':\n",
    "        movies_data.at[i, 'genres'] = 'None'\n",
    "    movies_data.at[i, 'genres'] = movies_data.at[i, 'genres'].replace('|', ' ')\n",
    "movies_data.head()"
   ],
   "metadata": {
    "collapsed": false,
    "pycharm": {
     "name": "#%%\n"
    }
   }
  },
  {
   "cell_type": "code",
   "execution_count": 17,
   "outputs": [
    {
     "data": {
      "text/plain": "array(['Watched', 'computer animation', 'Disney animated feature',\n       'Pixar animation', 'TÃ©a Leoni does not star in this movie',\n       'Pixar', 'animation', 'family', 'Tom Hanks', 'witty', 'adventure',\n       'animated', 'clever', 'comedy', 'fantasy', 'bright',\n       'DARING RESCUES', 'fanciful', 'HEROIC MISSION', 'humorous',\n       'light', 'rousing', 'TOYS COME TO LIFE', 'UNLIKELY FRIENDSHIPS',\n       'warm', 'time travel', 'kids movie', 'Disney', 'Tim Allen',\n       'action figure', 'action figures', 'Buzz Lightyear',\n       'CG animation', 'toy', 'toys', 'Woody', 'villian hurts toys',\n       'pixar', 'disney', 'children', 'é˜®ä¸€é¸£', 'funny', '3D',\n       'Cartoon', 'ya boy', 'cgi', 'rated-G', 'lots of heart',\n       'Animation', 'want to see again', 'imdb top 250', 'buddy movie',\n       'the boys', 'very good', 'Best of Rotten Tomatoes: All Time',\n       'John Lasseter', 'USA', 'classic', 'avi', 'buy', 'fun', 'Want',\n       'CGI', 'soothing', 'almost favorite', 'friendship', 'family film',\n       'cute', 'story', 'voice acting', 'first cgi film', 'Engaging',\n       '2009 reissue in Stereoscopic 3-D',\n       '55 movies every kid should see--Entertainment Weekly', 'BD-Video',\n       'CLV', 'DVD-Video', 'kids and family', \"erlend's DVDs\",\n       'innovative', 'dolls', 'National Film Registry',\n       \"Tumey's To See Again\", \"Tumey's VHS\"], dtype=object)"
     },
     "execution_count": 17,
     "metadata": {},
     "output_type": "execute_result"
    }
   ],
   "source": [
    "tags_data[tags_data['movieId'] == movies_data.at[0, 'movieId']]['tag'].unique()"
   ],
   "metadata": {
    "collapsed": false,
    "pycharm": {
     "name": "#%%\n"
    }
   }
  },
  {
   "cell_type": "code",
   "execution_count": 18,
   "outputs": [],
   "source": [
    "movies_data['Tags'] = ''\n",
    "for i in range(movies_data.shape[0]):\n",
    "    tags = tags_data[tags_data['movieId'] == movies_data.at[i, 'movieId']]['tag'].unique()\n",
    "    new_tags = []\n",
    "    for tag in tags:\n",
    "        if isinstance(tag, float) and math.isnan(tag):\n",
    "            new_tags.append('')\n",
    "        else:\n",
    "            if isinstance(tag, float):\n",
    "                print(tag)\n",
    "            new_tags.append(tag.lower().replace(' ', ''))\n",
    "    movies_data.at[i, 'Tags'] = ' '.join(set(new_tags))"
   ],
   "metadata": {
    "collapsed": false,
    "pycharm": {
     "name": "#%%\n"
    }
   }
  },
  {
   "cell_type": "code",
   "execution_count": 19,
   "outputs": [
    {
     "data": {
      "text/plain": "   movieId                               title  \\\n0        1                    Toy Story (1995)   \n1        2                      Jumanji (1995)   \n2        3             Grumpier Old Men (1995)   \n3        4            Waiting to Exhale (1995)   \n4        5  Father of the Bride Part II (1995)   \n\n                                        genres  Number of ratings  \\\n0  Adventure Animation Children Comedy Fantasy              49695   \n1                   Adventure Children Fantasy              22243   \n2                               Comedy Romance              12735   \n3                         Comedy Drama Romance               2756   \n4                                       Comedy              12161   \n\n   Average rating     Score                                               Tags  \n0        3.921240  3.900155  cganimation woody imdbtop250 verygood cgi brig...  \n1        3.211977  3.204437  childish badcgi game chrisvanallsburg magicboa...  \n2        3.151040  3.143886  grunrunning old howarddeutch oldpeoplethatisac...  \n3        2.861393  2.927607                  revenge clv characters chickflick  \n4        3.064592  3.065277  dianekeaton touching comedy remake sequel itth...  ",
      "text/html": "<div>\n<style scoped>\n    .dataframe tbody tr th:only-of-type {\n        vertical-align: middle;\n    }\n\n    .dataframe tbody tr th {\n        vertical-align: top;\n    }\n\n    .dataframe thead th {\n        text-align: right;\n    }\n</style>\n<table border=\"1\" class=\"dataframe\">\n  <thead>\n    <tr style=\"text-align: right;\">\n      <th></th>\n      <th>movieId</th>\n      <th>title</th>\n      <th>genres</th>\n      <th>Number of ratings</th>\n      <th>Average rating</th>\n      <th>Score</th>\n      <th>Tags</th>\n    </tr>\n  </thead>\n  <tbody>\n    <tr>\n      <th>0</th>\n      <td>1</td>\n      <td>Toy Story (1995)</td>\n      <td>Adventure Animation Children Comedy Fantasy</td>\n      <td>49695</td>\n      <td>3.921240</td>\n      <td>3.900155</td>\n      <td>cganimation woody imdbtop250 verygood cgi brig...</td>\n    </tr>\n    <tr>\n      <th>1</th>\n      <td>2</td>\n      <td>Jumanji (1995)</td>\n      <td>Adventure Children Fantasy</td>\n      <td>22243</td>\n      <td>3.211977</td>\n      <td>3.204437</td>\n      <td>childish badcgi game chrisvanallsburg magicboa...</td>\n    </tr>\n    <tr>\n      <th>2</th>\n      <td>3</td>\n      <td>Grumpier Old Men (1995)</td>\n      <td>Comedy Romance</td>\n      <td>12735</td>\n      <td>3.151040</td>\n      <td>3.143886</td>\n      <td>grunrunning old howarddeutch oldpeoplethatisac...</td>\n    </tr>\n    <tr>\n      <th>3</th>\n      <td>4</td>\n      <td>Waiting to Exhale (1995)</td>\n      <td>Comedy Drama Romance</td>\n      <td>2756</td>\n      <td>2.861393</td>\n      <td>2.927607</td>\n      <td>revenge clv characters chickflick</td>\n    </tr>\n    <tr>\n      <th>4</th>\n      <td>5</td>\n      <td>Father of the Bride Part II (1995)</td>\n      <td>Comedy</td>\n      <td>12161</td>\n      <td>3.064592</td>\n      <td>3.065277</td>\n      <td>dianekeaton touching comedy remake sequel itth...</td>\n    </tr>\n  </tbody>\n</table>\n</div>"
     },
     "execution_count": 19,
     "metadata": {},
     "output_type": "execute_result"
    }
   ],
   "source": [
    "movies_data.head()"
   ],
   "metadata": {
    "collapsed": false,
    "pycharm": {
     "name": "#%%\n"
    }
   }
  },
  {
   "cell_type": "code",
   "execution_count": 20,
   "outputs": [],
   "source": [
    "movies_data['Metadata'] = ''\n",
    "for i in range(movies_data.shape[0]):\n",
    "    genres = movies_data['genres'].iloc[i].split(' ')\n",
    "    tags = movies_data['Tags'].iloc[i].split(' ')\n",
    "    metadata = ' '.join([data.lower() for data in genres + tags])\n",
    "    movies_data.at[i, 'Metadata'] = metadata"
   ],
   "metadata": {
    "collapsed": false,
    "pycharm": {
     "name": "#%%\n"
    }
   }
  },
  {
   "cell_type": "code",
   "execution_count": 21,
   "outputs": [
    {
     "data": {
      "text/plain": "   movieId                               title  \\\n0        1                    Toy Story (1995)   \n1        2                      Jumanji (1995)   \n2        3             Grumpier Old Men (1995)   \n3        4            Waiting to Exhale (1995)   \n4        5  Father of the Bride Part II (1995)   \n\n                                        genres  Number of ratings  \\\n0  Adventure Animation Children Comedy Fantasy              49695   \n1                   Adventure Children Fantasy              22243   \n2                               Comedy Romance              12735   \n3                         Comedy Drama Romance               2756   \n4                                       Comedy              12161   \n\n   Average rating     Score  \\\n0        3.921240  3.900155   \n1        3.211977  3.204437   \n2        3.151040  3.143886   \n3        2.861393  2.927607   \n4        3.064592  3.065277   \n\n                                                Tags  \\\n0  cganimation woody imdbtop250 verygood cgi brig...   \n1  childish badcgi game chrisvanallsburg magicboa...   \n2  grunrunning old howarddeutch oldpeoplethatisac...   \n3                  revenge clv characters chickflick   \n4  dianekeaton touching comedy remake sequel itth...   \n\n                                            Metadata  \n0  adventure animation children comedy fantasy cg...  \n1  adventure children fantasy childish badcgi gam...  \n2  comedy romance grunrunning old howarddeutch ol...  \n3  comedy drama romance revenge clv characters ch...  \n4  comedy dianekeaton touching comedy remake sequ...  ",
      "text/html": "<div>\n<style scoped>\n    .dataframe tbody tr th:only-of-type {\n        vertical-align: middle;\n    }\n\n    .dataframe tbody tr th {\n        vertical-align: top;\n    }\n\n    .dataframe thead th {\n        text-align: right;\n    }\n</style>\n<table border=\"1\" class=\"dataframe\">\n  <thead>\n    <tr style=\"text-align: right;\">\n      <th></th>\n      <th>movieId</th>\n      <th>title</th>\n      <th>genres</th>\n      <th>Number of ratings</th>\n      <th>Average rating</th>\n      <th>Score</th>\n      <th>Tags</th>\n      <th>Metadata</th>\n    </tr>\n  </thead>\n  <tbody>\n    <tr>\n      <th>0</th>\n      <td>1</td>\n      <td>Toy Story (1995)</td>\n      <td>Adventure Animation Children Comedy Fantasy</td>\n      <td>49695</td>\n      <td>3.921240</td>\n      <td>3.900155</td>\n      <td>cganimation woody imdbtop250 verygood cgi brig...</td>\n      <td>adventure animation children comedy fantasy cg...</td>\n    </tr>\n    <tr>\n      <th>1</th>\n      <td>2</td>\n      <td>Jumanji (1995)</td>\n      <td>Adventure Children Fantasy</td>\n      <td>22243</td>\n      <td>3.211977</td>\n      <td>3.204437</td>\n      <td>childish badcgi game chrisvanallsburg magicboa...</td>\n      <td>adventure children fantasy childish badcgi gam...</td>\n    </tr>\n    <tr>\n      <th>2</th>\n      <td>3</td>\n      <td>Grumpier Old Men (1995)</td>\n      <td>Comedy Romance</td>\n      <td>12735</td>\n      <td>3.151040</td>\n      <td>3.143886</td>\n      <td>grunrunning old howarddeutch oldpeoplethatisac...</td>\n      <td>comedy romance grunrunning old howarddeutch ol...</td>\n    </tr>\n    <tr>\n      <th>3</th>\n      <td>4</td>\n      <td>Waiting to Exhale (1995)</td>\n      <td>Comedy Drama Romance</td>\n      <td>2756</td>\n      <td>2.861393</td>\n      <td>2.927607</td>\n      <td>revenge clv characters chickflick</td>\n      <td>comedy drama romance revenge clv characters ch...</td>\n    </tr>\n    <tr>\n      <th>4</th>\n      <td>5</td>\n      <td>Father of the Bride Part II (1995)</td>\n      <td>Comedy</td>\n      <td>12161</td>\n      <td>3.064592</td>\n      <td>3.065277</td>\n      <td>dianekeaton touching comedy remake sequel itth...</td>\n      <td>comedy dianekeaton touching comedy remake sequ...</td>\n    </tr>\n  </tbody>\n</table>\n</div>"
     },
     "execution_count": 21,
     "metadata": {},
     "output_type": "execute_result"
    }
   ],
   "source": [
    "movies_data.head()"
   ],
   "metadata": {
    "collapsed": false,
    "pycharm": {
     "name": "#%%\n"
    }
   }
  },
  {
   "cell_type": "code",
   "execution_count": 22,
   "outputs": [],
   "source": [
    "tfidf_vectorizer = TfidfVectorizer(stop_words='english')\n",
    "movies_data['Metadata'] = movies_data['Metadata'].fillna('')\n",
    "tfidf_matrix = tfidf_vectorizer.fit_transform(movies_data['Metadata'])"
   ],
   "metadata": {
    "collapsed": false,
    "pycharm": {
     "name": "#%%\n"
    }
   }
  },
  {
   "cell_type": "code",
   "execution_count": 23,
   "outputs": [],
   "source": [
    "cosine_sim = linear_kernel(tfidf_matrix, tfidf_matrix)"
   ],
   "metadata": {
    "collapsed": false,
    "pycharm": {
     "name": "#%%\n"
    }
   }
  },
  {
   "cell_type": "code",
   "execution_count": 24,
   "outputs": [],
   "source": [
    "corpus_index = [n for n in movies_data['Metadata']]\n",
    "\n",
    "indices = pd.Series(movies_data.index, index=movies_data['title']).drop_duplicates()\n",
    "\n",
    "title = \"Toy Story (1995)\"\n",
    "idx = indices[title]\n",
    "sim_scores = []\n",
    "for i, j in enumerate(cosine_sim[idx]):\n",
    "    k = movies_data['Score'].iloc[i]\n",
    "    if j != 0 :\n",
    "        sim_scores.append((i, j, k))"
   ],
   "metadata": {
    "collapsed": false,
    "pycharm": {
     "name": "#%%\n"
    }
   }
  },
  {
   "cell_type": "code",
   "execution_count": 25,
   "outputs": [],
   "source": [
    "sim_scores = sorted(sim_scores, key=lambda x: (x[1],x[2]) , reverse=True)\n",
    "sim_scores = sim_scores[0:10]\n",
    "rest_indices = [i[0] for i in sim_scores]"
   ],
   "metadata": {
    "collapsed": false,
    "pycharm": {
     "name": "#%%\n"
    }
   }
  },
  {
   "cell_type": "code",
   "execution_count": 26,
   "outputs": [
    {
     "name": "stderr",
     "output_type": "stream",
     "text": [
      "/Users/daniyarkurmanbayev/Documents/GBC/mlenv/lib/python3.8/site-packages/pandas/core/indexing.py:1732: SettingWithCopyWarning: \n",
      "A value is trying to be set on a copy of a slice from a DataFrame\n",
      "\n",
      "See the caveats in the documentation: https://pandas.pydata.org/pandas-docs/stable/user_guide/indexing.html#returning-a-view-versus-a-copy\n",
      "  self._setitem_single_block(indexer, value, name)\n"
     ]
    },
    {
     "data": {
      "text/plain": "                                                   title     Score  \\\n0                                       Toy Story (1995)  3.900155   \n3027                                  Toy Story 2 (1999)  3.801328   \n2270                                Bug's Life, A (1998)  3.579241   \n11026                                        Cars (2006)  3.407532   \n6271                                 Finding Nemo (2003)  3.844745   \n27270                              Brother Bear 2 (2006)  3.072597   \n24849                           The Magic Crystal (2011)  3.071412   \n590                                     Pinocchio (1940)  3.461160   \n26714                        The Gruffalo's Child (2011)  3.074395   \n25816  The Land Before Time VII: The Stone of Cold Fi...  3.073607   \n\n       Cosine Similarity  \n0                   1.00  \n3027                0.52  \n2270                0.26  \n11026               0.25  \n6271                0.24  \n27270               0.23  \n24849               0.23  \n590                 0.23  \n26714               0.22  \n25816               0.22  ",
      "text/html": "<div>\n<style scoped>\n    .dataframe tbody tr th:only-of-type {\n        vertical-align: middle;\n    }\n\n    .dataframe tbody tr th {\n        vertical-align: top;\n    }\n\n    .dataframe thead th {\n        text-align: right;\n    }\n</style>\n<table border=\"1\" class=\"dataframe\">\n  <thead>\n    <tr style=\"text-align: right;\">\n      <th></th>\n      <th>title</th>\n      <th>Score</th>\n      <th>Cosine Similarity</th>\n    </tr>\n  </thead>\n  <tbody>\n    <tr>\n      <th>0</th>\n      <td>Toy Story (1995)</td>\n      <td>3.900155</td>\n      <td>1.00</td>\n    </tr>\n    <tr>\n      <th>3027</th>\n      <td>Toy Story 2 (1999)</td>\n      <td>3.801328</td>\n      <td>0.52</td>\n    </tr>\n    <tr>\n      <th>2270</th>\n      <td>Bug's Life, A (1998)</td>\n      <td>3.579241</td>\n      <td>0.26</td>\n    </tr>\n    <tr>\n      <th>11026</th>\n      <td>Cars (2006)</td>\n      <td>3.407532</td>\n      <td>0.25</td>\n    </tr>\n    <tr>\n      <th>6271</th>\n      <td>Finding Nemo (2003)</td>\n      <td>3.844745</td>\n      <td>0.24</td>\n    </tr>\n    <tr>\n      <th>27270</th>\n      <td>Brother Bear 2 (2006)</td>\n      <td>3.072597</td>\n      <td>0.23</td>\n    </tr>\n    <tr>\n      <th>24849</th>\n      <td>The Magic Crystal (2011)</td>\n      <td>3.071412</td>\n      <td>0.23</td>\n    </tr>\n    <tr>\n      <th>590</th>\n      <td>Pinocchio (1940)</td>\n      <td>3.461160</td>\n      <td>0.23</td>\n    </tr>\n    <tr>\n      <th>26714</th>\n      <td>The Gruffalo's Child (2011)</td>\n      <td>3.074395</td>\n      <td>0.22</td>\n    </tr>\n    <tr>\n      <th>25816</th>\n      <td>The Land Before Time VII: The Stone of Cold Fi...</td>\n      <td>3.073607</td>\n      <td>0.22</td>\n    </tr>\n  </tbody>\n</table>\n</div>"
     },
     "execution_count": 26,
     "metadata": {},
     "output_type": "execute_result"
    }
   ],
   "source": [
    "data_x = movies_data[['title', 'Score']].iloc[rest_indices]\n",
    "\n",
    "data_x['Cosine Similarity'] = 0\n",
    "for i, j in enumerate(sim_scores):\n",
    "    data_x['Cosine Similarity'].iloc[i]=round(sim_scores[i][1],2)\n",
    "\n",
    "data_x"
   ],
   "metadata": {
    "collapsed": false,
    "pycharm": {
     "name": "#%%\n"
    }
   }
  },
  {
   "cell_type": "code",
   "execution_count": 27,
   "outputs": [],
   "source": [
    "def recommend_cosine(title, n=5):\n",
    "    idx = indices[title]\n",
    "    sim_scores = []\n",
    "    for i, j in enumerate(cosine_sim[idx]):\n",
    "        k = movies_data['Score'].iloc[i]\n",
    "        if j != 0 :\n",
    "            sim_scores.append((i, j, k))\n",
    "\n",
    "    sim_scores = sorted(sim_scores, key=lambda x: (x[1],x[2]) , reverse=True)\n",
    "    sim_scores = sim_scores[0:n]\n",
    "    rest_indices = [i[0] for i in sim_scores]\n",
    "\n",
    "    data_x = movies_data[['title', 'Score']].iloc[rest_indices]\n",
    "\n",
    "    data_x['Cosine Similarity'] = 0\n",
    "    for i, j in enumerate(sim_scores):\n",
    "        data_x['Cosine Similarity'].iloc[i]=round(sim_scores[i][1],2)\n",
    "\n",
    "    return data_x"
   ],
   "metadata": {
    "collapsed": false,
    "pycharm": {
     "name": "#%%\n"
    }
   }
  },
  {
   "cell_type": "code",
   "execution_count": 28,
   "outputs": [
    {
     "name": "stderr",
     "output_type": "stream",
     "text": [
      "/Users/daniyarkurmanbayev/Documents/GBC/mlenv/lib/python3.8/site-packages/pandas/core/indexing.py:1732: SettingWithCopyWarning: \n",
      "A value is trying to be set on a copy of a slice from a DataFrame\n",
      "\n",
      "See the caveats in the documentation: https://pandas.pydata.org/pandas-docs/stable/user_guide/indexing.html#returning-a-view-versus-a-copy\n",
      "  self._setitem_single_block(indexer, value, name)\n"
     ]
    },
    {
     "data": {
      "text/plain": "                                    title     Score  Cosine Similarity\n1                          Jumanji (1995)  3.204437               1.00\n11136              Thief Lord, The (2006)  3.074437               0.26\n25742                   Snow Queen (2002)  3.070961               0.26\n26268  The Cave of the Golden Rose (1991)  3.070622               0.26\n21923    Back to the Secret Garden (2001)  3.070566               0.26",
      "text/html": "<div>\n<style scoped>\n    .dataframe tbody tr th:only-of-type {\n        vertical-align: middle;\n    }\n\n    .dataframe tbody tr th {\n        vertical-align: top;\n    }\n\n    .dataframe thead th {\n        text-align: right;\n    }\n</style>\n<table border=\"1\" class=\"dataframe\">\n  <thead>\n    <tr style=\"text-align: right;\">\n      <th></th>\n      <th>title</th>\n      <th>Score</th>\n      <th>Cosine Similarity</th>\n    </tr>\n  </thead>\n  <tbody>\n    <tr>\n      <th>1</th>\n      <td>Jumanji (1995)</td>\n      <td>3.204437</td>\n      <td>1.00</td>\n    </tr>\n    <tr>\n      <th>11136</th>\n      <td>Thief Lord, The (2006)</td>\n      <td>3.074437</td>\n      <td>0.26</td>\n    </tr>\n    <tr>\n      <th>25742</th>\n      <td>Snow Queen (2002)</td>\n      <td>3.070961</td>\n      <td>0.26</td>\n    </tr>\n    <tr>\n      <th>26268</th>\n      <td>The Cave of the Golden Rose (1991)</td>\n      <td>3.070622</td>\n      <td>0.26</td>\n    </tr>\n    <tr>\n      <th>21923</th>\n      <td>Back to the Secret Garden (2001)</td>\n      <td>3.070566</td>\n      <td>0.26</td>\n    </tr>\n  </tbody>\n</table>\n</div>"
     },
     "execution_count": 28,
     "metadata": {},
     "output_type": "execute_result"
    }
   ],
   "source": [
    "recommend_cosine('Jumanji (1995)', 5)"
   ],
   "metadata": {
    "collapsed": false,
    "pycharm": {
     "name": "#%%\n"
    }
   }
  },
  {
   "cell_type": "markdown",
   "source": [
    "## Collaborative"
   ],
   "metadata": {
    "collapsed": false,
    "pycharm": {
     "name": "#%% md\n"
    }
   }
  },
  {
   "cell_type": "code",
   "execution_count": 59,
   "outputs": [],
   "source": [
    "n_reduced = 1000000"
   ],
   "metadata": {
    "collapsed": false,
    "pycharm": {
     "name": "#%%\n"
    }
   }
  },
  {
   "cell_type": "code",
   "execution_count": 60,
   "outputs": [
    {
     "data": {
      "text/plain": "userId   1     2     3     4     5     6     7     8     9     10    ...  \\\nmovieId                                                              ...   \n1         0.0   0.0   4.0   0.0   0.0   5.0   0.0   4.0   0.0   4.0  ...   \n2         3.5   0.0   0.0   0.0   3.0   0.0   0.0   0.0   0.0   0.0  ...   \n3         0.0   4.0   0.0   0.0   0.0   3.0   3.0   5.0   0.0   0.0  ...   \n4         0.0   0.0   0.0   0.0   0.0   0.0   0.0   0.0   0.0   0.0  ...   \n5         0.0   0.0   0.0   0.0   0.0   0.0   0.0   0.0   0.0   0.0  ...   \n...       ...   ...   ...   ...   ...   ...   ...   ...   ...   ...  ...   \n130073    0.0   0.0   0.0   0.0   0.0   0.0   0.0   0.0   0.0   0.0  ...   \n130219    0.0   0.0   0.0   0.0   0.0   0.0   0.0   0.0   0.0   0.0  ...   \n130462    0.0   0.0   0.0   0.0   0.0   0.0   0.0   0.0   0.0   0.0  ...   \n130490    0.0   0.0   0.0   0.0   0.0   0.0   0.0   0.0   0.0   0.0  ...   \n130642    0.0   0.0   0.0   0.0   0.0   0.0   0.0   0.0   0.0   0.0  ...   \n\nuserId   6734  6735  6736  6737  6738  6739  6740  6741  6742  6743  \nmovieId                                                              \n1         0.5   4.0   4.0   3.0   0.0   4.0   0.0   4.0   0.0   4.0  \n2         0.0   0.0   0.0   0.0   0.0   0.0   0.0   0.0   0.0   3.0  \n3         0.0   5.0   0.0   0.0   0.0   4.0   0.0   0.0   0.0   3.0  \n4         0.0   0.0   0.0   0.0   0.0   1.0   0.0   0.0   0.0   0.0  \n5         0.0   4.0   3.0   0.0   0.0   0.0   0.0   0.0   0.0   0.0  \n...       ...   ...   ...   ...   ...   ...   ...   ...   ...   ...  \n130073    0.0   0.0   0.0   0.0   0.0   0.0   0.0   0.0   0.0   0.0  \n130219    0.0   0.0   0.0   0.0   0.0   0.0   0.0   0.0   0.0   0.0  \n130462    0.0   0.0   0.0   0.0   0.0   0.0   0.0   0.0   0.0   0.0  \n130490    0.0   0.0   0.0   0.0   0.0   0.0   0.0   0.0   0.0   0.0  \n130642    0.0   0.0   0.0   0.0   0.0   0.0   0.0   0.0   0.0   0.0  \n\n[13950 rows x 6743 columns]",
      "text/html": "<div>\n<style scoped>\n    .dataframe tbody tr th:only-of-type {\n        vertical-align: middle;\n    }\n\n    .dataframe tbody tr th {\n        vertical-align: top;\n    }\n\n    .dataframe thead th {\n        text-align: right;\n    }\n</style>\n<table border=\"1\" class=\"dataframe\">\n  <thead>\n    <tr style=\"text-align: right;\">\n      <th>userId</th>\n      <th>1</th>\n      <th>2</th>\n      <th>3</th>\n      <th>4</th>\n      <th>5</th>\n      <th>6</th>\n      <th>7</th>\n      <th>8</th>\n      <th>9</th>\n      <th>10</th>\n      <th>...</th>\n      <th>6734</th>\n      <th>6735</th>\n      <th>6736</th>\n      <th>6737</th>\n      <th>6738</th>\n      <th>6739</th>\n      <th>6740</th>\n      <th>6741</th>\n      <th>6742</th>\n      <th>6743</th>\n    </tr>\n    <tr>\n      <th>movieId</th>\n      <th></th>\n      <th></th>\n      <th></th>\n      <th></th>\n      <th></th>\n      <th></th>\n      <th></th>\n      <th></th>\n      <th></th>\n      <th></th>\n      <th></th>\n      <th></th>\n      <th></th>\n      <th></th>\n      <th></th>\n      <th></th>\n      <th></th>\n      <th></th>\n      <th></th>\n      <th></th>\n      <th></th>\n    </tr>\n  </thead>\n  <tbody>\n    <tr>\n      <th>1</th>\n      <td>0.0</td>\n      <td>0.0</td>\n      <td>4.0</td>\n      <td>0.0</td>\n      <td>0.0</td>\n      <td>5.0</td>\n      <td>0.0</td>\n      <td>4.0</td>\n      <td>0.0</td>\n      <td>4.0</td>\n      <td>...</td>\n      <td>0.5</td>\n      <td>4.0</td>\n      <td>4.0</td>\n      <td>3.0</td>\n      <td>0.0</td>\n      <td>4.0</td>\n      <td>0.0</td>\n      <td>4.0</td>\n      <td>0.0</td>\n      <td>4.0</td>\n    </tr>\n    <tr>\n      <th>2</th>\n      <td>3.5</td>\n      <td>0.0</td>\n      <td>0.0</td>\n      <td>0.0</td>\n      <td>3.0</td>\n      <td>0.0</td>\n      <td>0.0</td>\n      <td>0.0</td>\n      <td>0.0</td>\n      <td>0.0</td>\n      <td>...</td>\n      <td>0.0</td>\n      <td>0.0</td>\n      <td>0.0</td>\n      <td>0.0</td>\n      <td>0.0</td>\n      <td>0.0</td>\n      <td>0.0</td>\n      <td>0.0</td>\n      <td>0.0</td>\n      <td>3.0</td>\n    </tr>\n    <tr>\n      <th>3</th>\n      <td>0.0</td>\n      <td>4.0</td>\n      <td>0.0</td>\n      <td>0.0</td>\n      <td>0.0</td>\n      <td>3.0</td>\n      <td>3.0</td>\n      <td>5.0</td>\n      <td>0.0</td>\n      <td>0.0</td>\n      <td>...</td>\n      <td>0.0</td>\n      <td>5.0</td>\n      <td>0.0</td>\n      <td>0.0</td>\n      <td>0.0</td>\n      <td>4.0</td>\n      <td>0.0</td>\n      <td>0.0</td>\n      <td>0.0</td>\n      <td>3.0</td>\n    </tr>\n    <tr>\n      <th>4</th>\n      <td>0.0</td>\n      <td>0.0</td>\n      <td>0.0</td>\n      <td>0.0</td>\n      <td>0.0</td>\n      <td>0.0</td>\n      <td>0.0</td>\n      <td>0.0</td>\n      <td>0.0</td>\n      <td>0.0</td>\n      <td>...</td>\n      <td>0.0</td>\n      <td>0.0</td>\n      <td>0.0</td>\n      <td>0.0</td>\n      <td>0.0</td>\n      <td>1.0</td>\n      <td>0.0</td>\n      <td>0.0</td>\n      <td>0.0</td>\n      <td>0.0</td>\n    </tr>\n    <tr>\n      <th>5</th>\n      <td>0.0</td>\n      <td>0.0</td>\n      <td>0.0</td>\n      <td>0.0</td>\n      <td>0.0</td>\n      <td>0.0</td>\n      <td>0.0</td>\n      <td>0.0</td>\n      <td>0.0</td>\n      <td>0.0</td>\n      <td>...</td>\n      <td>0.0</td>\n      <td>4.0</td>\n      <td>3.0</td>\n      <td>0.0</td>\n      <td>0.0</td>\n      <td>0.0</td>\n      <td>0.0</td>\n      <td>0.0</td>\n      <td>0.0</td>\n      <td>0.0</td>\n    </tr>\n    <tr>\n      <th>...</th>\n      <td>...</td>\n      <td>...</td>\n      <td>...</td>\n      <td>...</td>\n      <td>...</td>\n      <td>...</td>\n      <td>...</td>\n      <td>...</td>\n      <td>...</td>\n      <td>...</td>\n      <td>...</td>\n      <td>...</td>\n      <td>...</td>\n      <td>...</td>\n      <td>...</td>\n      <td>...</td>\n      <td>...</td>\n      <td>...</td>\n      <td>...</td>\n      <td>...</td>\n      <td>...</td>\n    </tr>\n    <tr>\n      <th>130073</th>\n      <td>0.0</td>\n      <td>0.0</td>\n      <td>0.0</td>\n      <td>0.0</td>\n      <td>0.0</td>\n      <td>0.0</td>\n      <td>0.0</td>\n      <td>0.0</td>\n      <td>0.0</td>\n      <td>0.0</td>\n      <td>...</td>\n      <td>0.0</td>\n      <td>0.0</td>\n      <td>0.0</td>\n      <td>0.0</td>\n      <td>0.0</td>\n      <td>0.0</td>\n      <td>0.0</td>\n      <td>0.0</td>\n      <td>0.0</td>\n      <td>0.0</td>\n    </tr>\n    <tr>\n      <th>130219</th>\n      <td>0.0</td>\n      <td>0.0</td>\n      <td>0.0</td>\n      <td>0.0</td>\n      <td>0.0</td>\n      <td>0.0</td>\n      <td>0.0</td>\n      <td>0.0</td>\n      <td>0.0</td>\n      <td>0.0</td>\n      <td>...</td>\n      <td>0.0</td>\n      <td>0.0</td>\n      <td>0.0</td>\n      <td>0.0</td>\n      <td>0.0</td>\n      <td>0.0</td>\n      <td>0.0</td>\n      <td>0.0</td>\n      <td>0.0</td>\n      <td>0.0</td>\n    </tr>\n    <tr>\n      <th>130462</th>\n      <td>0.0</td>\n      <td>0.0</td>\n      <td>0.0</td>\n      <td>0.0</td>\n      <td>0.0</td>\n      <td>0.0</td>\n      <td>0.0</td>\n      <td>0.0</td>\n      <td>0.0</td>\n      <td>0.0</td>\n      <td>...</td>\n      <td>0.0</td>\n      <td>0.0</td>\n      <td>0.0</td>\n      <td>0.0</td>\n      <td>0.0</td>\n      <td>0.0</td>\n      <td>0.0</td>\n      <td>0.0</td>\n      <td>0.0</td>\n      <td>0.0</td>\n    </tr>\n    <tr>\n      <th>130490</th>\n      <td>0.0</td>\n      <td>0.0</td>\n      <td>0.0</td>\n      <td>0.0</td>\n      <td>0.0</td>\n      <td>0.0</td>\n      <td>0.0</td>\n      <td>0.0</td>\n      <td>0.0</td>\n      <td>0.0</td>\n      <td>...</td>\n      <td>0.0</td>\n      <td>0.0</td>\n      <td>0.0</td>\n      <td>0.0</td>\n      <td>0.0</td>\n      <td>0.0</td>\n      <td>0.0</td>\n      <td>0.0</td>\n      <td>0.0</td>\n      <td>0.0</td>\n    </tr>\n    <tr>\n      <th>130642</th>\n      <td>0.0</td>\n      <td>0.0</td>\n      <td>0.0</td>\n      <td>0.0</td>\n      <td>0.0</td>\n      <td>0.0</td>\n      <td>0.0</td>\n      <td>0.0</td>\n      <td>0.0</td>\n      <td>0.0</td>\n      <td>...</td>\n      <td>0.0</td>\n      <td>0.0</td>\n      <td>0.0</td>\n      <td>0.0</td>\n      <td>0.0</td>\n      <td>0.0</td>\n      <td>0.0</td>\n      <td>0.0</td>\n      <td>0.0</td>\n      <td>0.0</td>\n    </tr>\n  </tbody>\n</table>\n<p>13950 rows × 6743 columns</p>\n</div>"
     },
     "execution_count": 60,
     "metadata": {},
     "output_type": "execute_result"
    }
   ],
   "source": [
    "user_movies_data = ratings_data[:n_reduced].pivot(index='movieId', columns='userId', values='rating').fillna(0)\n",
    "user_movies_data"
   ],
   "metadata": {
    "collapsed": false,
    "pycharm": {
     "name": "#%%\n"
    }
   }
  },
  {
   "cell_type": "code",
   "execution_count": 61,
   "outputs": [],
   "source": [
    "movies_data_reduced = [movies_data.iloc[i] for i in range(movies_data.shape[0]) if user_movies_data.index.tolist().__contains__(movies_data.at[i, 'movieId'])]"
   ],
   "metadata": {
    "collapsed": false,
    "pycharm": {
     "name": "#%%\n"
    }
   }
  },
  {
   "cell_type": "code",
   "execution_count": 62,
   "outputs": [],
   "source": [
    "movies_data_reduced = pd.DataFrame(movies_data_reduced)"
   ],
   "metadata": {
    "collapsed": false,
    "pycharm": {
     "name": "#%%\n"
    }
   }
  },
  {
   "cell_type": "code",
   "execution_count": 63,
   "outputs": [],
   "source": [
    "tfidf_matrix = tfidf_vectorizer.fit_transform(movies_data_reduced['Metadata'])\n",
    "tfidf_df = pd.DataFrame(tfidf_matrix.toarray(), index=movies_data_reduced.index.tolist())"
   ],
   "metadata": {
    "collapsed": false,
    "pycharm": {
     "name": "#%%\n"
    }
   }
  },
  {
   "cell_type": "code",
   "execution_count": 64,
   "outputs": [],
   "source": [
    "svd = TruncatedSVD(n_components=19)\n",
    "latent_matrix = svd.fit_transform(tfidf_df)"
   ],
   "metadata": {
    "collapsed": false,
    "pycharm": {
     "name": "#%%\n"
    }
   }
  },
  {
   "cell_type": "code",
   "execution_count": 75,
   "outputs": [],
   "source": [
    "n = 20\n",
    "latent_matrix_1_df = pd.DataFrame(latent_matrix[:,0:n], index=movies_data_reduced['title'].tolist())"
   ],
   "metadata": {
    "collapsed": false,
    "pycharm": {
     "name": "#%%\n"
    }
   }
  },
  {
   "cell_type": "code",
   "execution_count": 76,
   "outputs": [],
   "source": [
    "latent_matrix_2 = svd.fit_transform(user_movies_data)\n",
    "latent_matrix_2_df = pd.DataFrame(latent_matrix_2, index=movies_data_reduced['title'].tolist())"
   ],
   "metadata": {
    "collapsed": false,
    "pycharm": {
     "name": "#%%\n"
    }
   }
  },
  {
   "cell_type": "code",
   "execution_count": 84,
   "outputs": [
    {
     "data": {
      "text/plain": "                                     content  collaborative    hybrid\nJumanji (1995)                      1.000000       1.000000  1.000000\nCasper (1995)                       0.987449       0.910505  0.948977\nFree Willy (1993)                   0.969169       0.866445  0.917807\nIndian in the Cupboard, The (1995)  0.988560       0.824272  0.906416\nBabe (1995)                         0.975708       0.807475  0.891592\n...                                      ...            ...       ...\nBrothers in Trouble (1995)          0.004610      -0.113331 -0.054360\nBigger Than the Sky (2005)          0.017355      -0.128319 -0.055482\nQuick and the Dead, The (1987)     -0.031035      -0.098038 -0.064536\nIn This Our Life (1942)             0.023629      -0.155431 -0.065901\nUndertow (Contracorriente) (2009)   0.023990      -0.157969 -0.066990\n\n[13950 rows x 3 columns]",
      "text/html": "<div>\n<style scoped>\n    .dataframe tbody tr th:only-of-type {\n        vertical-align: middle;\n    }\n\n    .dataframe tbody tr th {\n        vertical-align: top;\n    }\n\n    .dataframe thead th {\n        text-align: right;\n    }\n</style>\n<table border=\"1\" class=\"dataframe\">\n  <thead>\n    <tr style=\"text-align: right;\">\n      <th></th>\n      <th>content</th>\n      <th>collaborative</th>\n      <th>hybrid</th>\n    </tr>\n  </thead>\n  <tbody>\n    <tr>\n      <th>Jumanji (1995)</th>\n      <td>1.000000</td>\n      <td>1.000000</td>\n      <td>1.000000</td>\n    </tr>\n    <tr>\n      <th>Casper (1995)</th>\n      <td>0.987449</td>\n      <td>0.910505</td>\n      <td>0.948977</td>\n    </tr>\n    <tr>\n      <th>Free Willy (1993)</th>\n      <td>0.969169</td>\n      <td>0.866445</td>\n      <td>0.917807</td>\n    </tr>\n    <tr>\n      <th>Indian in the Cupboard, The (1995)</th>\n      <td>0.988560</td>\n      <td>0.824272</td>\n      <td>0.906416</td>\n    </tr>\n    <tr>\n      <th>Babe (1995)</th>\n      <td>0.975708</td>\n      <td>0.807475</td>\n      <td>0.891592</td>\n    </tr>\n    <tr>\n      <th>...</th>\n      <td>...</td>\n      <td>...</td>\n      <td>...</td>\n    </tr>\n    <tr>\n      <th>Brothers in Trouble (1995)</th>\n      <td>0.004610</td>\n      <td>-0.113331</td>\n      <td>-0.054360</td>\n    </tr>\n    <tr>\n      <th>Bigger Than the Sky (2005)</th>\n      <td>0.017355</td>\n      <td>-0.128319</td>\n      <td>-0.055482</td>\n    </tr>\n    <tr>\n      <th>Quick and the Dead, The (1987)</th>\n      <td>-0.031035</td>\n      <td>-0.098038</td>\n      <td>-0.064536</td>\n    </tr>\n    <tr>\n      <th>In This Our Life (1942)</th>\n      <td>0.023629</td>\n      <td>-0.155431</td>\n      <td>-0.065901</td>\n    </tr>\n    <tr>\n      <th>Undertow (Contracorriente) (2009)</th>\n      <td>0.023990</td>\n      <td>-0.157969</td>\n      <td>-0.066990</td>\n    </tr>\n  </tbody>\n</table>\n<p>13950 rows × 3 columns</p>\n</div>"
     },
     "execution_count": 84,
     "metadata": {},
     "output_type": "execute_result"
    }
   ],
   "source": [
    "a_1 = np.array(latent_matrix_1_df.loc['Jumanji (1995)']).reshape(1, -1)\n",
    "a_2 = np.array(latent_matrix_2_df.loc['Jumanji (1995)']).reshape(1, -1)\n",
    "\n",
    "score_1 = cosine_similarity(latent_matrix_1_df, a_1).reshape(-1)\n",
    "score_2 = cosine_similarity(latent_matrix_2_df, a_2).reshape(-1)\n",
    "\n",
    "hybrid = ((score_1 + score_2)/2.0)\n",
    "\n",
    "dictDf = {'content': score_1 , 'collaborative': score_2, 'hybrid': hybrid}\n",
    "similar = pd.DataFrame(dictDf, index=latent_matrix_2_df.index)\n",
    "\n",
    "similar.sort_values('hybrid', ascending=False, inplace=True)\n",
    "similar"
   ],
   "metadata": {
    "collapsed": false,
    "pycharm": {
     "name": "#%%\n"
    }
   }
  },
  {
   "cell_type": "code",
   "execution_count": 85,
   "outputs": [],
   "source": [
    "def recommend_hybrid(title, n=5):\n",
    "    a_1 = np.array(latent_matrix_1_df.loc[title]).reshape(1, -1)\n",
    "    a_2 = np.array(latent_matrix_2_df.loc[title]).reshape(1, -1)\n",
    "\n",
    "    score_1 = cosine_similarity(latent_matrix_1_df, a_1).reshape(-1)\n",
    "    score_2 = cosine_similarity(latent_matrix_2_df, a_2).reshape(-1)\n",
    "\n",
    "    hybrid = ((score_1 + score_2)/2.0)\n",
    "\n",
    "    dictDf = {'content': score_1 , 'collaborative': score_2, 'hybrid': hybrid}\n",
    "    similar = pd.DataFrame(dictDf, index = latent_matrix_2_df.index )\n",
    "\n",
    "    return similar.sort_values('hybrid', ascending=False)"
   ],
   "metadata": {
    "collapsed": false,
    "pycharm": {
     "name": "#%%\n"
    }
   }
  },
  {
   "cell_type": "code",
   "execution_count": 86,
   "outputs": [
    {
     "data": {
      "text/plain": "                                     content  collaborative    hybrid\nJumanji (1995)                      1.000000       1.000000  1.000000\nCasper (1995)                       0.987449       0.910505  0.948977\nFree Willy (1993)                   0.969169       0.866445  0.917807\nIndian in the Cupboard, The (1995)  0.988560       0.824272  0.906416\nBabe (1995)                         0.975708       0.807475  0.891592\n...                                      ...            ...       ...\nBrothers in Trouble (1995)          0.004610      -0.113331 -0.054360\nBigger Than the Sky (2005)          0.017355      -0.128319 -0.055482\nQuick and the Dead, The (1987)     -0.031035      -0.098038 -0.064536\nIn This Our Life (1942)             0.023629      -0.155431 -0.065901\nUndertow (Contracorriente) (2009)   0.023990      -0.157969 -0.066990\n\n[13950 rows x 3 columns]",
      "text/html": "<div>\n<style scoped>\n    .dataframe tbody tr th:only-of-type {\n        vertical-align: middle;\n    }\n\n    .dataframe tbody tr th {\n        vertical-align: top;\n    }\n\n    .dataframe thead th {\n        text-align: right;\n    }\n</style>\n<table border=\"1\" class=\"dataframe\">\n  <thead>\n    <tr style=\"text-align: right;\">\n      <th></th>\n      <th>content</th>\n      <th>collaborative</th>\n      <th>hybrid</th>\n    </tr>\n  </thead>\n  <tbody>\n    <tr>\n      <th>Jumanji (1995)</th>\n      <td>1.000000</td>\n      <td>1.000000</td>\n      <td>1.000000</td>\n    </tr>\n    <tr>\n      <th>Casper (1995)</th>\n      <td>0.987449</td>\n      <td>0.910505</td>\n      <td>0.948977</td>\n    </tr>\n    <tr>\n      <th>Free Willy (1993)</th>\n      <td>0.969169</td>\n      <td>0.866445</td>\n      <td>0.917807</td>\n    </tr>\n    <tr>\n      <th>Indian in the Cupboard, The (1995)</th>\n      <td>0.988560</td>\n      <td>0.824272</td>\n      <td>0.906416</td>\n    </tr>\n    <tr>\n      <th>Babe (1995)</th>\n      <td>0.975708</td>\n      <td>0.807475</td>\n      <td>0.891592</td>\n    </tr>\n    <tr>\n      <th>...</th>\n      <td>...</td>\n      <td>...</td>\n      <td>...</td>\n    </tr>\n    <tr>\n      <th>Brothers in Trouble (1995)</th>\n      <td>0.004610</td>\n      <td>-0.113331</td>\n      <td>-0.054360</td>\n    </tr>\n    <tr>\n      <th>Bigger Than the Sky (2005)</th>\n      <td>0.017355</td>\n      <td>-0.128319</td>\n      <td>-0.055482</td>\n    </tr>\n    <tr>\n      <th>Quick and the Dead, The (1987)</th>\n      <td>-0.031035</td>\n      <td>-0.098038</td>\n      <td>-0.064536</td>\n    </tr>\n    <tr>\n      <th>In This Our Life (1942)</th>\n      <td>0.023629</td>\n      <td>-0.155431</td>\n      <td>-0.065901</td>\n    </tr>\n    <tr>\n      <th>Undertow (Contracorriente) (2009)</th>\n      <td>0.023990</td>\n      <td>-0.157969</td>\n      <td>-0.066990</td>\n    </tr>\n  </tbody>\n</table>\n<p>13950 rows × 3 columns</p>\n</div>"
     },
     "execution_count": 86,
     "metadata": {},
     "output_type": "execute_result"
    }
   ],
   "source": [
    "recommend_hybrid('Jumanji (1995)')"
   ],
   "metadata": {
    "collapsed": false,
    "pycharm": {
     "name": "#%%\n"
    }
   }
  },
  {
   "cell_type": "markdown",
   "source": [
    "## Turicreate"
   ],
   "metadata": {
    "collapsed": false,
    "pycharm": {
     "name": "#%% md\n"
    }
   }
  },
  {
   "cell_type": "code",
   "execution_count": 87,
   "outputs": [],
   "source": [
    "ratings_train, ratings_test = train_test_split(ratings_data, test_size=0.1)"
   ],
   "metadata": {
    "collapsed": false,
    "pycharm": {
     "name": "#%%\n"
    }
   }
  },
  {
   "cell_type": "code",
   "execution_count": 88,
   "outputs": [],
   "source": [
    "train_ratings_sframe = turicreate.SFrame(ratings_train)\n",
    "test_ratings_sframe = turicreate.SFrame(ratings_test)"
   ],
   "metadata": {
    "collapsed": false,
    "pycharm": {
     "name": "#%%\n"
    }
   }
  },
  {
   "cell_type": "code",
   "execution_count": 89,
   "outputs": [
    {
     "data": {
      "text/plain": "Warning: Ignoring columns timestamp;",
      "text/html": "<pre>Warning: Ignoring columns timestamp;</pre>"
     },
     "metadata": {},
     "output_type": "display_data"
    },
    {
     "data": {
      "text/plain": "    To use these columns in scoring predictions, use a model that allows the use of additional features.",
      "text/html": "<pre>    To use these columns in scoring predictions, use a model that allows the use of additional features.</pre>"
     },
     "metadata": {},
     "output_type": "display_data"
    },
    {
     "data": {
      "text/plain": "Preparing data set.",
      "text/html": "<pre>Preparing data set.</pre>"
     },
     "metadata": {},
     "output_type": "display_data"
    },
    {
     "data": {
      "text/plain": "    Data has 18000236 observations with 138493 users and 26328 items.",
      "text/html": "<pre>    Data has 18000236 observations with 138493 users and 26328 items.</pre>"
     },
     "metadata": {},
     "output_type": "display_data"
    },
    {
     "data": {
      "text/plain": "    Data prepared in: 8.18233s",
      "text/html": "<pre>    Data prepared in: 8.18233s</pre>"
     },
     "metadata": {},
     "output_type": "display_data"
    },
    {
     "data": {
      "text/plain": "18000236 observations to process; with 26328 unique items.",
      "text/html": "<pre>18000236 observations to process; with 26328 unique items.</pre>"
     },
     "metadata": {},
     "output_type": "display_data"
    }
   ],
   "source": [
    "popularity_model = turicreate.popularity_recommender.create(train_ratings_sframe, user_id='userId', item_id='movieId', target='rating')"
   ],
   "metadata": {
    "collapsed": false,
    "pycharm": {
     "name": "#%%\n"
    }
   }
  },
  {
   "cell_type": "code",
   "execution_count": 111,
   "outputs": [
    {
     "name": "stdout",
     "output_type": "stream",
     "text": [
      "12291    All Passion Spent (1986)\n",
      "Name: title, dtype: object\n",
      "12291    All Passion Spent (1986)\n",
      "Name: title, dtype: object\n",
      "12291    All Passion Spent (1986)\n",
      "Name: title, dtype: object\n",
      "12291    All Passion Spent (1986)\n",
      "Name: title, dtype: object\n",
      "12291    All Passion Spent (1986)\n",
      "Name: title, dtype: object\n"
     ]
    }
   ],
   "source": [
    "popularity_recomm = popularity_model.recommend(users=[1, 2, 3, 4, 5],k=1)\n",
    "\n",
    "for recom in popularity_recomm:\n",
    "    print(movies_data[movies_data['movieId'] == recom['movieId']]['title'])"
   ],
   "metadata": {
    "collapsed": false,
    "pycharm": {
     "name": "#%%\n"
    }
   }
  },
  {
   "cell_type": "markdown",
   "source": [
    "#### Recommender recommends same movies to different users"
   ],
   "metadata": {
    "collapsed": false,
    "pycharm": {
     "name": "#%% md\n"
    }
   }
  },
  {
   "cell_type": "markdown",
   "source": [
    "## Surprise"
   ],
   "metadata": {
    "collapsed": false,
    "pycharm": {
     "name": "#%% md\n"
    }
   }
  },
  {
   "cell_type": "code",
   "execution_count": 114,
   "outputs": [],
   "source": [
    "from surprise import Dataset, Reader, SVD, accuracy\n",
    "from surprise.model_selection import train_test_split"
   ],
   "metadata": {
    "collapsed": false,
    "pycharm": {
     "name": "#%%\n"
    }
   }
  },
  {
   "cell_type": "code",
   "execution_count": 112,
   "outputs": [],
   "source": [
    "Mapping_file = dict(zip(movies_data['title'].tolist(), movies_data['movieId'].tolist()))"
   ],
   "metadata": {
    "collapsed": false,
    "pycharm": {
     "name": "#%%\n"
    }
   }
  },
  {
   "cell_type": "code",
   "execution_count": 115,
   "outputs": [
    {
     "name": "stdout",
     "output_type": "stream",
     "text": [
      "RMSE: 0.7892\n"
     ]
    },
    {
     "data": {
      "text/plain": "0.7892339030966591"
     },
     "execution_count": 115,
     "metadata": {},
     "output_type": "execute_result"
    }
   ],
   "source": [
    "reader = Reader(rating_scale=(1, 5))\n",
    "data = Dataset.load_from_df(ratings_data[['userId', 'movieId', 'rating']], reader)\n",
    "\n",
    "trainset, testset = train_test_split(data, test_size=.25)\n",
    "algorithm = SVD()\n",
    "algorithm.fit(trainset)\n",
    "predictions = algorithm.test(testset)\n",
    "\n",
    "accuracy.rmse(predictions)"
   ],
   "metadata": {
    "collapsed": false,
    "pycharm": {
     "name": "#%%\n"
    }
   }
  },
  {
   "cell_type": "code",
   "execution_count": 118,
   "outputs": [],
   "source": [
    "def pred_user_rating(ui):\n",
    "    if ui in ratings_data['userId'].unique():\n",
    "        ui_list = ratings_data[ratings_data['userId'] == ui]['movieId'].tolist()\n",
    "        d = {k: v for k,v in Mapping_file.items() if not v in ui_list}\n",
    "        predictedL = []\n",
    "        for i, j in d.items():\n",
    "            predicted = algorithm.predict(ui, j)\n",
    "            predictedL.append((i, predicted[3]))\n",
    "        pdf = pd.DataFrame(predictedL, columns = ['movies', 'ratings'])\n",
    "        pdf.sort_values('ratings', ascending=False, inplace=True)\n",
    "        pdf.set_index('movies', inplace=True)\n",
    "        return pdf.head(10)\n",
    "    else:\n",
    "        print(\"User Id does not exist in the list!\")\n",
    "        return None"
   ],
   "metadata": {
    "collapsed": false,
    "pycharm": {
     "name": "#%%\n"
    }
   }
  },
  {
   "cell_type": "code",
   "execution_count": 120,
   "outputs": [
    {
     "data": {
      "text/plain": "                                                    ratings\nmovies                                                     \nGladiator (1992)                                        5.0\nThe Imitation Game (2014)                               5.0\nPhantom of the Opera, The (2004)                        5.0\nGladiator (2000)                                        5.0\nShawshank Redemption, The (1994)                        5.0\nLord of the Rings: The Fellowship of the Ring, ...      5.0\nPrime Suspect (1991)                                    5.0\nDark Knight, The (2008)                                 5.0\nLord of the Rings: The Return of the King, The ...      5.0\nVoices from the List (2004)                             5.0",
      "text/html": "<div>\n<style scoped>\n    .dataframe tbody tr th:only-of-type {\n        vertical-align: middle;\n    }\n\n    .dataframe tbody tr th {\n        vertical-align: top;\n    }\n\n    .dataframe thead th {\n        text-align: right;\n    }\n</style>\n<table border=\"1\" class=\"dataframe\">\n  <thead>\n    <tr style=\"text-align: right;\">\n      <th></th>\n      <th>ratings</th>\n    </tr>\n    <tr>\n      <th>movies</th>\n      <th></th>\n    </tr>\n  </thead>\n  <tbody>\n    <tr>\n      <th>Gladiator (1992)</th>\n      <td>5.0</td>\n    </tr>\n    <tr>\n      <th>The Imitation Game (2014)</th>\n      <td>5.0</td>\n    </tr>\n    <tr>\n      <th>Phantom of the Opera, The (2004)</th>\n      <td>5.0</td>\n    </tr>\n    <tr>\n      <th>Gladiator (2000)</th>\n      <td>5.0</td>\n    </tr>\n    <tr>\n      <th>Shawshank Redemption, The (1994)</th>\n      <td>5.0</td>\n    </tr>\n    <tr>\n      <th>Lord of the Rings: The Fellowship of the Ring, The (2001)</th>\n      <td>5.0</td>\n    </tr>\n    <tr>\n      <th>Prime Suspect (1991)</th>\n      <td>5.0</td>\n    </tr>\n    <tr>\n      <th>Dark Knight, The (2008)</th>\n      <td>5.0</td>\n    </tr>\n    <tr>\n      <th>Lord of the Rings: The Return of the King, The (2003)</th>\n      <td>5.0</td>\n    </tr>\n    <tr>\n      <th>Voices from the List (2004)</th>\n      <td>5.0</td>\n    </tr>\n  </tbody>\n</table>\n</div>"
     },
     "execution_count": 120,
     "metadata": {},
     "output_type": "execute_result"
    }
   ],
   "source": [
    "pred_user_rating(2)\n"
   ],
   "metadata": {
    "collapsed": false,
    "pycharm": {
     "name": "#%%\n"
    }
   }
  }
 ],
 "metadata": {
  "kernelspec": {
   "display_name": "Python 3",
   "language": "python",
   "name": "python3"
  },
  "language_info": {
   "codemirror_mode": {
    "name": "ipython",
    "version": 2
   },
   "file_extension": ".py",
   "mimetype": "text/x-python",
   "name": "python",
   "nbconvert_exporter": "python",
   "pygments_lexer": "ipython2",
   "version": "2.7.6"
  }
 },
 "nbformat": 4,
 "nbformat_minor": 0
}