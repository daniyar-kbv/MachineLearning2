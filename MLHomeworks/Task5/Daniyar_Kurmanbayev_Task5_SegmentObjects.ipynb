{
 "cells": [
  {
   "cell_type": "code",
   "execution_count": 1,
   "metadata": {
    "collapsed": true
   },
   "outputs": [],
   "source": [
    "import cv2\n",
    "import numpy as np\n",
    "import mahotas"
   ]
  },
  {
   "cell_type": "code",
   "execution_count": 2,
   "outputs": [],
   "source": [
    "image = cv2.imread(\"Daniyar_Kurmanbayev_Task5_Objects.jpeg\")"
   ],
   "metadata": {
    "collapsed": false,
    "pycharm": {
     "name": "#%%\n"
    }
   }
  },
  {
   "cell_type": "code",
   "execution_count": 3,
   "outputs": [],
   "source": [
    "gray = cv2.cvtColor(image, cv2.COLOR_BGR2GRAY)"
   ],
   "metadata": {
    "collapsed": false,
    "pycharm": {
     "name": "#%%\n"
    }
   }
  },
  {
   "cell_type": "code",
   "execution_count": 4,
   "outputs": [],
   "source": [
    "blurred = cv2.GaussianBlur(gray, (5, 5), 0)"
   ],
   "metadata": {
    "collapsed": false,
    "pycharm": {
     "name": "#%%\n"
    }
   }
  },
  {
   "cell_type": "code",
   "execution_count": 5,
   "outputs": [],
   "source": [
    "cv2.imshow(\"Image\", np.hstack([image]))"
   ],
   "metadata": {
    "collapsed": false,
    "pycharm": {
     "name": "#%%\n"
    }
   }
  },
  {
   "cell_type": "markdown",
   "source": [
    "### Simple thresholding"
   ],
   "metadata": {
    "collapsed": false,
    "pycharm": {
     "name": "#%% md\n"
    }
   }
  },
  {
   "cell_type": "code",
   "execution_count": 6,
   "outputs": [],
   "source": [
    "(_, thresh_inv_simple) = cv2.threshold(blurred, 70, 255, cv2.THRESH_BINARY_INV)\n",
    "\n",
    "cv2.imshow(\"Simple thresholding inverse\", np.hstack([thresh_inv_simple]))"
   ],
   "metadata": {
    "collapsed": false,
    "pycharm": {
     "name": "#%%\n"
    }
   }
  },
  {
   "cell_type": "markdown",
   "source": [
    "### Adaptive thresholding"
   ],
   "metadata": {
    "collapsed": false,
    "pycharm": {
     "name": "#%% md\n"
    }
   }
  },
  {
   "cell_type": "code",
   "execution_count": 7,
   "outputs": [],
   "source": [
    "thresh_adaptive_mean = cv2.adaptiveThreshold(blurred,\n",
    "                               255,\n",
    "                               cv2.ADAPTIVE_THRESH_MEAN_C,\n",
    "                               cv2.THRESH_BINARY_INV,\n",
    "                               11,\n",
    "                               4\n",
    ")\n",
    "\n",
    "cv2.imshow(\"Adaptive thresholding mean\", np.hstack([thresh_adaptive_mean]))"
   ],
   "metadata": {
    "collapsed": false,
    "pycharm": {
     "name": "#%%\n"
    }
   }
  },
  {
   "cell_type": "code",
   "execution_count": 8,
   "outputs": [],
   "source": [
    "thresh_adaptive_guassian = cv2.adaptiveThreshold(blurred,\n",
    "                               255,\n",
    "                               cv2.ADAPTIVE_THRESH_GAUSSIAN_C,\n",
    "                               cv2.THRESH_BINARY_INV,\n",
    "                               15,\n",
    "                               3\n",
    ")\n",
    "\n",
    "cv2.imshow(\"Adaptive thresholding guassian\", np.hstack([thresh_adaptive_guassian]))"
   ],
   "metadata": {
    "collapsed": false,
    "pycharm": {
     "name": "#%%\n"
    }
   }
  },
  {
   "cell_type": "markdown",
   "source": [
    "### OTSU thresholding"
   ],
   "metadata": {
    "collapsed": false,
    "pycharm": {
     "name": "#%% md\n"
    }
   }
  },
  {
   "cell_type": "code",
   "execution_count": 9,
   "outputs": [],
   "source": [
    "T_otsu = mahotas.thresholding.otsu(blurred)\n",
    "thresh_otsu = image.copy()\n",
    "thresh_otsu[thresh_otsu > T_otsu] = 255\n",
    "thresh_otsu[thresh_otsu < 255] = 0\n",
    "thresh_otsu = cv2.bitwise_not(thresh_otsu)\n",
    "\n",
    "cv2.imshow(\"Otsu thresholding\", np.hstack([thresh_otsu]))"
   ],
   "metadata": {
    "collapsed": false,
    "pycharm": {
     "name": "#%%\n"
    }
   }
  },
  {
   "cell_type": "markdown",
   "source": [
    "### RC thresholding"
   ],
   "metadata": {
    "collapsed": false,
    "pycharm": {
     "name": "#%% md\n"
    }
   }
  },
  {
   "cell_type": "code",
   "execution_count": 10,
   "outputs": [
    {
     "data": {
      "text/plain": "115"
     },
     "execution_count": 10,
     "metadata": {},
     "output_type": "execute_result"
    }
   ],
   "source": [
    "T_RC = mahotas.thresholding.rc(blurred)\n",
    "thresh_RC = image.copy()\n",
    "thresh_RC[thresh_RC > T_RC] = 255\n",
    "thresh_RC[thresh_RC < 255] = 0\n",
    "thresh_RC = cv2.bitwise_not(thresh_RC)\n",
    "\n",
    "cv2.imshow(\"RC thresholding\", np.hstack([thresh_RC]))\n",
    "cv2.waitKey(0)"
   ],
   "metadata": {
    "collapsed": false,
    "pycharm": {
     "name": "#%%\n"
    }
   }
  },
  {
   "cell_type": "markdown",
   "source": [
    "### Comments\n",
    "\n",
    "Simple thresholding does great job when objects' intensities are similar,\n",
    "because in my case I could threshold black objects better than other methods,\n",
    "but the stickies could not be threshold.\n",
    "Adaptive is treating inner side of the objects as background, although could\n",
    "identify contours.\n",
    "OTSU and RC results are identical, they both could remove the background, but\n",
    "shadows were also kind of treated as foreground.\n"
   ],
   "metadata": {
    "collapsed": false,
    "pycharm": {
     "name": "#%% md\n"
    }
   }
  }
 ],
 "metadata": {
  "kernelspec": {
   "display_name": "Python 3",
   "language": "python",
   "name": "python3"
  },
  "language_info": {
   "codemirror_mode": {
    "name": "ipython",
    "version": 2
   },
   "file_extension": ".py",
   "mimetype": "text/x-python",
   "name": "python",
   "nbconvert_exporter": "python",
   "pygments_lexer": "ipython2",
   "version": "2.7.6"
  }
 },
 "nbformat": 4,
 "nbformat_minor": 0
}